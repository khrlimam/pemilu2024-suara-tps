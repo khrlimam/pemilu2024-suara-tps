{
 "cells": [
  {
   "cell_type": "code",
   "execution_count": 1,
   "metadata": {},
   "outputs": [
    {
     "name": "stderr",
     "output_type": "stream",
     "text": [
      "/Users/khairulimam/anaconda3/lib/python3.7/site-packages/pandas/compat/_optional.py:138: UserWarning: Pandas requires version '2.7.0' or newer of 'numexpr' (version '2.6.8' currently installed).\n",
      "  warnings.warn(msg, UserWarning)\n"
     ]
    }
   ],
   "source": [
    "import pandas as pd\n",
    "import scrapy\n",
    "from bs4 import BeautifulSoup\n",
    "import requests\n",
    "import multitasking"
   ]
  },
  {
   "cell_type": "code",
   "execution_count": 2,
   "metadata": {},
   "outputs": [],
   "source": [
    "BASE_URL = \"https://sirekap-obj-data.kpu.go.id\"\n",
    "PPWP = f'{BASE_URL}/pemilu/ppwp.json'\n",
    "\n",
    "def base_request(url, *kode):\n",
    "    tree = '/'.join(map(str, kode))\n",
    "    return f\"{url}/{tree}.json\"\n",
    "\n",
    "def wilayah(*kode):\n",
    "    return base_request(f\"{BASE_URL}/wilayah/pemilu/ppwp\", *kode)\n",
    "\n",
    "def hhcw(*kode):\n",
    "    return base_request(f\"{BASE_URL}/pemilu/hhcw/ppwp\", *kode)\n",
    "\n",
    "def req(url):\n",
    "    return requests.get(url).json()"
   ]
  },
  {
   "cell_type": "code",
   "execution_count": 3,
   "metadata": {},
   "outputs": [],
   "source": [
    "pwp = req(PPWP)"
   ]
  },
  {
   "cell_type": "code",
   "execution_count": 4,
   "metadata": {},
   "outputs": [
    {
     "data": {
      "text/plain": [
       "{'100025': {'ts': '2024-02-14 18:44:00',\n",
       "  'nama': 'H. ANIES RASYID BASWEDAN, Ph.D. - Dr. (H.C.) H. A. MUHAIMIN ISKANDAR',\n",
       "  'warna': '#8CB9BD',\n",
       "  'nomor_urut': 1},\n",
       " '100026': {'ts': '2024-02-14 18:44:00',\n",
       "  'nama': 'H. PRABOWO SUBIANTO - GIBRAN RAKABUMING RAKA',\n",
       "  'warna': '#C7B7A3',\n",
       "  'nomor_urut': 2},\n",
       " '100027': {'ts': '2024-02-14 18:44:00',\n",
       "  'nama': 'H. GANJAR PRANOWO, S.H., M.I.P. - Prof. Dr. H. M. MAHFUD MD',\n",
       "  'warna': '#B67352',\n",
       "  'nomor_urut': 3}}"
      ]
     },
     "execution_count": 4,
     "metadata": {},
     "output_type": "execute_result"
    }
   ],
   "source": [
    "pwp"
   ]
  },
  {
   "cell_type": "code",
   "execution_count": 5,
   "metadata": {},
   "outputs": [],
   "source": [
    "provinces = req(wilayah(0))"
   ]
  },
  {
   "cell_type": "code",
   "execution_count": 16,
   "metadata": {},
   "outputs": [],
   "source": [
    "kode_provinsi = sorted([item.get('kode') for item in provinces])"
   ]
  },
  {
   "cell_type": "code",
   "execution_count": 17,
   "metadata": {},
   "outputs": [],
   "source": [
    "def safe_get(obj, key, default=\"-\"):\n",
    "    try:\n",
    "        return obj.get(key, default)\n",
    "    except:\n",
    "        return default;"
   ]
  },
  {
   "cell_type": "code",
   "execution_count": 22,
   "metadata": {},
   "outputs": [],
   "source": [
    "@multitasking.task\n",
    "def get_kabupaten(kode):\n",
    "    kabupaten = req(wilayah(kode))\n",
    "    for kab in kabupaten:\n",
    "        kode_kabupaten = kab.get(\"kode\")\n",
    "        nama_kabupaten = kab.get(\"nama\")\n",
    "        kecamatan = req(wilayah(kode, kode_kabupaten))\n",
    "        for kec in kecamatan:\n",
    "            kode_kec = kec.get(\"kode\")\n",
    "            nama_kec = kec.get(\"nama\")\n",
    "            lurahs = req(wilayah(kode, kode_kabupaten, kode_kec))\n",
    "            for lurah in lurahs:\n",
    "                kode_lurah = lurah.get(\"kode\")\n",
    "                nama_lurah = lurah.get(\"nama\")\n",
    "                tpss = req(wilayah(kode, kode_kabupaten, kode_kec, kode_lurah))\n",
    "                for tps in tpss:\n",
    "                    kode_tps = tps.get(\"kode\")\n",
    "                    nama_tps = tps.get(\"nama\")\n",
    "                    suara = req(hhcw(kode, kode_kabupaten, kode_kec, kode_lurah, kode_tps))\n",
    "                    administrasi = suara.get('administrasi', {})\n",
    "                    chart = suara.get('chart', {})\n",
    "                    suara1 = safe_get(chart, '100025', 0)\n",
    "                    suara2 = safe_get(chart, \"100026\", 0)\n",
    "                    suara3 = safe_get(chart, \"100027\", 0)\n",
    "                    suara_sah = safe_get(administrasi, \"suara_sah\", 0)\n",
    "                    suara_tidak_sah = safe_get(administrasi, \"suara_tidak_sah\", 0)\n",
    "                    total_suara = safe_get(administrasi, 'suara_total', 0)\n",
    "                    total_suara_paslon = int(suara1) + int(suara2) + int(suara3)\n",
    "                    print(f\"TPS: {kode_tps}, PASLON01: {suara1:03d}, PASLON02: {suara2:03d}, PASLON03: {suara3:03d}, SUARA SAH: {suara_sah:03d}, TOTAL SUARA PASLON: {total_suara_paslon:03d}\")"
   ]
  },
  {
   "cell_type": "code",
   "execution_count": 23,
   "metadata": {},
   "outputs": [
    {
     "data": {
      "text/plain": [
       "<Thread(Thread-9, started 123145465561088)>"
      ]
     },
     "execution_count": 23,
     "metadata": {},
     "output_type": "execute_result"
    },
    {
     "name": "stdout",
     "output_type": "stream",
     "text": [
      "TPS: 1105072002001, PASLON01: 121, PASLON02: 15, PASLON03: 0, SUARA SAH: 136, TOTAL SUARA PASLON: 136\n",
      "TPS: 1105072002002, PASLON01: 149, PASLON02: 14, PASLON03: 1, SUARA SAH: -, TOTAL SUARA PASLON: 164\n",
      "TPS: 1105072004001, PASLON01: 0, PASLON02: 0, PASLON03: 0, SUARA SAH: -, TOTAL SUARA PASLON: 0\n",
      "TPS: 1105072003001, PASLON01: 159, PASLON02: 32, PASLON03: 2, SUARA SAH: -, TOTAL SUARA PASLON: 193\n",
      "TPS: 1105072001001, PASLON01: 172, PASLON02: 24, PASLON03: 2, SUARA SAH: 198, TOTAL SUARA PASLON: 198\n",
      "TPS: 1105072005001, PASLON01: 0, PASLON02: 0, PASLON03: 0, SUARA SAH: 0, TOTAL SUARA PASLON: 0\n",
      "TPS: 1105072005002, PASLON01: 123, PASLON02: 31, PASLON03: 1, SUARA SAH: -, TOTAL SUARA PASLON: 155\n",
      "TPS: 1105072007001, PASLON01: 0, PASLON02: 0, PASLON03: 0, SUARA SAH: 138, TOTAL SUARA PASLON: 0\n",
      "TPS: 1105072006001, PASLON01: 145, PASLON02: 35, PASLON03: 1, SUARA SAH: -, TOTAL SUARA PASLON: 181\n",
      "TPS: 1105072008001, PASLON01: 0, PASLON02: 0, PASLON03: 0, SUARA SAH: -, TOTAL SUARA PASLON: 0\n",
      "TPS: 1105072008002, PASLON01: 0, PASLON02: 0, PASLON03: 0, SUARA SAH: -, TOTAL SUARA PASLON: 0\n",
      "TPS: 1105072026001, PASLON01: 146, PASLON02: 44, PASLON03: 13, SUARA SAH: -, TOTAL SUARA PASLON: 203\n",
      "TPS: 1105072027001, PASLON01: 0, PASLON02: 0, PASLON03: 0, SUARA SAH: -, TOTAL SUARA PASLON: 0\n",
      "TPS: 1105072010001, PASLON01: 189, PASLON02: 17, PASLON03: 3, SUARA SAH: -, TOTAL SUARA PASLON: 209\n",
      "TPS: 1105072010002, PASLON01: 215, PASLON02: 17, PASLON03: 4, SUARA SAH: 236, TOTAL SUARA PASLON: 236\n",
      "TPS: 1105072009001, PASLON01: 0, PASLON02: 0, PASLON03: 0, SUARA SAH: -, TOTAL SUARA PASLON: 0\n",
      "TPS: 1105072009002, PASLON01: 0, PASLON02: 0, PASLON03: 0, SUARA SAH: -, TOTAL SUARA PASLON: 0\n",
      "TPS: 1105072011001, PASLON01: 181, PASLON02: 32, PASLON03: 0, SUARA SAH: 213, TOTAL SUARA PASLON: 213\n",
      "TPS: 1105072014001, PASLON01: 110, PASLON02: 31, PASLON03: 1, SUARA SAH: -, TOTAL SUARA PASLON: 142\n",
      "TPS: 1105072013001, PASLON01: 0, PASLON02: 0, PASLON03: 0, SUARA SAH: -, TOTAL SUARA PASLON: 0\n",
      "TPS: 1105072015001, PASLON01: 220, PASLON02: 24, PASLON03: 3, SUARA SAH: -, TOTAL SUARA PASLON: 247\n",
      "TPS: 1105072015002, PASLON01: 215, PASLON02: 37, PASLON03: 1, SUARA SAH: -, TOTAL SUARA PASLON: 253\n",
      "TPS: 1105072012001, PASLON01: 200, PASLON02: 27, PASLON03: 2, SUARA SAH: 229, TOTAL SUARA PASLON: 229\n",
      "TPS: 1105072012002, PASLON01: 180, PASLON02: 28, PASLON03: 1, SUARA SAH: 209, TOTAL SUARA PASLON: 209\n",
      "TPS: 1105072012003, PASLON01: 162, PASLON02: 38, PASLON03: 2, SUARA SAH: 202, TOTAL SUARA PASLON: 202\n",
      "TPS: 1105072016001, PASLON01: 0, PASLON02: 0, PASLON03: 0, SUARA SAH: -, TOTAL SUARA PASLON: 0\n",
      "TPS: 1105072016002, PASLON01: 0, PASLON02: 0, PASLON03: 0, SUARA SAH: -, TOTAL SUARA PASLON: 0\n",
      "TPS: 1105072018001, PASLON01: 133, PASLON02: 18, PASLON03: 0, SUARA SAH: -, TOTAL SUARA PASLON: 151\n",
      "TPS: 1105072022001, PASLON01: 0, PASLON02: 0, PASLON03: 0, SUARA SAH: -, TOTAL SUARA PASLON: 0\n",
      "TPS: 1105072022002, PASLON01: 0, PASLON02: 0, PASLON03: 0, SUARA SAH: -, TOTAL SUARA PASLON: 0\n"
     ]
    }
   ],
   "source": [
    "get_kabupaten(11)"
   ]
  },
  {
   "cell_type": "code",
   "execution_count": 25,
   "metadata": {},
   "outputs": [
    {
     "name": "stdout",
     "output_type": "stream",
     "text": [
      "10\n",
      "TPS: 1105072021003, PASLON01: 187, PASLON02: 28, PASLON03: 6, SUARA SAH: -, TOTAL SUARA PASLON: 221\n",
      "TPS: 1105072020001, PASLON01: 173, PASLON02: 22, PASLON03: 3, SUARA SAH: -, TOTAL SUARA PASLON: 198\n",
      "TPS: 1105072019001, PASLON01: 0, PASLON02: 0, PASLON03: 0, SUARA SAH: -, TOTAL SUARA PASLON: 0\n",
      "TPS: 1105072017001, PASLON01: 0, PASLON02: 0, PASLON03: 0, SUARA SAH: -, TOTAL SUARA PASLON: 0\n",
      "TPS: 1105072023001, PASLON01: 220, PASLON02: 42, PASLON03: 3, SUARA SAH: -, TOTAL SUARA PASLON: 265\n",
      "TPS: 1105072023002, PASLON01: 223, PASLON02: 28, PASLON03: 1, SUARA SAH: -, TOTAL SUARA PASLON: 252\n",
      "TPS: 1105072024001, PASLON01: 0, PASLON02: 0, PASLON03: 0, SUARA SAH: 160, TOTAL SUARA PASLON: 0\n",
      "TPS: 1105072025001, PASLON01: 0, PASLON02: 0, PASLON03: 0, SUARA SAH: 196, TOTAL SUARA PASLON: 0\n",
      "TPS: 1105072025002, PASLON01: 176, PASLON02: 21, PASLON03: 1, SUARA SAH: -, TOTAL SUARA PASLON: 198\n"
     ]
    }
   ],
   "source": [
    "print(f\"{10:02d}\")"
   ]
  }
 ],
 "metadata": {
  "kernelspec": {
   "display_name": "Python 3",
   "language": "python",
   "name": "python3"
  },
  "language_info": {
   "codemirror_mode": {
    "name": "ipython",
    "version": 3
   },
   "file_extension": ".py",
   "mimetype": "text/x-python",
   "name": "python",
   "nbconvert_exporter": "python",
   "pygments_lexer": "ipython3",
   "version": "3.7.1"
  }
 },
 "nbformat": 4,
 "nbformat_minor": 2
}
