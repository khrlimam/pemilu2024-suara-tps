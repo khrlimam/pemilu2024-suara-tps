{
 "cells": [
  {
   "cell_type": "code",
   "execution_count": 9,
   "metadata": {},
   "outputs": [],
   "source": [
    "import pandas as pd\n",
    "from crawl_tps import *"
   ]
  },
  {
   "cell_type": "code",
   "execution_count": null,
   "metadata": {},
   "outputs": [],
   "source": []
  },
  {
   "cell_type": "code",
   "execution_count": 4,
   "metadata": {},
   "outputs": [],
   "source": [
    "df1 = pd.read_csv('dataset/2024-03-02 10:06.csv', low_memory=False)\n",
    "df2 = pd.read_csv('dataset/2024-03-04 07-38.csv', low_memory=False)"
   ]
  },
  {
   "cell_type": "code",
   "execution_count": 7,
   "metadata": {},
   "outputs": [
    {
     "data": {
      "text/html": [
       "<div>\n",
       "<style scoped>\n",
       "    .dataframe tbody tr th:only-of-type {\n",
       "        vertical-align: middle;\n",
       "    }\n",
       "\n",
       "    .dataframe tbody tr th {\n",
       "        vertical-align: top;\n",
       "    }\n",
       "\n",
       "    .dataframe thead th {\n",
       "        text-align: right;\n",
       "    }\n",
       "</style>\n",
       "<table border=\"1\" class=\"dataframe\">\n",
       "  <thead>\n",
       "    <tr style=\"text-align: right;\">\n",
       "      <th></th>\n",
       "      <th>tps</th>\n",
       "      <th>paslon01</th>\n",
       "      <th>paslon02</th>\n",
       "      <th>paslon03</th>\n",
       "      <th>total_suara_paslon</th>\n",
       "      <th>suara_sah</th>\n",
       "      <th>suara_lebih</th>\n",
       "      <th>suara_tidak_sah</th>\n",
       "      <th>total_suara</th>\n",
       "      <th>img1</th>\n",
       "      <th>...</th>\n",
       "      <th>pemilih_dpt_pr</th>\n",
       "      <th>jumlah_pemilih_dpt</th>\n",
       "      <th>pengguna_dpt_lk</th>\n",
       "      <th>pengguna_dpt_pr</th>\n",
       "      <th>pengguna_dptb_lk</th>\n",
       "      <th>pengguna_dptb_pr</th>\n",
       "      <th>pengguna_dpk_lk</th>\n",
       "      <th>pengguna_dpk_pr</th>\n",
       "      <th>jumlah_pengguna_lk</th>\n",
       "      <th>jumlah_pengguna_pr</th>\n",
       "    </tr>\n",
       "  </thead>\n",
       "  <tbody>\n",
       "    <tr>\n",
       "      <th>263628</th>\n",
       "      <td>1671131003014</td>\n",
       "      <td>63</td>\n",
       "      <td>147</td>\n",
       "      <td>9</td>\n",
       "      <td>219</td>\n",
       "      <td>219</td>\n",
       "      <td>0</td>\n",
       "      <td>15</td>\n",
       "      <td>234</td>\n",
       "      <td>https://sirekap-obj-formc.kpu.go.id/a5c4/pemil...</td>\n",
       "      <td>...</td>\n",
       "      <td>138</td>\n",
       "      <td>270</td>\n",
       "      <td>120</td>\n",
       "      <td>114</td>\n",
       "      <td>0</td>\n",
       "      <td>0</td>\n",
       "      <td>0</td>\n",
       "      <td>0</td>\n",
       "      <td>120</td>\n",
       "      <td>114</td>\n",
       "    </tr>\n",
       "  </tbody>\n",
       "</table>\n",
       "<p>1 rows × 27 columns</p>\n",
       "</div>"
      ],
      "text/plain": [
       "                  tps  paslon01  paslon02  paslon03  total_suara_paslon  \\\n",
       "263628  1671131003014        63       147         9                 219   \n",
       "\n",
       "        suara_sah  suara_lebih  suara_tidak_sah  total_suara  \\\n",
       "263628        219            0               15          234   \n",
       "\n",
       "                                                     img1  ... pemilih_dpt_pr  \\\n",
       "263628  https://sirekap-obj-formc.kpu.go.id/a5c4/pemil...  ...            138   \n",
       "\n",
       "       jumlah_pemilih_dpt  pengguna_dpt_lk  pengguna_dpt_pr  pengguna_dptb_lk  \\\n",
       "263628                270              120              114                 0   \n",
       "\n",
       "        pengguna_dptb_pr  pengguna_dpk_lk  pengguna_dpk_pr  \\\n",
       "263628                 0                0                0   \n",
       "\n",
       "        jumlah_pengguna_lk  jumlah_pengguna_pr  \n",
       "263628                 120                 114  \n",
       "\n",
       "[1 rows x 27 columns]"
      ]
     },
     "execution_count": 7,
     "metadata": {},
     "output_type": "execute_result"
    }
   ],
   "source": [
    "df2[df2.tps.isin(df1.tps) == False]"
   ]
  },
  {
   "cell_type": "code",
   "execution_count": 10,
   "metadata": {},
   "outputs": [
    {
     "data": {
      "text/plain": [
       "'https://pemilu2024.kpu.go.id/pilpres/hitung-suara/16/1671/167113/1671131003/1671131003014'"
      ]
     },
     "execution_count": 10,
     "metadata": {},
     "output_type": "execute_result"
    }
   ],
   "source": [
    "tps_webpage(1671131003014)"
   ]
  },
  {
   "cell_type": "code",
   "execution_count": 11,
   "metadata": {},
   "outputs": [],
   "source": [
    "df2.tps.to_csv('input/kode-tps.txt', index=False, header=None)"
   ]
  }
 ],
 "metadata": {
  "kernelspec": {
   "display_name": "Python 3 (ipykernel)",
   "language": "python",
   "name": "python3"
  },
  "language_info": {
   "codemirror_mode": {
    "name": "ipython",
    "version": 3
   },
   "file_extension": ".py",
   "mimetype": "text/x-python",
   "name": "python",
   "nbconvert_exporter": "python",
   "pygments_lexer": "ipython3",
   "version": "3.12.1"
  }
 },
 "nbformat": 4,
 "nbformat_minor": 4
}
