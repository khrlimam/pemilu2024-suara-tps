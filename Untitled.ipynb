{
 "cells": [
  {
   "cell_type": "code",
   "execution_count": 17,
   "metadata": {},
   "outputs": [],
   "source": [
    "import pandas as pd\n",
    "import scrapy\n",
    "from bs4 import BeautifulSoup\n",
    "import requests\n",
    "import multitasking"
   ]
  },
  {
   "cell_type": "code",
   "execution_count": null,
   "metadata": {},
   "outputs": [],
   "source": []
  },
  {
   "cell_type": "code",
   "execution_count": 33,
   "metadata": {},
   "outputs": [],
   "source": [
    "BASE_URL = \"https://sirekap-obj-data.kpu.go.id\"\n",
    "PPWP = f'{BASE_URL}/pemilu/ppwp.json'\n",
    "\n",
    "def base_request(url, *kode):\n",
    "    tree = '/'.join(map(str, kode))\n",
    "    return f\"{url}/{tree}.json\"\n",
    "\n",
    "def wilayah(*kode):\n",
    "    return base_request(f\"{BASE_URL}/wilayah/pemilu/ppwp\", *kode)\n",
    "\n",
    "def hhcw(*kode):\n",
    "    return base_request(f\"{BASE_URL}/pemilu/hhcw/ppwp\", *kode)\n",
    "\n",
    "@multitasking.task\n",
    "def req_parallel(url, fn):\n",
    "    res = requests.get(url).json()\n",
    "    fn(res)\n",
    "    \n",
    "def req(url):\n",
    "    return requests.get(url).json()"
   ]
  },
  {
   "cell_type": "code",
   "execution_count": 35,
   "metadata": {},
   "outputs": [],
   "source": [
    "pwp = req(PPWP)"
   ]
  },
  {
   "cell_type": "code",
   "execution_count": 40,
   "metadata": {},
   "outputs": [
    {
     "data": {
      "text/plain": [
       "<Thread(Thread-13, started 123145526611968)>"
      ]
     },
     "execution_count": 40,
     "metadata": {},
     "output_type": "execute_result"
    },
    {
     "name": "stdout",
     "output_type": "stream",
     "text": [
      "H. ANIES RASYID BASWEDAN, Ph.D. - Dr. (H.C.) H. A. MUHAIMIN ISKANDAR\n"
     ]
    }
   ],
   "source": [
    "req_parallel(PPWP, lambda x: print(x.get('100025').get('nama')))"
   ]
  },
  {
   "cell_type": "code",
   "execution_count": 38,
   "metadata": {},
   "outputs": [
    {
     "data": {
      "text/plain": [
       "{'100025': {'ts': '2024-02-14 18:44:00',\n",
       "  'nama': 'H. ANIES RASYID BASWEDAN, Ph.D. - Dr. (H.C.) H. A. MUHAIMIN ISKANDAR',\n",
       "  'warna': '#8CB9BD',\n",
       "  'nomor_urut': 1},\n",
       " '100026': {'ts': '2024-02-14 18:44:00',\n",
       "  'nama': 'H. PRABOWO SUBIANTO - GIBRAN RAKABUMING RAKA',\n",
       "  'warna': '#C7B7A3',\n",
       "  'nomor_urut': 2},\n",
       " '100027': {'ts': '2024-02-14 18:44:00',\n",
       "  'nama': 'H. GANJAR PRANOWO, S.H., M.I.P. - Prof. Dr. H. M. MAHFUD MD',\n",
       "  'warna': '#B67352',\n",
       "  'nomor_urut': 3}}"
      ]
     },
     "execution_count": 38,
     "metadata": {},
     "output_type": "execute_result"
    }
   ],
   "source": [
    "pwp"
   ]
  },
  {
   "cell_type": "code",
   "execution_count": 21,
   "metadata": {},
   "outputs": [],
   "source": [
    "provinces = req(wilayah(0))"
   ]
  },
  {
   "cell_type": "code",
   "execution_count": 22,
   "metadata": {},
   "outputs": [
    {
     "ename": "TypeError",
     "evalue": "'Thread' object is not iterable",
     "output_type": "error",
     "traceback": [
      "\u001b[0;31m---------------------------------------------------------------------------\u001b[0m",
      "\u001b[0;31mTypeError\u001b[0m                                 Traceback (most recent call last)",
      "\u001b[0;32m<ipython-input-22-0681e2bea50a>\u001b[0m in \u001b[0;36m<module>\u001b[0;34m\u001b[0m\n\u001b[0;32m----> 1\u001b[0;31m \u001b[0mkode_provinsi\u001b[0m \u001b[0;34m=\u001b[0m \u001b[0msorted\u001b[0m\u001b[0;34m(\u001b[0m\u001b[0;34m[\u001b[0m\u001b[0mitem\u001b[0m\u001b[0;34m.\u001b[0m\u001b[0mget\u001b[0m\u001b[0;34m(\u001b[0m\u001b[0;34m'kode'\u001b[0m\u001b[0;34m)\u001b[0m \u001b[0;32mfor\u001b[0m \u001b[0mitem\u001b[0m \u001b[0;32min\u001b[0m \u001b[0mprovinces\u001b[0m\u001b[0;34m]\u001b[0m\u001b[0;34m)\u001b[0m\u001b[0;34m\u001b[0m\u001b[0;34m\u001b[0m\u001b[0m\n\u001b[0m",
      "\u001b[0;31mTypeError\u001b[0m: 'Thread' object is not iterable"
     ]
    }
   ],
   "source": [
    "kode_provinsi = sorted([item.get('kode') for item in provinces])"
   ]
  },
  {
   "cell_type": "code",
   "execution_count": 11,
   "metadata": {},
   "outputs": [],
   "source": [
    "def safe_get(obj, key, default=\"-\"):\n",
    "    try:\n",
    "        return obj.get(key, default)\n",
    "    except:\n",
    "        return default;"
   ]
  },
  {
   "cell_type": "code",
   "execution_count": 16,
   "metadata": {},
   "outputs": [],
   "source": [
    "@multitasking.task\n",
    "def get_kecamatan(prov, kab):\n",
    "    return req(wilayah(prov, kab))\n",
    "\n",
    "@multitasking.task\n",
    "def get_lurah(prov, kab, kec):\n",
    "    return req(wilayah(prov, kab, kec))\n",
    "\n",
    "@multitasking.task\n",
    "def get_tps(prov, kab, kec, lurah):\n",
    "    return req(wilayah(prov, kab, kec, lurah))\n",
    "\n",
    "@multitasking.task\n",
    "def suara_tps(kode, kode_kabupaten, kode_kec, kode_lurah, kode_tps):\n",
    "    return req(hhcw(kode, kode_kabupaten, kode_kec, kode_lurah, kode_tps))"
   ]
  },
  {
   "cell_type": "code",
   "execution_count": null,
   "metadata": {},
   "outputs": [],
   "source": []
  },
  {
   "cell_type": "code",
   "execution_count": null,
   "metadata": {},
   "outputs": [],
   "source": []
  },
  {
   "cell_type": "code",
   "execution_count": 8,
   "metadata": {},
   "outputs": [],
   "source": [
    "@multitasking.task\n",
    "def get_kabupaten(kode):\n",
    "    kabupaten = req(wilayah(kode))\n",
    "    for kab in kabupaten:\n",
    "        kode_kabupaten = kab.get(\"kode\")\n",
    "        nama_kabupaten = kab.get(\"nama\")\n",
    "        kecamatan = get_kecamatan(kode, kode_kabupaten)\n",
    "        for kec in kecamatan:\n",
    "            kode_kec = kec.get(\"kode\")\n",
    "            nama_kec = kec.get(\"nama\")\n",
    "            lurahs = get_lurah(kode, kode_kabupaten, kode_kec)\n",
    "            for lurah in lurahs:\n",
    "                kode_lurah = lurah.get(\"kode\")\n",
    "                nama_lurah = lurah.get(\"nama\")\n",
    "                tpss = get_tps(kode, kode_kabupaten, kode_kec, kode_lurah)\n",
    "                for tps in tpss:\n",
    "                    kode_tps = tps.get(\"kode\")\n",
    "                    nama_tps = tps.get(\"nama\")\n",
    "                    suara = suara_tps(kode, kode_kabupaten, kode_kec, kode_lurah, kode_tps)\n",
    "                    administrasi = suara.get('administrasi', {})\n",
    "                    chart = suara.get('chart', {})\n",
    "                    suara1 = safe_get(chart, '100025', 0)\n",
    "                    suara2 = safe_get(chart, \"100026\", 0)\n",
    "                    suara3 = safe_get(chart, \"100027\", 0)\n",
    "                    suara_sah = safe_get(administrasi, \"suara_sah\", 0)\n",
    "                    suara_tidak_sah = safe_get(administrasi, \"suara_tidak_sah\", 0)\n",
    "                    total_suara = safe_get(administrasi, 'suara_total', 0)\n",
    "                    total_suara_paslon = int(suara1) + int(suara2) + int(suara3)\n",
    "                    print(f\"TPS: {kode_tps}, PASLON01: {suara1:03d}, PASLON02: {suara2:03d}, PASLON03: {suara3:03d}, SUARA SAH: {suara_sah:03d}, TOTAL SUARA PASLON: {total_suara_paslon:03d}\")"
   ]
  },
  {
   "cell_type": "code",
   "execution_count": 10,
   "metadata": {},
   "outputs": [
    {
     "data": {
      "text/plain": [
       "<Thread(Thread-5, started 123145531867136)>"
      ]
     },
     "execution_count": 10,
     "metadata": {},
     "output_type": "execute_result"
    },
    {
     "name": "stdout",
     "output_type": "stream",
     "text": [
      "TPS: 1105062014001, PASLON01: 000, PASLON02: 000, PASLON03: 000, SUARA SAH: 256, TOTAL SUARA PASLON: 000\n",
      "TPS: 1105062016001, PASLON01: 000, PASLON02: 000, PASLON03: 000, SUARA SAH: 152, TOTAL SUARA PASLON: 000\n",
      "TPS: 1105062015001, PASLON01: 000, PASLON02: 000, PASLON03: 000, SUARA SAH: 000, TOTAL SUARA PASLON: 000\n",
      "TPS: 1105062017001, PASLON01: 109, PASLON02: 033, PASLON03: 000, SUARA SAH: 000, TOTAL SUARA PASLON: 142\n",
      "TPS: 1105012016001, PASLON01: 000, PASLON02: 000, PASLON03: 000, SUARA SAH: 000, TOTAL SUARA PASLON: 000\n",
      "TPS: 1105012016002, PASLON01: 168, PASLON02: 074, PASLON03: 005, SUARA SAH: 247, TOTAL SUARA PASLON: 247\n",
      "TPS: 1105012016003, PASLON01: 209, PASLON02: 048, PASLON03: 002, SUARA SAH: 000, TOTAL SUARA PASLON: 259\n",
      "TPS: 1105012016004, PASLON01: 000, PASLON02: 000, PASLON03: 000, SUARA SAH: 261, TOTAL SUARA PASLON: 000\n",
      "TPS: 1105072002001, PASLON01: 121, PASLON02: 015, PASLON03: 000, SUARA SAH: 136, TOTAL SUARA PASLON: 136\n",
      "TPS: 1105012016005, PASLON01: 189, PASLON02: 061, PASLON03: 008, SUARA SAH: 258, TOTAL SUARA PASLON: 258\n",
      "TPS: 1105012016006, PASLON01: 000, PASLON02: 000, PASLON03: 000, SUARA SAH: 247, TOTAL SUARA PASLON: 000\n",
      "TPS: 1105072002002, PASLON01: 149, PASLON02: 014, PASLON03: 001, SUARA SAH: 000, TOTAL SUARA PASLON: 164\n",
      "TPS: 1105012016007, PASLON01: 179, PASLON02: 070, PASLON03: 004, SUARA SAH: 253, TOTAL SUARA PASLON: 253\n",
      "TPS: 1105012016008, PASLON01: 000, PASLON02: 000, PASLON03: 000, SUARA SAH: 000, TOTAL SUARA PASLON: 000\n",
      "TPS: 1105012016009, PASLON01: 163, PASLON02: 075, PASLON03: 008, SUARA SAH: 246, TOTAL SUARA PASLON: 246\n",
      "TPS: 1105072004001, PASLON01: 000, PASLON02: 000, PASLON03: 000, SUARA SAH: 000, TOTAL SUARA PASLON: 000\n",
      "TPS: 1105012007001, PASLON01: 000, PASLON02: 000, PASLON03: 000, SUARA SAH: 000, TOTAL SUARA PASLON: 000\n",
      "TPS: 1105072003001, PASLON01: 159, PASLON02: 032, PASLON03: 002, SUARA SAH: 000, TOTAL SUARA PASLON: 193\n",
      "TPS: 1105012007002, PASLON01: 162, PASLON02: 080, PASLON03: 006, SUARA SAH: 248, TOTAL SUARA PASLON: 248\n",
      "TPS: 1105072001001, PASLON01: 172, PASLON02: 024, PASLON03: 002, SUARA SAH: 198, TOTAL SUARA PASLON: 198\n",
      "TPS: 1105012007003, PASLON01: 175, PASLON02: 054, PASLON03: 002, SUARA SAH: 231, TOTAL SUARA PASLON: 231\n",
      "TPS: 1105012007004, PASLON01: 000, PASLON02: 000, PASLON03: 000, SUARA SAH: 245, TOTAL SUARA PASLON: 000\n",
      "TPS: 1105012007005, PASLON01: 181, PASLON02: 062, PASLON03: 004, SUARA SAH: 247, TOTAL SUARA PASLON: 247\n",
      "TPS: 1105012007006, PASLON01: 176, PASLON02: 066, PASLON03: 004, SUARA SAH: 246, TOTAL SUARA PASLON: 246\n",
      "TPS: 1105012007007, PASLON01: 000, PASLON02: 000, PASLON03: 000, SUARA SAH: 255, TOTAL SUARA PASLON: 000\n",
      "TPS: 1105012007008, PASLON01: 000, PASLON02: 000, PASLON03: 000, SUARA SAH: 247, TOTAL SUARA PASLON: 000\n",
      "TPS: 1105072005001, PASLON01: 000, PASLON02: 000, PASLON03: 000, SUARA SAH: 000, TOTAL SUARA PASLON: 000TPS: 1105012007009, PASLON01: 000, PASLON02: 000, PASLON03: 000, SUARA SAH: 000, TOTAL SUARA PASLON: 000\n",
      "\n",
      "TPS: 1105012007010, PASLON01: 000, PASLON02: 000, PASLON03: 000, SUARA SAH: 254, TOTAL SUARA PASLON: 000\n",
      "TPS: 1105012007011, PASLON01: 000, PASLON02: 000, PASLON03: 000, SUARA SAH: 236, TOTAL SUARA PASLON: 000\n",
      "TPS: 1105072005002, PASLON01: 123, PASLON02: 031, PASLON03: 001, SUARA SAH: 000, TOTAL SUARA PASLON: 155\n",
      "TPS: 1105072007001, PASLON01: 000, PASLON02: 000, PASLON03: 000, SUARA SAH: 138, TOTAL SUARA PASLON: 000\n",
      "TPS: 1105072006001, PASLON01: 145, PASLON02: 035, PASLON03: 001, SUARA SAH: 000, TOTAL SUARA PASLON: 181\n",
      "TPS: 1105012007012, PASLON01: 000, PASLON02: 000, PASLON03: 000, SUARA SAH: 241, TOTAL SUARA PASLON: 000\n",
      "TPS: 1105012007013, PASLON01: 000, PASLON02: 000, PASLON03: 000, SUARA SAH: 000, TOTAL SUARA PASLON: 000\n",
      "TPS: 1105072008001, PASLON01: 000, PASLON02: 000, PASLON03: 000, SUARA SAH: 000, TOTAL SUARA PASLON: 000\n",
      "TPS: 1105072008002, PASLON01: 000, PASLON02: 000, PASLON03: 000, SUARA SAH: 000, TOTAL SUARA PASLON: 000\n",
      "TPS: 1105072026001, PASLON01: 146, PASLON02: 044, PASLON03: 013, SUARA SAH: 000, TOTAL SUARA PASLON: 203\n",
      "TPS: 1105012007014, PASLON01: 000, PASLON02: 000, PASLON03: 000, SUARA SAH: 000, TOTAL SUARA PASLON: 000\n",
      "TPS: 1105012007015, PASLON01: 183, PASLON02: 078, PASLON03: 002, SUARA SAH: 263, TOTAL SUARA PASLON: 263\n",
      "TPS: 1105072027001, PASLON01: 000, PASLON02: 000, PASLON03: 000, SUARA SAH: 000, TOTAL SUARA PASLON: 000\n",
      "TPS: 1105012007016, PASLON01: 000, PASLON02: 000, PASLON03: 000, SUARA SAH: 258, TOTAL SUARA PASLON: 000\n",
      "TPS: 1105012014001, PASLON01: 196, PASLON02: 042, PASLON03: 004, SUARA SAH: 242, TOTAL SUARA PASLON: 242\n",
      "TPS: 1105012014002, PASLON01: 000, PASLON02: 000, PASLON03: 000, SUARA SAH: 000, TOTAL SUARA PASLON: 000\n",
      "TPS: 1105012014003, PASLON01: 000, PASLON02: 000, PASLON03: 000, SUARA SAH: 000, TOTAL SUARA PASLON: 000\n",
      "TPS: 1105072010001, PASLON01: 189, PASLON02: 017, PASLON03: 003, SUARA SAH: 000, TOTAL SUARA PASLON: 209\n",
      "TPS: 1105072010002, PASLON01: 215, PASLON02: 017, PASLON03: 004, SUARA SAH: 236, TOTAL SUARA PASLON: 236\n",
      "TPS: 1105012014004, PASLON01: 000, PASLON02: 000, PASLON03: 000, SUARA SAH: 000, TOTAL SUARA PASLON: 000\n",
      "TPS: 1105072009001, PASLON01: 000, PASLON02: 000, PASLON03: 000, SUARA SAH: 000, TOTAL SUARA PASLON: 000\n",
      "TPS: 1105012014005, PASLON01: 167, PASLON02: 051, PASLON03: 006, SUARA SAH: 000, TOTAL SUARA PASLON: 224\n",
      "TPS: 1105012014006, PASLON01: 000, PASLON02: 000, PASLON03: 000, SUARA SAH: 232, TOTAL SUARA PASLON: 000\n",
      "TPS: 1105072009002, PASLON01: 000, PASLON02: 000, PASLON03: 000, SUARA SAH: 000, TOTAL SUARA PASLON: 000\n",
      "TPS: 1105072011001, PASLON01: 181, PASLON02: 032, PASLON03: 000, SUARA SAH: 213, TOTAL SUARA PASLON: 213\n",
      "TPS: 1105012014007, PASLON01: 000, PASLON02: 000, PASLON03: 000, SUARA SAH: 000, TOTAL SUARA PASLON: 000\n",
      "TPS: 1105012014008, PASLON01: 000, PASLON02: 000, PASLON03: 000, SUARA SAH: 000, TOTAL SUARA PASLON: 000\n",
      "TPS: 1105012014009, PASLON01: 000, PASLON02: 000, PASLON03: 000, SUARA SAH: 197, TOTAL SUARA PASLON: 000\n",
      "TPS: 1105072014001, PASLON01: 110, PASLON02: 031, PASLON03: 001, SUARA SAH: 000, TOTAL SUARA PASLON: 142\n",
      "TPS: 1105012014010, PASLON01: 000, PASLON02: 000, PASLON03: 000, SUARA SAH: 000, TOTAL SUARA PASLON: 000\n",
      "TPS: 1105012013001, PASLON01: 000, PASLON02: 000, PASLON03: 000, SUARA SAH: 242, TOTAL SUARA PASLON: 000\n",
      "TPS: 1105072013001, PASLON01: 000, PASLON02: 000, PASLON03: 000, SUARA SAH: 000, TOTAL SUARA PASLON: 000\n",
      "TPS: 1105072015001, PASLON01: 220, PASLON02: 024, PASLON03: 003, SUARA SAH: 000, TOTAL SUARA PASLON: 247\n",
      "TPS: 1105072015002, PASLON01: 215, PASLON02: 037, PASLON03: 001, SUARA SAH: 000, TOTAL SUARA PASLON: 253\n",
      "TPS: 1105072012001, PASLON01: 200, PASLON02: 027, PASLON03: 002, SUARA SAH: 229, TOTAL SUARA PASLON: 229\n",
      "TPS: 1105072012002, PASLON01: 180, PASLON02: 028, PASLON03: 001, SUARA SAH: 209, TOTAL SUARA PASLON: 209\n"
     ]
    },
    {
     "name": "stderr",
     "output_type": "stream",
     "text": [
      "Exception in thread Thread-4:\n",
      "Traceback (most recent call last):\n",
      "  File \"/Users/khairulimam/anaconda3/lib/python3.7/site-packages/urllib3/connectionpool.py\", line 600, in urlopen\n",
      "    chunked=chunked)\n",
      "  File \"/Users/khairulimam/anaconda3/lib/python3.7/site-packages/urllib3/connectionpool.py\", line 384, in _make_request\n",
      "    six.raise_from(e, None)\n",
      "  File \"<string>\", line 2, in raise_from\n",
      "  File \"/Users/khairulimam/anaconda3/lib/python3.7/site-packages/urllib3/connectionpool.py\", line 380, in _make_request\n",
      "    httplib_response = conn.getresponse()\n",
      "  File \"/Users/khairulimam/anaconda3/lib/python3.7/http/client.py\", line 1321, in getresponse\n",
      "    response.begin()\n",
      "  File \"/Users/khairulimam/anaconda3/lib/python3.7/http/client.py\", line 296, in begin\n",
      "    version, status, reason = self._read_status()\n",
      "  File \"/Users/khairulimam/anaconda3/lib/python3.7/http/client.py\", line 265, in _read_status\n",
      "    raise RemoteDisconnected(\"Remote end closed connection without\"\n",
      "http.client.RemoteDisconnected: Remote end closed connection without response\n",
      "\n",
      "During handling of the above exception, another exception occurred:\n",
      "\n",
      "Traceback (most recent call last):\n",
      "  File \"/Users/khairulimam/anaconda3/lib/python3.7/site-packages/requests/adapters.py\", line 449, in send\n",
      "    timeout=timeout\n",
      "  File \"/Users/khairulimam/anaconda3/lib/python3.7/site-packages/urllib3/connectionpool.py\", line 638, in urlopen\n",
      "    _stacktrace=sys.exc_info()[2])\n",
      "  File \"/Users/khairulimam/anaconda3/lib/python3.7/site-packages/urllib3/util/retry.py\", line 367, in increment\n",
      "    raise six.reraise(type(error), error, _stacktrace)\n",
      "  File \"/Users/khairulimam/anaconda3/lib/python3.7/site-packages/urllib3/packages/six.py\", line 685, in reraise\n",
      "    raise value.with_traceback(tb)\n",
      "  File \"/Users/khairulimam/anaconda3/lib/python3.7/site-packages/urllib3/connectionpool.py\", line 600, in urlopen\n",
      "    chunked=chunked)\n",
      "  File \"/Users/khairulimam/anaconda3/lib/python3.7/site-packages/urllib3/connectionpool.py\", line 384, in _make_request\n",
      "    six.raise_from(e, None)\n",
      "  File \"<string>\", line 2, in raise_from\n",
      "  File \"/Users/khairulimam/anaconda3/lib/python3.7/site-packages/urllib3/connectionpool.py\", line 380, in _make_request\n",
      "    httplib_response = conn.getresponse()\n",
      "  File \"/Users/khairulimam/anaconda3/lib/python3.7/http/client.py\", line 1321, in getresponse\n",
      "    response.begin()\n",
      "  File \"/Users/khairulimam/anaconda3/lib/python3.7/http/client.py\", line 296, in begin\n",
      "    version, status, reason = self._read_status()\n",
      "  File \"/Users/khairulimam/anaconda3/lib/python3.7/http/client.py\", line 265, in _read_status\n",
      "    raise RemoteDisconnected(\"Remote end closed connection without\"\n",
      "urllib3.exceptions.ProtocolError: ('Connection aborted.', RemoteDisconnected('Remote end closed connection without response'))\n",
      "\n",
      "During handling of the above exception, another exception occurred:\n",
      "\n",
      "Traceback (most recent call last):\n",
      "  File \"/Users/khairulimam/anaconda3/lib/python3.7/threading.py\", line 917, in _bootstrap_inner\n",
      "    self.run()\n",
      "  File \"/Users/khairulimam/anaconda3/lib/python3.7/threading.py\", line 865, in run\n",
      "    self._target(*self._args, **self._kwargs)\n",
      "  File \"/Users/khairulimam/anaconda3/lib/python3.7/site-packages/multitasking/__init__.py\", line 102, in _run_via_pool\n",
      "    return callee(*args, **kwargs)\n",
      "  File \"<ipython-input-8-c3258fccfd18>\", line 19, in get_kabupaten\n",
      "    suara = req(hhcw(kode, kode_kabupaten, kode_kec, kode_lurah, kode_tps))\n",
      "  File \"<ipython-input-2-c05a8c63baad>\", line 15, in req\n",
      "    return requests.get(url).json()\n",
      "  File \"/Users/khairulimam/anaconda3/lib/python3.7/site-packages/requests/api.py\", line 75, in get\n",
      "    return request('get', url, params=params, **kwargs)\n",
      "  File \"/Users/khairulimam/anaconda3/lib/python3.7/site-packages/requests/api.py\", line 60, in request\n",
      "    return session.request(method=method, url=url, **kwargs)\n",
      "  File \"/Users/khairulimam/anaconda3/lib/python3.7/site-packages/requests/sessions.py\", line 533, in request\n",
      "    resp = self.send(prep, **send_kwargs)\n",
      "  File \"/Users/khairulimam/anaconda3/lib/python3.7/site-packages/requests/sessions.py\", line 646, in send\n",
      "    r = adapter.send(request, **kwargs)\n",
      "  File \"/Users/khairulimam/anaconda3/lib/python3.7/site-packages/requests/adapters.py\", line 498, in send\n",
      "    raise ConnectionError(err, request=request)\n",
      "requests.exceptions.ConnectionError: ('Connection aborted.', RemoteDisconnected('Remote end closed connection without response'))\n",
      "\n"
     ]
    },
    {
     "name": "stdout",
     "output_type": "stream",
     "text": [
      "TPS: 1105072012003, PASLON01: 162, PASLON02: 038, PASLON03: 002, SUARA SAH: 202, TOTAL SUARA PASLON: 202\n",
      "TPS: 1105072016001, PASLON01: 000, PASLON02: 000, PASLON03: 000, SUARA SAH: 000, TOTAL SUARA PASLON: 000\n",
      "TPS: 1105072016002, PASLON01: 000, PASLON02: 000, PASLON03: 000, SUARA SAH: 000, TOTAL SUARA PASLON: 000\n",
      "TPS: 1105072018001, PASLON01: 133, PASLON02: 018, PASLON03: 000, SUARA SAH: 000, TOTAL SUARA PASLON: 151\n",
      "TPS: 1105072022001, PASLON01: 000, PASLON02: 000, PASLON03: 000, SUARA SAH: 000, TOTAL SUARA PASLON: 000\n",
      "TPS: 1105072022002, PASLON01: 000, PASLON02: 000, PASLON03: 000, SUARA SAH: 000, TOTAL SUARA PASLON: 000\n",
      "TPS: 1105072021001, PASLON01: 000, PASLON02: 000, PASLON03: 000, SUARA SAH: 000, TOTAL SUARA PASLON: 000\n",
      "TPS: 1105072021002, PASLON01: 173, PASLON02: 022, PASLON03: 006, SUARA SAH: 000, TOTAL SUARA PASLON: 201\n",
      "TPS: 1105072021003, PASLON01: 187, PASLON02: 028, PASLON03: 006, SUARA SAH: 000, TOTAL SUARA PASLON: 221\n",
      "TPS: 1105072020001, PASLON01: 173, PASLON02: 022, PASLON03: 003, SUARA SAH: 000, TOTAL SUARA PASLON: 198\n",
      "TPS: 1105072019001, PASLON01: 000, PASLON02: 000, PASLON03: 000, SUARA SAH: 000, TOTAL SUARA PASLON: 000\n",
      "TPS: 1105072017001, PASLON01: 000, PASLON02: 000, PASLON03: 000, SUARA SAH: 000, TOTAL SUARA PASLON: 000\n",
      "TPS: 1105072023001, PASLON01: 220, PASLON02: 042, PASLON03: 003, SUARA SAH: 000, TOTAL SUARA PASLON: 265\n",
      "TPS: 1105072023002, PASLON01: 223, PASLON02: 028, PASLON03: 001, SUARA SAH: 000, TOTAL SUARA PASLON: 252\n",
      "TPS: 1105072024001, PASLON01: 000, PASLON02: 000, PASLON03: 000, SUARA SAH: 160, TOTAL SUARA PASLON: 000\n",
      "TPS: 1105072025001, PASLON01: 000, PASLON02: 000, PASLON03: 000, SUARA SAH: 196, TOTAL SUARA PASLON: 000\n",
      "TPS: 1105072025002, PASLON01: 176, PASLON02: 021, PASLON03: 001, SUARA SAH: 000, TOTAL SUARA PASLON: 198\n",
      "TPS: 1105062002001, PASLON01: 124, PASLON02: 014, PASLON03: 004, SUARA SAH: 000, TOTAL SUARA PASLON: 142\n",
      "TPS: 1105062002002, PASLON01: 000, PASLON02: 000, PASLON03: 000, SUARA SAH: 000, TOTAL SUARA PASLON: 000\n",
      "TPS: 1105062001001, PASLON01: 000, PASLON02: 000, PASLON03: 000, SUARA SAH: 000, TOTAL SUARA PASLON: 000\n",
      "TPS: 1105062003001, PASLON01: 116, PASLON02: 051, PASLON03: 003, SUARA SAH: 170, TOTAL SUARA PASLON: 170\n",
      "TPS: 1105062003002, PASLON01: 000, PASLON02: 000, PASLON03: 000, SUARA SAH: 186, TOTAL SUARA PASLON: 000\n",
      "TPS: 1105062004001, PASLON01: 000, PASLON02: 000, PASLON03: 000, SUARA SAH: 197, TOTAL SUARA PASLON: 000\n",
      "TPS: 1105062004002, PASLON01: 163, PASLON02: 032, PASLON03: 008, SUARA SAH: 203, TOTAL SUARA PASLON: 203\n",
      "TPS: 1105062005001, PASLON01: 000, PASLON02: 000, PASLON03: 000, SUARA SAH: 000, TOTAL SUARA PASLON: 000\n",
      "TPS: 1105062006001, PASLON01: 000, PASLON02: 000, PASLON03: 000, SUARA SAH: 096, TOTAL SUARA PASLON: 000\n",
      "TPS: 1105062007001, PASLON01: 000, PASLON02: 000, PASLON03: 000, SUARA SAH: 185, TOTAL SUARA PASLON: 000\n",
      "TPS: 1105062009001, PASLON01: 000, PASLON02: 000, PASLON03: 000, SUARA SAH: 000, TOTAL SUARA PASLON: 000\n",
      "TPS: 1105062009002, PASLON01: 000, PASLON02: 000, PASLON03: 000, SUARA SAH: 000, TOTAL SUARA PASLON: 000\n",
      "TPS: 1105062008001, PASLON01: 000, PASLON02: 000, PASLON03: 000, SUARA SAH: 246, TOTAL SUARA PASLON: 000\n",
      "TPS: 1105062008002, PASLON01: 212, PASLON02: 033, PASLON03: 001, SUARA SAH: 246, TOTAL SUARA PASLON: 246\n",
      "TPS: 1105062010001, PASLON01: 000, PASLON02: 000, PASLON03: 000, SUARA SAH: 146, TOTAL SUARA PASLON: 000\n",
      "TPS: 1105062010002, PASLON01: 105, PASLON02: 045, PASLON03: 005, SUARA SAH: 155, TOTAL SUARA PASLON: 155\n"
     ]
    },
    {
     "name": "stderr",
     "output_type": "stream",
     "text": [
      "Exception in thread Thread-5:\n",
      "Traceback (most recent call last):\n",
      "  File \"/Users/khairulimam/anaconda3/lib/python3.7/site-packages/urllib3/connectionpool.py\", line 600, in urlopen\n",
      "    chunked=chunked)\n",
      "  File \"/Users/khairulimam/anaconda3/lib/python3.7/site-packages/urllib3/connectionpool.py\", line 384, in _make_request\n",
      "    six.raise_from(e, None)\n",
      "  File \"<string>\", line 2, in raise_from\n",
      "  File \"/Users/khairulimam/anaconda3/lib/python3.7/site-packages/urllib3/connectionpool.py\", line 380, in _make_request\n",
      "    httplib_response = conn.getresponse()\n",
      "  File \"/Users/khairulimam/anaconda3/lib/python3.7/http/client.py\", line 1321, in getresponse\n",
      "    response.begin()\n",
      "  File \"/Users/khairulimam/anaconda3/lib/python3.7/http/client.py\", line 296, in begin\n",
      "    version, status, reason = self._read_status()\n",
      "  File \"/Users/khairulimam/anaconda3/lib/python3.7/http/client.py\", line 265, in _read_status\n",
      "    raise RemoteDisconnected(\"Remote end closed connection without\"\n",
      "http.client.RemoteDisconnected: Remote end closed connection without response\n",
      "\n",
      "During handling of the above exception, another exception occurred:\n",
      "\n",
      "Traceback (most recent call last):\n",
      "  File \"/Users/khairulimam/anaconda3/lib/python3.7/site-packages/requests/adapters.py\", line 449, in send\n",
      "    timeout=timeout\n",
      "  File \"/Users/khairulimam/anaconda3/lib/python3.7/site-packages/urllib3/connectionpool.py\", line 638, in urlopen\n",
      "    _stacktrace=sys.exc_info()[2])\n",
      "  File \"/Users/khairulimam/anaconda3/lib/python3.7/site-packages/urllib3/util/retry.py\", line 367, in increment\n",
      "    raise six.reraise(type(error), error, _stacktrace)\n",
      "  File \"/Users/khairulimam/anaconda3/lib/python3.7/site-packages/urllib3/packages/six.py\", line 685, in reraise\n",
      "    raise value.with_traceback(tb)\n",
      "  File \"/Users/khairulimam/anaconda3/lib/python3.7/site-packages/urllib3/connectionpool.py\", line 600, in urlopen\n",
      "    chunked=chunked)\n",
      "  File \"/Users/khairulimam/anaconda3/lib/python3.7/site-packages/urllib3/connectionpool.py\", line 384, in _make_request\n",
      "    six.raise_from(e, None)\n",
      "  File \"<string>\", line 2, in raise_from\n",
      "  File \"/Users/khairulimam/anaconda3/lib/python3.7/site-packages/urllib3/connectionpool.py\", line 380, in _make_request\n",
      "    httplib_response = conn.getresponse()\n",
      "  File \"/Users/khairulimam/anaconda3/lib/python3.7/http/client.py\", line 1321, in getresponse\n",
      "    response.begin()\n",
      "  File \"/Users/khairulimam/anaconda3/lib/python3.7/http/client.py\", line 296, in begin\n",
      "    version, status, reason = self._read_status()\n",
      "  File \"/Users/khairulimam/anaconda3/lib/python3.7/http/client.py\", line 265, in _read_status\n",
      "    raise RemoteDisconnected(\"Remote end closed connection without\"\n",
      "urllib3.exceptions.ProtocolError: ('Connection aborted.', RemoteDisconnected('Remote end closed connection without response'))\n",
      "\n",
      "During handling of the above exception, another exception occurred:\n",
      "\n",
      "Traceback (most recent call last):\n",
      "  File \"/Users/khairulimam/anaconda3/lib/python3.7/threading.py\", line 917, in _bootstrap_inner\n",
      "    self.run()\n",
      "  File \"/Users/khairulimam/anaconda3/lib/python3.7/threading.py\", line 865, in run\n",
      "    self._target(*self._args, **self._kwargs)\n",
      "  File \"/Users/khairulimam/anaconda3/lib/python3.7/site-packages/multitasking/__init__.py\", line 102, in _run_via_pool\n",
      "    return callee(*args, **kwargs)\n",
      "  File \"<ipython-input-8-c3258fccfd18>\", line 19, in get_kabupaten\n",
      "    suara = req(hhcw(kode, kode_kabupaten, kode_kec, kode_lurah, kode_tps))\n",
      "  File \"<ipython-input-2-c05a8c63baad>\", line 15, in req\n",
      "    return requests.get(url).json()\n",
      "  File \"/Users/khairulimam/anaconda3/lib/python3.7/site-packages/requests/api.py\", line 75, in get\n",
      "    return request('get', url, params=params, **kwargs)\n",
      "  File \"/Users/khairulimam/anaconda3/lib/python3.7/site-packages/requests/api.py\", line 60, in request\n",
      "    return session.request(method=method, url=url, **kwargs)\n",
      "  File \"/Users/khairulimam/anaconda3/lib/python3.7/site-packages/requests/sessions.py\", line 533, in request\n",
      "    resp = self.send(prep, **send_kwargs)\n",
      "  File \"/Users/khairulimam/anaconda3/lib/python3.7/site-packages/requests/sessions.py\", line 646, in send\n",
      "    r = adapter.send(request, **kwargs)\n",
      "  File \"/Users/khairulimam/anaconda3/lib/python3.7/site-packages/requests/adapters.py\", line 498, in send\n",
      "    raise ConnectionError(err, request=request)\n",
      "requests.exceptions.ConnectionError: ('Connection aborted.', RemoteDisconnected('Remote end closed connection without response'))\n",
      "\n"
     ]
    }
   ],
   "source": [
    "get_kabupaten(11)"
   ]
  },
  {
   "cell_type": "code",
   "execution_count": null,
   "metadata": {},
   "outputs": [],
   "source": []
  }
 ],
 "metadata": {
  "kernelspec": {
   "display_name": "Python 3",
   "language": "python",
   "name": "python3"
  },
  "language_info": {
   "codemirror_mode": {
    "name": "ipython",
    "version": 3
   },
   "file_extension": ".py",
   "mimetype": "text/x-python",
   "name": "python",
   "nbconvert_exporter": "python",
   "pygments_lexer": "ipython3",
   "version": "3.7.1"
  }
 },
 "nbformat": 4,
 "nbformat_minor": 2
}
