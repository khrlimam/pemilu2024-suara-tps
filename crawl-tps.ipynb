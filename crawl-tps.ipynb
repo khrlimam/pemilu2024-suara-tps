{
 "cells": [
  {
   "cell_type": "code",
   "execution_count": 2,
   "metadata": {},
   "outputs": [],
   "source": [
    "import os\n",
    "import requests\n",
    "import multitasking"
   ]
  },
  {
   "cell_type": "code",
   "execution_count": null,
   "metadata": {},
   "outputs": [],
   "source": []
  },
  {
   "cell_type": "code",
   "execution_count": 3,
   "metadata": {},
   "outputs": [],
   "source": [
    "OUTPUT_LOCATION = \"dataset\"\n",
    "FILE_NAME = \"suara-tps.csv\"\n",
    "dataset_path = os.path.join(OUTPUT_LOCATION, FILE_NAME)\n",
    "BASE_URL = \"https://sirekap-obj-data.kpu.go.id\"\n",
    "PPWP = f'{BASE_URL}/pemilu/ppwp.json'\n",
    "\n",
    "HEADERS = {\n",
    "    'User-Agent': 'Mozilla/5.0 (Macintosh; Intel Mac OS X 10.15; rv:122.0) Gecko/20100101 Firefox/122.0',\n",
    "    'Accept': 'application/json, text/plain, */*',\n",
    "    'Accept-Language': 'en,en-US;q=0.5',\n",
    "    # 'Accept-Encoding': 'gzip, deflate, br',\n",
    "    'Origin': 'https://pemilu2024.kpu.go.id',\n",
    "    'Connection': 'keep-alive',\n",
    "    'Referer': 'https://pemilu2024.kpu.go.id/',\n",
    "    'Sec-Fetch-Dest': 'empty',\n",
    "    'Sec-Fetch-Mode': 'cors',\n",
    "    'Sec-Fetch-Site': 'same-site',\n",
    "    'Sec-GPC': '1',\n",
    "}\n",
    "\n",
    "def base_request(url, *kode):\n",
    "    tree = '/'.join(map(str, kode))\n",
    "    return f\"{url}/{tree}.json\"\n",
    "\n",
    "def wilayah(*kode):\n",
    "    return base_request(f\"{BASE_URL}/wilayah/pemilu/ppwp\", *kode)\n",
    "\n",
    "def hhcw(*kode):\n",
    "    return base_request(f\"{BASE_URL}/pemilu/hhcw/ppwp\", *kode)\n",
    "\n",
    "@multitasking.task\n",
    "def req_parallel(url, fn):\n",
    "    res = requests.get(url, headers=HEADERS).json()\n",
    "    fn(res)\n",
    "    \n",
    "def req(url):\n",
    "    return requests.get(url, headers=HEADERS).json()"
   ]
  },
  {
   "cell_type": "code",
   "execution_count": 4,
   "metadata": {},
   "outputs": [
    {
     "data": {
      "text/plain": [
       "'dataset/suara-tps.csv'"
      ]
     },
     "execution_count": 4,
     "metadata": {},
     "output_type": "execute_result"
    }
   ],
   "source": [
    "dataset_path"
   ]
  },
  {
   "cell_type": "code",
   "execution_count": 5,
   "metadata": {},
   "outputs": [],
   "source": [
    "tpsaceh = req(hhcw(11,1105,110507,1105072002,1105072002001))"
   ]
  },
  {
   "cell_type": "code",
   "execution_count": 6,
   "metadata": {},
   "outputs": [
    {
     "data": {
      "text/plain": [
       "{'suara_sah': 136,\n",
       " 'suara_total': 142,\n",
       " 'pemilih_dpt_j': 156,\n",
       " 'pemilih_dpt_l': 74,\n",
       " 'pemilih_dpt_p': 82,\n",
       " 'pengguna_dpt_j': 140,\n",
       " 'pengguna_dpt_l': 65,\n",
       " 'pengguna_dpt_p': 75,\n",
       " 'pengguna_dptb_j': 0,\n",
       " 'pengguna_dptb_l': 0,\n",
       " 'pengguna_dptb_p': 0,\n",
       " 'suara_tidak_sah': 6,\n",
       " 'pengguna_total_j': 142,\n",
       " 'pengguna_total_l': 66,\n",
       " 'pengguna_total_p': 76,\n",
       " 'pengguna_non_dpt_j': 2,\n",
       " 'pengguna_non_dpt_l': 1,\n",
       " 'pengguna_non_dpt_p': 1}"
      ]
     },
     "execution_count": 6,
     "metadata": {},
     "output_type": "execute_result"
    }
   ],
   "source": [
    "tpsaceh.get('administrasi')"
   ]
  },
  {
   "cell_type": "code",
   "execution_count": 7,
   "metadata": {},
   "outputs": [],
   "source": [
    "a = (1,2,3,4,5)\n",
    "images = tpsaceh.get('images', ('','',''))\n",
    "data=a+tuple(images)"
   ]
  },
  {
   "cell_type": "code",
   "execution_count": 11,
   "metadata": {},
   "outputs": [
    {
     "data": {
      "text/plain": [
       "(1, 2, 3, 4, 5)"
      ]
     },
     "execution_count": 11,
     "metadata": {},
     "output_type": "execute_result"
    }
   ],
   "source": [
    "data[:-3]"
   ]
  },
  {
   "cell_type": "code",
   "execution_count": 12,
   "metadata": {},
   "outputs": [],
   "source": [
    "def create_file():\n",
    "    try:\n",
    "        os.makedirs(OUTPUT_LOCATION)\n",
    "        with open(dataset_path, 'a') as f:\n",
    "            f.write(\"tps,paslon01,paslon02,paslon03,suara_sah,suara_tidak_sah,total_suara_paslon,img1,img2,img3\\n\")\n",
    "    except:\n",
    "        print(\"file %s exists\" % dataset_path)\n",
    "\n",
    "def write(*data):\n",
    "    print(f\"writing: {data[:-3]}\")\n",
    "    with open(dataset_path, 'a') as f:\n",
    "        f.write(f\"{','.join(map(str, data))}\\n\")"
   ]
  },
  {
   "cell_type": "code",
   "execution_count": 16,
   "metadata": {},
   "outputs": [
    {
     "name": "stdout",
     "output_type": "stream",
     "text": [
      "file dataset/suara-tps.csv exists\n"
     ]
    }
   ],
   "source": [
    "create_file()"
   ]
  },
  {
   "cell_type": "code",
   "execution_count": 17,
   "metadata": {},
   "outputs": [],
   "source": [
    "pwp = req(PPWP)"
   ]
  },
  {
   "cell_type": "code",
   "execution_count": 18,
   "metadata": {},
   "outputs": [
    {
     "data": {
      "text/plain": [
       "<Thread(Thread-4, started 123145386524672)>"
      ]
     },
     "execution_count": 18,
     "metadata": {},
     "output_type": "execute_result"
    },
    {
     "name": "stdout",
     "output_type": "stream",
     "text": [
      "H. ANIES RASYID BASWEDAN, Ph.D. - Dr. (H.C.) H. A. MUHAIMIN ISKANDAR\n"
     ]
    }
   ],
   "source": [
    "req_parallel(PPWP, fn=lambda x: print(x.get('100025').get('nama')))"
   ]
  },
  {
   "cell_type": "code",
   "execution_count": 19,
   "metadata": {},
   "outputs": [
    {
     "data": {
      "text/plain": [
       "{'100025': {'ts': '2024-02-14 18:44:00',\n",
       "  'nama': 'H. ANIES RASYID BASWEDAN, Ph.D. - Dr. (H.C.) H. A. MUHAIMIN ISKANDAR',\n",
       "  'warna': '#8CB9BD',\n",
       "  'nomor_urut': 1},\n",
       " '100026': {'ts': '2024-02-14 18:44:00',\n",
       "  'nama': 'H. PRABOWO SUBIANTO - GIBRAN RAKABUMING RAKA',\n",
       "  'warna': '#C7B7A3',\n",
       "  'nomor_urut': 2},\n",
       " '100027': {'ts': '2024-02-14 18:44:00',\n",
       "  'nama': 'H. GANJAR PRANOWO, S.H., M.I.P. - Prof. Dr. H. M. MAHFUD MD',\n",
       "  'warna': '#B67352',\n",
       "  'nomor_urut': 3}}"
      ]
     },
     "execution_count": 19,
     "metadata": {},
     "output_type": "execute_result"
    }
   ],
   "source": [
    "pwp"
   ]
  },
  {
   "cell_type": "code",
   "execution_count": 20,
   "metadata": {},
   "outputs": [],
   "source": [
    "provinces = req(wilayah(0))"
   ]
  },
  {
   "cell_type": "code",
   "execution_count": 21,
   "metadata": {},
   "outputs": [],
   "source": [
    "kode_provinsi = sorted([item.get('kode') for item in provinces])"
   ]
  },
  {
   "cell_type": "code",
   "execution_count": 22,
   "metadata": {},
   "outputs": [],
   "source": [
    "def safe_get(obj, key, default=\"-\"):\n",
    "    try:\n",
    "        return obj.get(key, default)\n",
    "    except:\n",
    "        return default;"
   ]
  },
  {
   "cell_type": "code",
   "execution_count": 14,
   "metadata": {},
   "outputs": [],
   "source": [
    "@multitasking.task\n",
    "def get_province(kode=0):\n",
    "    req_parallel(wilayah(kode), lambda item: loop_province(item))\n",
    "    \n",
    "def loop_province(data):\n",
    "    for prov in data:\n",
    "        get_kabupaten(prov.get(\"kode\"))\n",
    "\n",
    "@multitasking.task\n",
    "def get_kabupaten(prov):\n",
    "    req_parallel(wilayah(prov), lambda item: loop_kabupaten(prov, item))\n",
    "    \n",
    "def loop_kabupaten(prov, data):\n",
    "    for kab in data:\n",
    "        get_kecamatan(prov, kab.get(\"kode\"))\n",
    "\n",
    "@multitasking.task\n",
    "def get_kecamatan(prov, kab):\n",
    "    req_parallel(wilayah(prov, kab), lambda item: loop_kecamatan(prov, kab, item))\n",
    "    \n",
    "def loop_kecamatan(prov, kab, data):\n",
    "    for kec in data:\n",
    "        get_lurah(prov, kab, kec.get(\"kode\"))\n",
    "\n",
    "@multitasking.task\n",
    "def get_lurah(prov, kab, kec):\n",
    "    req_parallel(wilayah(prov, kab, kec), lambda item: loop_lurah(prov, kab, kec, item))\n",
    "\n",
    "def loop_lurah(prov, kab, kec, data):\n",
    "    for lurah in data:\n",
    "        get_tps(prov, kab, kec, lurah.get(\"kode\"))\n",
    "    \n",
    "\n",
    "@multitasking.task\n",
    "def get_tps(prov, kab, kec, lurah):\n",
    "    req_parallel(wilayah(prov, kab, kec, lurah), lambda item: loop_tps(prov, kab, kec, lurah, item))\n",
    "    \n",
    "def loop_tps(prov, kab, kec, lurah, data):\n",
    "    for tps in data:\n",
    "        suara_tps(prov, kab, kec, lurah, tps)\n",
    "\n",
    "@multitasking.task\n",
    "def suara_tps(prov, kab, kec, lurah, tps):\n",
    "    suara = req(hhcw(prov, kab, kec, lurah, tps.get(\"kode\")))\n",
    "    process_suara(tps, suara)\n",
    "    \n",
    "def process_suara(tps, suara):\n",
    "    kode_tps = tps.get(\"kode\")\n",
    "    nama_tps = tps.get(\"nama\")\n",
    "    administrasi = safe_get(suara, 'administrasi', {})\n",
    "    img1, img2, img3 = tuple(safe_get(suara, 'images', ('','','')))\n",
    "    chart = suara.get('chart', {})\n",
    "    suara1 = safe_get(chart, '100025', 0)\n",
    "    suara2 = safe_get(chart, \"100026\", 0)\n",
    "    suara3 = safe_get(chart, \"100027\", 0)\n",
    "    suara_sah = safe_get(administrasi, \"suara_sah\", 0)\n",
    "    suara_tidak_sah = safe_get(administrasi, \"suara_tidak_sah\", 0)\n",
    "    total_suara = safe_get(administrasi, 'suara_total', 0)\n",
    "    total_suara_paslon = int(suara1) + int(suara2) + int(suara3)\n",
    "    write(kode_tps,suara1,suara2,suara3,suara_sah,suara_tidak_sah,total_suara,total_suara_paslon,img1,img2,img3)"
   ]
  },
  {
   "cell_type": "code",
   "execution_count": 24,
   "metadata": {},
   "outputs": [
    {
     "data": {
      "text/plain": [
       "<Thread(Thread-5, stopped 123145386524672)>"
      ]
     },
     "execution_count": 24,
     "metadata": {},
     "output_type": "execute_result"
    },
    {
     "name": "stdout",
     "output_type": "stream",
     "text": [
      "writing: ('5203182008007', 56, 117, 19, 192, 5, 197, 192, 'https://sirekap-obj-formc.kpu.go.id/0de1/pemilu/ppwp/52/03/18/20/08/5203182008007-20240214-212243--44348a1b-4e8a-46d6-9297-9ac930e395aa.jpg', 'https://sirekap-obj-formc.kpu.go.id/0de1/pemilu/ppwp/52/03/18/20/08/5203182008007-20240214-205410--176d4d79-b003-4593-a8cb-eb9a21f18c3a.jpg', 'https://sirekap-obj-formc.kpu.go.id/0de1/pemilu/ppwp/52/03/18/20/08/5203182008007-20240214-202506--366aeb7e-b21c-40dd-97c9-ed9609404e0e.jpg')\n",
      "writing: ('5272041011007', 0, 0, 0, 264, 2, 266, 0, 'https://sirekap-obj-formc.kpu.go.id/aff8/pemilu/ppwp/52/72/04/10/11/5272041011007-20240216-145849--0ddc2805-caf3-4ded-a36e-895cdef6f5d6.jpg', None, 'https://sirekap-obj-formc.kpu.go.id/aff8/pemilu/ppwp/52/72/04/10/11/5272041011007-20240216-145849--b8d9cebf-e64f-4093-94db-8d900e802f84.jpg')\n",
      "writing: ('5272041011010', 136, 122, 13, 271, 4, 275, 271, 'https://sirekap-obj-formc.kpu.go.id/6a1b/pemilu/ppwp/52/72/04/10/11/5272041011010-20240215-094126--c9bd7a5e-e70b-45b9-bdef-79a0e03eb6b0.jpg', 'https://sirekap-obj-formc.kpu.go.id/6a1b/pemilu/ppwp/52/72/04/10/11/5272041011010-20240215-094225--d6943ec9-5186-48d6-9570-c37f57ed7fc9.jpg', 'https://sirekap-obj-formc.kpu.go.id/6a1b/pemilu/ppwp/52/72/04/10/11/5272041011010-20240215-094336--959d08aa-969b-493c-b380-545372739ac5.jpg')\n",
      "writing: ('5272041011011', 125, 125, 13, 263, 2, 265, 263, 'https://sirekap-obj-formc.kpu.go.id/e5e6/pemilu/ppwp/52/72/04/10/11/5272041011011-20240215-105423--5b47eccc-e5c0-42fd-90c5-d46dc2a34955.jpg', 'https://sirekap-obj-formc.kpu.go.id/e5e6/pemilu/ppwp/52/72/04/10/11/5272041011011-20240215-104937--504524d1-dcdd-4d82-96a6-eb8d8e0d5158.jpg', 'https://sirekap-obj-formc.kpu.go.id/e5e6/pemilu/ppwp/52/72/04/10/11/5272041011011-20240215-105455--ae0cd11d-a14b-4711-93c0-63ec33aad0f8.jpg')\n",
      "writing: ('5205011002011', 107, 126, 17, 250, 4, 254, 250, 'https://sirekap-obj-formc.kpu.go.id/6e3b/pemilu/ppwp/52/05/01/10/02/5205011002011-20240215-102302--cf8222c8-1eef-4115-b912-ee47b2c84143.jpg', 'https://sirekap-obj-formc.kpu.go.id/6e3b/pemilu/ppwp/52/05/01/10/02/5205011002011-20240215-102827--fdb0a313-aeee-4a53-92d7-65285324ed10.jpg', 'https://sirekap-obj-formc.kpu.go.id/6e3b/pemilu/ppwp/52/05/01/10/02/5205011002011-20240215-102951--adb76cd5-d271-4c96-9fb0-5e97265cc231.jpg')\n",
      "writing: ('5205012009007', 0, 0, 0, 0, 0, 0, 0, None, None, None)\n",
      "writing: ('5205012013003', 0, 0, 0, 0, 0, 0, 0, None, None, None)\n",
      "writing: ('5272041007010', 0, 0, 0, 0, 0, 0, 0, None, None, None)\n",
      "writing: ('5272041007008', 0, 0, 0, 0, 0, 0, 0, None, None, None)\n",
      "writing: ('5203182008002', 21, 90, 48, 159, 3, 162, 159, 'https://sirekap-obj-formc.kpu.go.id/5eac/pemilu/ppwp/52/03/18/20/08/5203182008002-20240214-215259--198bf701-77e7-4f9c-a05b-9f71e679c9ef.jpg', 'https://sirekap-obj-formc.kpu.go.id/5eac/pemilu/ppwp/52/03/18/20/08/5203182008002-20240214-215602--bd5fb229-a89e-4904-aadd-56bbd564b6ec.jpg', 'https://sirekap-obj-formc.kpu.go.id/5eac/pemilu/ppwp/52/03/18/20/08/5203182008002-20240214-215656--f1bc757a-f828-49fa-82b8-538098315e80.jpg')\n",
      "writing: ('5203182008003', 34, 104, 41, 179, 4, 183, 179, 'https://sirekap-obj-formc.kpu.go.id/2514/pemilu/ppwp/52/03/18/20/08/5203182008003-20240214-194536--c15526b3-c82f-4c60-964a-1e8c427bc49f.jpg', 'https://sirekap-obj-formc.kpu.go.id/2514/pemilu/ppwp/52/03/18/20/08/5203182008003-20240214-221151--4997949c-a434-4c44-bc2b-64086ca8cbbf.jpg', 'https://sirekap-obj-formc.kpu.go.id/2514/pemilu/ppwp/52/03/18/20/08/5203182008003-20240214-195343--06f2a521-8c14-4a9a-843b-bdb1dcc302fd.jpg')\n",
      "writing: ('5203182008001', 29, 109, 42, 0, 0, 0, 180, 'https://sirekap-obj-formc.kpu.go.id/9636/pemilu/ppwp/52/03/18/20/08/5203182008001-20240214-220256--5c798972-c645-47b7-a754-c47ddb0c5cc9.jpg', 'https://sirekap-obj-formc.kpu.go.id/9636/pemilu/ppwp/52/03/18/20/08/5203182008001-20240215-071716--2fcfe4eb-08a1-4487-b3d0-4a5ab6182e17.jpg', 'https://sirekap-obj-formc.kpu.go.id/9636/pemilu/ppwp/52/03/18/20/08/5203182008001-20240214-231711--7cd79541-b3c5-4387-9b95-84dd63c56ff5.jpg')\n",
      "writing: ('5272041009002', 0, 0, 0, 259, 12, 271, 0, 'https://sirekap-obj-formc.kpu.go.id/1e9b/pemilu/ppwp/52/72/04/10/09/5272041009002-20240216-142324--7af5f309-50a9-4090-9987-47fc1c2755fd.jpg', None, 'https://sirekap-obj-formc.kpu.go.id/1e9b/pemilu/ppwp/52/72/04/10/09/5272041009002-20240216-142325--294ce2c5-52a4-4433-86db-967e5e12692e.jpg')\n",
      "writing: ('5203182008005', 51, 106, 26, 183, 4, 187, 183, 'https://sirekap-obj-formc.kpu.go.id/3220/pemilu/ppwp/52/03/18/20/08/5203182008005-20240214-202819--99826f14-c1f7-4709-9647-fefa486d37f3.jpg', 'https://sirekap-obj-formc.kpu.go.id/3220/pemilu/ppwp/52/03/18/20/08/5203182008005-20240214-200311--493a2d06-d0cf-47d3-bd17-29b0e4a43626.jpg', 'https://sirekap-obj-formc.kpu.go.id/3220/pemilu/ppwp/52/03/18/20/08/5203182008005-20240216-140712--42021858-8fd1-4199-aabb-de8df0461b80.jpg')\n",
      "writing: ('5203182008006', 66, 78, 13, 157, 1, 158, 157, 'https://sirekap-obj-formc.kpu.go.id/16c2/pemilu/ppwp/52/03/18/20/08/5203182008006-20240215-103606--d043316d-d4bd-4107-874f-477c07689831.jpg', 'https://sirekap-obj-formc.kpu.go.id/16c2/pemilu/ppwp/52/03/18/20/08/5203182008006-20240215-103628--36ffad04-a219-4862-b04b-1d78c29503fc.jpg', 'https://sirekap-obj-formc.kpu.go.id/16c2/pemilu/ppwp/52/03/18/20/08/5203182008006-20240215-103617--dc99a782-6782-46bf-a25e-1101847b094d.jpg')\n",
      "writing: ('5203182008004', 39, 134, 21, 194, 1, 195, 194, 'https://sirekap-obj-formc.kpu.go.id/e5f4/pemilu/ppwp/52/03/18/20/08/5203182008004-20240215-000046--30a9bee6-fb8b-48ca-a6a5-9129be3664c7.jpg', 'https://sirekap-obj-formc.kpu.go.id/e5f4/pemilu/ppwp/52/03/18/20/08/5203182008004-20240216-124750--f9816a99-80d2-4eac-8967-8547e1d1a504.jpg', 'https://sirekap-obj-formc.kpu.go.id/e5f4/pemilu/ppwp/52/03/18/20/08/5203182008004-20240216-122728--d75ae9ed-483d-4931-9ac2-459810f21217.jpg')\n",
      "writing: ('5203182008009', 21, 110, 8, 0, 0, 0, 139, 'https://sirekap-obj-formc.kpu.go.id/db4b/pemilu/ppwp/52/03/18/20/08/5203182008009-20240214-203345--8ad4083d-6ca0-4c27-a258-202497f436ce.jpg', 'https://sirekap-obj-formc.kpu.go.id/db4b/pemilu/ppwp/52/03/18/20/08/5203182008009-20240214-203711--ef68396e-9682-48c0-9c14-95e0fc61215d.jpg', 'https://sirekap-obj-formc.kpu.go.id/db4b/pemilu/ppwp/52/03/18/20/08/5203182008009-20240214-213327--ca1d93a8-90ec-4b5e-90f9-4465b8a4bded.jpg')\n",
      "writing: ('5203182008008', 30, 144, 9, 183, 7, 190, 183, 'https://sirekap-obj-formc.kpu.go.id/0156/pemilu/ppwp/52/03/18/20/08/5203182008008-20240216-092533--44cf0903-29c6-436a-b9e5-16ace7b7dc5b.jpg', 'https://sirekap-obj-formc.kpu.go.id/0156/pemilu/ppwp/52/03/18/20/08/5203182008008-20240216-092534--00a6183e-874d-4eff-89d3-a9dcc96c8048.jpg', 'https://sirekap-obj-formc.kpu.go.id/0156/pemilu/ppwp/52/03/18/20/08/5203182008008-20240216-085420--34c5a04c-5eb8-4940-8c71-0fdde4c454ba.jpg')\n",
      "writing: ('5203182008010', 12, 157, 20, 189, 2, 191, 189, 'https://sirekap-obj-formc.kpu.go.id/a8ef/pemilu/ppwp/52/03/18/20/08/5203182008010-20240214-215044--6f6d74ef-64cb-447c-9450-abaa8d448bbf.jpg', 'https://sirekap-obj-formc.kpu.go.id/a8ef/pemilu/ppwp/52/03/18/20/08/5203182008010-20240214-215059--7fc3c9d8-d686-4564-97d2-8a0486857dde.jpg', 'https://sirekap-obj-formc.kpu.go.id/a8ef/pemilu/ppwp/52/03/18/20/08/5203182008010-20240214-215114--b83b912b-c6d2-41f4-a4c7-74a78eb58429.jpg')\n",
      "writing: ('5203182008011', 74, 140, 14, 228, 1, 229, 228, 'https://sirekap-obj-formc.kpu.go.id/0716/pemilu/ppwp/52/03/18/20/08/5203182008011-20240214-185920--c7b17022-f024-4ac8-9c68-14b8b905600a.jpg', 'https://sirekap-obj-formc.kpu.go.id/0716/pemilu/ppwp/52/03/18/20/08/5203182008011-20240214-190652--a52520c2-9883-4050-b4fd-ce6342caecf8.jpg', 'https://sirekap-obj-formc.kpu.go.id/0716/pemilu/ppwp/52/03/18/20/08/5203182008011-20240214-190024--1e847494-d3b8-4c0f-b682-f416d58e2401.jpg')\n",
      "writing: ('5205012015001', 28, 218, 8, 254, 3, 257, 254, 'https://sirekap-obj-formc.kpu.go.id/3b45/pemilu/ppwp/52/05/01/20/15/5205012015001-20240215-111728--b2a138b3-1fb8-4c29-b041-1eef94e41a7a.jpg', 'https://sirekap-obj-formc.kpu.go.id/3b45/pemilu/ppwp/52/05/01/20/15/5205012015001-20240215-112107--76b5bd06-878e-4847-b5e4-7abfddd53eac.jpg', 'https://sirekap-obj-formc.kpu.go.id/3b45/pemilu/ppwp/52/05/01/20/15/5205012015001-20240215-112203--4be74d8a-a42c-4c39-aa47-98c7c88d602e.jpg')\n",
      "writing: ('5205012015002', 57, 172, 3, 232, 6, 238, 232, 'https://sirekap-obj-formc.kpu.go.id/b677/pemilu/ppwp/52/05/01/20/15/5205012015002-20240215-112319--d1232dd3-031b-4e4a-abf3-58973fafc71a.jpg', 'https://sirekap-obj-formc.kpu.go.id/b677/pemilu/ppwp/52/05/01/20/15/5205012015002-20240216-201437--8b4e72f8-07ab-4c25-81df-53b237354bca.jpg', 'https://sirekap-obj-formc.kpu.go.id/b677/pemilu/ppwp/52/05/01/20/15/5205012015002-20240215-112608--1f29f5ed-9e8e-4f5e-848a-d339b71b3a4d.jpg')\n",
      "writing: ('5272041011001', 0, 0, 0, 0, 0, 0, 0, None, None, None)\n",
      "writing: ('5272041011002', 95, 117, 16, 228, 6, 234, 228, 'https://sirekap-obj-formc.kpu.go.id/aad9/pemilu/ppwp/52/72/04/10/11/5272041011002-20240214-141325--d27baad4-f314-4b28-b36f-34e04302c3b9.jpg', 'https://sirekap-obj-formc.kpu.go.id/aad9/pemilu/ppwp/52/72/04/10/11/5272041011002-20240214-141446--a3b9c8dd-39c0-4414-9fbc-37af88d48c91.jpg', 'https://sirekap-obj-formc.kpu.go.id/aad9/pemilu/ppwp/52/72/04/10/11/5272041011002-20240214-141701--ed8b2f39-8afd-4bff-9183-06076a84c733.jpg')\n",
      "writing: ('5272041011003', 130, 114, 13, 257, 2, 259, 257, 'https://sirekap-obj-formc.kpu.go.id/c67e/pemilu/ppwp/52/72/04/10/11/5272041011003-20240215-130137--e143a63c-b5a6-49ea-926b-7d029ff94c7c.jpg', 'https://sirekap-obj-formc.kpu.go.id/c67e/pemilu/ppwp/52/72/04/10/11/5272041011003-20240215-125939--07180215-422f-47c4-8d13-84ad4032e190.jpg', 'https://sirekap-obj-formc.kpu.go.id/c67e/pemilu/ppwp/52/72/04/10/11/5272041011003-20240214-230235--cda2fd68-d2cf-4e62-88f1-28d726582ce4.jpg')\n",
      "writing: ('5205012015003', 44, 162, 12, 218, 4, 222, 218, 'https://sirekap-obj-formc.kpu.go.id/83a1/pemilu/ppwp/52/05/01/20/15/5205012015003-20240215-080000--fa58973b-4aa5-4a40-ab87-7c332bedb1b1.jpg', 'https://sirekap-obj-formc.kpu.go.id/83a1/pemilu/ppwp/52/05/01/20/15/5205012015003-20240215-080430--ff85c46c-12da-467c-b977-2840dd1f99af.jpg', 'https://sirekap-obj-formc.kpu.go.id/83a1/pemilu/ppwp/52/05/01/20/15/5205012015003-20240215-080545--0558d130-0596-462e-ac81-2bd7f54ae292.jpg')\n",
      "writing: ('5205012015004', 0, 0, 0, 0, 0, 0, 0, 'https://sirekap-obj-formc.kpu.go.id/73f8/pemilu/ppwp/52/05/01/20/15/5205012015004-20240216-062524--891ac1c7-04b6-4197-9dd0-bf3588a1d037.jpg', None, None)\n",
      "writing: ('5272041011005', 0, 0, 0, 0, 0, 0, 0, None, None, None)writing: ('5272041011004', 0, 0, 0, 249, 4, 253, 0, 'https://sirekap-obj-formc.kpu.go.id/09ae/pemilu/ppwp/52/72/04/10/11/5272041011004-20240216-061844--4fba2ced-b2b0-429f-ba1b-0269e0d5d05d.jpg', None, 'https://sirekap-obj-formc.kpu.go.id/09ae/pemilu/ppwp/52/72/04/10/11/5272041011004-20240216-061845--e79e38fb-6b5e-43e2-aa4c-163a71e7401c.jpg')\n",
      "\n",
      "writing: ('5205012015005', 0, 0, 0, 0, 0, 0, 0, None, None, None)\n",
      "writing: ('5272041011006', 124, 110, 8, 242, 2, 244, 242, 'https://sirekap-obj-formc.kpu.go.id/5541/pemilu/ppwp/52/72/04/10/11/5272041011006-20240215-071714--64fc07e4-981e-4c24-9564-40ae31d03291.jpg', 'https://sirekap-obj-formc.kpu.go.id/5541/pemilu/ppwp/52/72/04/10/11/5272041011006-20240215-071832--266898cd-61fd-4caa-8610-93e59dfd3505.jpg', 'https://sirekap-obj-formc.kpu.go.id/5541/pemilu/ppwp/52/72/04/10/11/5272041011006-20240215-071951--4b2fdba3-533d-45cf-b42b-df3975023d64.jpg')\n",
      "writing: ('5272041011009', 0, 0, 0, 248, 5, 253, 0, 'https://sirekap-obj-formc.kpu.go.id/9809/pemilu/ppwp/52/72/04/10/11/5272041011009-20240216-140312--d3f35f69-6fb7-442d-9adf-aa1633a41a44.jpg', None, 'https://sirekap-obj-formc.kpu.go.id/9809/pemilu/ppwp/52/72/04/10/11/5272041011009-20240216-140313--9b7cef3c-6977-4a13-856f-16392d642cf7.jpg')writing: ('5272041011008', 0, 0, 0, 0, 0, 0, 0, None, None, None)writing: ('5205012015008', 48, 188, 6, 242, 2, 244, 242, 'https://sirekap-obj-formc.kpu.go.id/e007/pemilu/ppwp/52/05/01/20/15/5205012015008-20240215-074530--df69cf42-2194-45b1-a687-21c844a2a8c8.jpg', 'https://sirekap-obj-formc.kpu.go.id/e007/pemilu/ppwp/52/05/01/20/15/5205012015008-20240214-203300--b0c12d34-bb16-402d-a0ce-a6498a749fd0.jpg', 'https://sirekap-obj-formc.kpu.go.id/e007/pemilu/ppwp/52/05/01/20/15/5205012015008-20240214-203330--0700dc86-adbe-481c-aa53-826d55a7c9d9.jpg')\n",
      "\n",
      "\n",
      "writing: ('5205012015007', 39, 146, 2, 187, 2, 189, 187, 'https://sirekap-obj-formc.kpu.go.id/ee38/pemilu/ppwp/52/05/01/20/15/5205012015007-20240216-152506--b5fc95ad-966f-4644-ade3-3701a231b79a.jpg', 'https://sirekap-obj-formc.kpu.go.id/ee38/pemilu/ppwp/52/05/01/20/15/5205012015007-20240215-075123--03aaef78-6597-4198-857c-61dcf4394871.jpg', 'https://sirekap-obj-formc.kpu.go.id/ee38/pemilu/ppwp/52/05/01/20/15/5205012015007-20240215-145613--8a28596b-1dd8-4166-86f9-670373dd9b37.jpg')\n",
      "writing: ('5205012015009', 34, 170, 6, 210, 9, 219, 210, 'https://sirekap-obj-formc.kpu.go.id/ca10/pemilu/ppwp/52/05/01/20/15/5205012015009-20240215-055339--fac5e879-b5a8-4b1b-91de-c2586e294a0b.jpg', 'https://sirekap-obj-formc.kpu.go.id/ca10/pemilu/ppwp/52/05/01/20/15/5205012015009-20240215-055442--fcd1eab7-f63d-43a3-96f4-f8fdeb61b5f7.jpg', 'https://sirekap-obj-formc.kpu.go.id/ca10/pemilu/ppwp/52/05/01/20/15/5205012015009-20240215-055540--473d4666-e14a-4ac9-a8ab-91e5def54c6e.jpg')\n",
      "writing: ('5272041011012', 0, 0, 0, 0, 0, 0, 0, None, None, None)\n",
      "writing: ('5271011012003', 0, 0, 0, 186, 4, 190, 0, 'https://sirekap-obj-formc.kpu.go.id/3b7b/pemilu/ppwp/52/71/01/10/12/5271011012003-20240216-130816--92dcb903-e1d6-4711-bf2f-5cead8f958eb.jpg', None, 'https://sirekap-obj-formc.kpu.go.id/3b7b/pemilu/ppwp/52/71/01/10/12/5271011012003-20240216-130818--32a5a101-31bb-4caa-933b-ebb51a8f7214.jpg')\n",
      "writing: ('5203082005004', 0, 0, 0, 0, 0, 0, 0, None, None, None)\n",
      "writing: ('5204022008003', 0, 0, 0, 167, 4, 171, 0, 'https://sirekap-obj-formc.kpu.go.id/3546/pemilu/ppwp/52/04/02/20/08/5204022008003-20240216-133348--6818c2a5-b57a-49c9-9659-f91f26a689b0.jpg', None, 'https://sirekap-obj-formc.kpu.go.id/3546/pemilu/ppwp/52/04/02/20/08/5204022008003-20240216-133349--6147a942-0a1c-4cb9-9664-094b3f721d8e.jpg')\n",
      "writing: ('5203022009004', 0, 0, 0, 0, 0, 0, 0, None, 'https://sirekap-obj-formc.kpu.go.id/1147/pemilu/ppwp/52/03/02/20/09/5203022009004-20240214-231343--aedcbdce-ae57-41eb-a58e-afb170699ee2.jpg', None)\n",
      "writing: ('5203022004007', 0, 0, 0, 217, 2, 219, 0, 'https://sirekap-obj-formc.kpu.go.id/c1e6/pemilu/ppwp/52/03/02/20/04/5203022004007-20240215-024347--2609918b-0d80-47ba-b455-81d179dba641.jpg', None, 'https://sirekap-obj-formc.kpu.go.id/c1e6/pemilu/ppwp/52/03/02/20/04/5203022004007-20240216-142557--0b6ddc46-5a77-4043-8073-761d0bb84398.jpg')\n",
      "writing: ('5203022006004', 31, 159, 7, 197, 9, 206, 197, 'https://sirekap-obj-formc.kpu.go.id/9b89/pemilu/ppwp/52/03/02/20/06/5203022006004-20240214-210558--3fa154bb-f2e2-4fc3-9e88-edeb89831d21.jpg', 'https://sirekap-obj-formc.kpu.go.id/9b89/pemilu/ppwp/52/03/02/20/06/5203022006004-20240214-223646--65813692-e366-4bac-acd5-eadcc9373819.jpg', 'https://sirekap-obj-formc.kpu.go.id/9b89/pemilu/ppwp/52/03/02/20/06/5203022006004-20240214-210944--36b25c5b-887f-4542-809d-0f493931daa9.jpg')\n",
      "writing: ('5203182009013', 29, 123, 12, 164, 0, 164, 164, 'https://sirekap-obj-formc.kpu.go.id/8407/pemilu/ppwp/52/03/18/20/09/5203182009013-20240214-203156--ee30bfc6-608d-4745-bce8-4cfb5073b598.jpg', 'https://sirekap-obj-formc.kpu.go.id/8407/pemilu/ppwp/52/03/18/20/09/5203182009013-20240216-183836--32ec45a8-dd8f-4a7e-a261-483980afc923.jpg', 'https://sirekap-obj-formc.kpu.go.id/8407/pemilu/ppwp/52/03/18/20/09/5203182009013-20240214-195832--904228c6-2299-4735-8cdb-76f04cbd1aa5.jpg')\n",
      "writing: ('5272041003004', 0, 0, 0, 0, 0, 0, 0, 'https://sirekap-obj-formc.kpu.go.id/3d8f/pemilu/ppwp/52/72/04/10/03/5272041003004-20240216-150902--e448e3da-9c02-4f04-91e1-3294c0a57550.jpg', None, 'https://sirekap-obj-formc.kpu.go.id/3d8f/pemilu/ppwp/52/72/04/10/03/5272041003004-20240216-150903--2dd12a8a-a753-498b-96ec-3ae137521ab2.jpg')\n",
      "writing: ('5272041003010', 0, 0, 0, 0, 0, 0, 0, None, None, None)\n",
      "writing: ('5205011002001', 0, 0, 0, 0, 0, 0, 0, None, None, None)\n",
      "writing: ('5205011002003', 0, 0, 0, 0, 0, 0, 0, None, None, None)\n",
      "writing: ('5205011002004', 0, 0, 0, 0, 0, 0, 0, None, None, None)\n",
      "writing: ('5205011002005', 0, 0, 0, 0, 0, 0, 0, None, None, None)\n",
      "writing: ('5205011002006', 0, 0, 0, 0, 0, 0, 0, None, None, None)\n",
      "writing: ('5205011002002', 0, 0, 0, 0, 0, 0, 0, None, None, None)\n",
      "writing: ('5205011002007', 67, 164, 10, 241, 1, 242, 241, 'https://sirekap-obj-formc.kpu.go.id/d50a/pemilu/ppwp/52/05/01/10/02/5205011002007-20240215-075409--d5ea87ff-c3bd-46ba-936d-7c0d905586ae.jpg', 'https://sirekap-obj-formc.kpu.go.id/d50a/pemilu/ppwp/52/05/01/10/02/5205011002007-20240215-075523--1a171dd4-24cd-49a4-8f29-cb49e47a0e8a.jpg', 'https://sirekap-obj-formc.kpu.go.id/d50a/pemilu/ppwp/52/05/01/10/02/5205011002007-20240215-075745--e834fe9f-f019-4949-84f6-fe7e9412671a.jpg')\n",
      "writing: ('5205011002008', 0, 0, 0, 0, 0, 0, 0, None, None, None)\n",
      "writing: ('5205011002009', 0, 0, 0, 0, 0, 0, 0, None, None, None)\n",
      "writing: ('5205011002010', 95, 127, 6, 228, 0, 228, 228, 'https://sirekap-obj-formc.kpu.go.id/5b8b/pemilu/ppwp/52/05/01/10/02/5205011002010-20240215-132704--9dd141aa-c003-4f14-94cb-8570d2d2e34a.jpg', 'https://sirekap-obj-formc.kpu.go.id/5b8b/pemilu/ppwp/52/05/01/10/02/5205011002010-20240215-143215--fc43ba9d-4483-4a14-b3b5-071f6259d45e.jpg', 'https://sirekap-obj-formc.kpu.go.id/5b8b/pemilu/ppwp/52/05/01/10/02/5205011002010-20240215-143413--7646ca5a-1e41-4cb0-b4dd-76c8801764db.jpg')\n",
      "writing: ('5205011002013', 0, 0, 0, 0, 0, 0, 0, None, None, None)\n",
      "writing: ('5205011002014', 61, 200, 1, 0, 0, 0, 262, 'https://sirekap-obj-formc.kpu.go.id/9340/pemilu/ppwp/52/05/01/10/02/5205011002014-20240215-104239--f8364e3e-18ad-46f8-8b06-db88730e6039.jpg', 'https://sirekap-obj-formc.kpu.go.id/9340/pemilu/ppwp/52/05/01/10/02/5205011002014-20240215-104506--9caf4707-9bde-402f-9128-9a488b61174e.jpg', 'https://sirekap-obj-formc.kpu.go.id/9340/pemilu/ppwp/52/05/01/10/02/5205011002014-20240215-104616--007a8811-69c8-47d8-a839-c62d3671088d.jpg')\n",
      "writing: ('5205011002015', 0, 0, 0, 0, 0, 0, 0, None, None, None)\n",
      "writing: ('5205012009001', 0, 0, 0, 0, 0, 0, 0, None, None, None)\n",
      "writing: ('5272041010008', 0, 0, 0, 0, 0, 0, 0, None, None, None)writing: ('5205012009003', 0, 0, 0, 0, 0, 0, 0, 'https://sirekap-obj-formc.kpu.go.id/6ad3/pemilu/ppwp/52/05/01/20/09/5205012009003-20240215-162425--312e0ff1-00cf-4f38-8d18-0fc09cc216bc.jpg', 'https://sirekap-obj-formc.kpu.go.id/6ad3/pemilu/ppwp/52/05/01/20/09/5205012009003-20240215-163842--e5906c9a-9288-4641-b0ea-0a3f64dce3f6.jpg', None)\n",
      "\n",
      "writing: ('5205012009002', 0, 0, 0, 0, 0, 0, 0, None, None, None)\n",
      "writing: ('5203202010014', 29, 177, 5, 211, 4, 215, 211, 'https://sirekap-obj-formc.kpu.go.id/d654/pemilu/ppwp/52/03/20/20/10/5203202010014-20240215-210239--515cd8ef-20c8-4e6c-b547-f9f287d1eda3.jpg', 'https://sirekap-obj-formc.kpu.go.id/d654/pemilu/ppwp/52/03/20/20/10/5203202010014-20240215-210240--365c5e18-a79e-4bf3-abae-4fe1b91718e1.jpg', 'https://sirekap-obj-formc.kpu.go.id/d654/pemilu/ppwp/52/03/20/20/10/5203202010014-20240215-210240--02597e33-8550-4293-b466-e7be8fde6782.jpg')\n",
      "writing: ('5205012009004', 0, 0, 0, 0, 0, 0, 0, None, None, None)writing: ('5205012009006', 0, 0, 0, 0, 0, 0, 0, None, None, None)\n",
      "\n",
      "writing: ('5205012009005', 0, 0, 0, 0, 0, 0, 0, None, None, None)\n",
      "writing: ('5205011004001', 0, 0, 0, 0, 0, 0, 0, None, None, None)\n",
      "writing: ('5205011004003', 91, 136, 3, 230, 2, 232, 230, 'https://sirekap-obj-formc.kpu.go.id/7cee/pemilu/ppwp/52/05/01/10/04/5205011004003-20240215-073411--32bff0ef-3093-4bd0-addf-11578b157232.jpg', 'https://sirekap-obj-formc.kpu.go.id/7cee/pemilu/ppwp/52/05/01/10/04/5205011004003-20240215-073457--080d2008-8a8f-4ebd-8828-f86468d51c09.jpg', 'https://sirekap-obj-formc.kpu.go.id/7cee/pemilu/ppwp/52/05/01/10/04/5205011004003-20240215-073624--b25c1749-2e6d-4756-b294-96c806bfa1f8.jpg')\n",
      "writing: ('5205011004002', 0, 0, 0, 0, 0, 0, 0, None, None, None)\n",
      "writing: ('5205011004004', 81, 119, 7, 207, 0, 207, 207, 'https://sirekap-obj-formc.kpu.go.id/f0a9/pemilu/ppwp/52/05/01/10/04/5205011004004-20240214-155820--812d67bd-a4a6-4e15-84b5-d71ba422a053.jpg', 'https://sirekap-obj-formc.kpu.go.id/f0a9/pemilu/ppwp/52/05/01/10/04/5205011004004-20240214-155457--df74d67f-9dec-4ffe-b87b-519ff55212ec.jpg', 'https://sirekap-obj-formc.kpu.go.id/f0a9/pemilu/ppwp/52/05/01/10/04/5205011004004-20240214-155615--7442bf33-9ab6-478d-8f6c-d25b701f39ba.jpg')\n",
      "writing: ('5205011004005', 58, 197, 2, 257, 1, 258, 257, 'https://sirekap-obj-formc.kpu.go.id/8d3d/pemilu/ppwp/52/05/01/10/04/5205011004005-20240217-010419--b3cb7741-12e6-4653-a251-8cdcfbc9f16a.jpg', 'https://sirekap-obj-formc.kpu.go.id/8d3d/pemilu/ppwp/52/05/01/10/04/5205011004005-20240217-010420--09fe0669-0b49-4fde-ab99-9155fd6a47f9.jpg', 'https://sirekap-obj-formc.kpu.go.id/8d3d/pemilu/ppwp/52/05/01/10/04/5205011004005-20240217-010419--dc88ae1f-065c-49c9-82db-388e5e83bdf5.jpg')\n",
      "writing: ('5205011004006', 68, 153, 12, 232, 1, 233, 233, 'https://sirekap-obj-formc.kpu.go.id/026c/pemilu/ppwp/52/05/01/10/04/5205011004006-20240214-193327--60bb4ddc-dd0d-4c69-876e-e5d378d53e9c.jpg', 'https://sirekap-obj-formc.kpu.go.id/026c/pemilu/ppwp/52/05/01/10/04/5205011004006-20240214-193526--34b8f5e0-511b-4f99-82ca-de0a8a5002c6.jpg', 'https://sirekap-obj-formc.kpu.go.id/026c/pemilu/ppwp/52/05/01/10/04/5205011004006-20240214-193619--d554f6e3-6a0a-4acb-9a3a-8b5075699c28.jpg')\n",
      "writing: ('5205011004009', 67, 174, 6, 247, 8, 255, 247, 'https://sirekap-obj-formc.kpu.go.id/7a7c/pemilu/ppwp/52/05/01/10/04/5205011004009-20240214-184709--a4415548-9916-477a-b023-036495a73b6d.jpg', 'https://sirekap-obj-formc.kpu.go.id/7a7c/pemilu/ppwp/52/05/01/10/04/5205011004009-20240214-184656--e0ab5de3-6f85-4e93-a277-6dcc2336aa56.jpg', 'https://sirekap-obj-formc.kpu.go.id/7a7c/pemilu/ppwp/52/05/01/10/04/5205011004009-20240214-184826--9699c570-9323-4a7c-8a8b-9d1883ed2e96.jpg')\n",
      "writing: ('5205011004007', 0, 0, 0, 0, 0, 0, 0, None, None, None)writing: ('5205011004008', 75, 172, 8, 255, 3, 258, 255, 'https://sirekap-obj-formc.kpu.go.id/1e69/pemilu/ppwp/52/05/01/10/04/5205011004008-20240215-040646--fe4fe799-ab3a-4831-91d8-cc43bf66df97.jpg', 'https://sirekap-obj-formc.kpu.go.id/1e69/pemilu/ppwp/52/05/01/10/04/5205011004008-20240215-040834--a2392aeb-bd5f-42ff-879b-6674d72632c8.jpg', 'https://sirekap-obj-formc.kpu.go.id/1e69/pemilu/ppwp/52/05/01/10/04/5205011004008-20240215-040940--cda9727e-fc6f-45b0-a900-0c17f2851bfe.jpg')\n",
      "\n",
      "writing: ('5205011004010', 0, 0, 0, 0, 0, 0, 0, 'https://sirekap-obj-formc.kpu.go.id/c1e9/pemilu/ppwp/52/05/01/10/04/5205011004010-20240214-210749--6e84a6f4-7de0-45c2-9379-32365f7699a8.jpg', 'https://sirekap-obj-formc.kpu.go.id/c1e9/pemilu/ppwp/52/05/01/10/04/5205011004010-20240214-232338--caa0aaef-5fa3-47f5-b45e-300f69938a12.jpg', None)\n",
      "writing: ('5203182002001', 24, 104, 29, 157, 3, 160, 157, 'https://sirekap-obj-formc.kpu.go.id/fa35/pemilu/ppwp/52/03/18/20/02/5203182002001-20240214-194219--a56697e4-4f05-47cf-aaa5-6b6b9181f5b5.jpg', 'https://sirekap-obj-formc.kpu.go.id/fa35/pemilu/ppwp/52/03/18/20/02/5203182002001-20240214-194339--eca48246-440f-45ba-b159-cd4ac7aa919d.jpg', 'https://sirekap-obj-formc.kpu.go.id/fa35/pemilu/ppwp/52/03/18/20/02/5203182002001-20240214-194434--0d7ef0b9-fa8f-48aa-b0c0-b73518095985.jpg')\n",
      "writing: ('5205011004011', 0, 0, 0, 0, 0, 0, 0, None, None, None)\n",
      "writing: ('5203182002002', 40, 247, 14, 202, 3, 205, 301, 'https://sirekap-obj-formc.kpu.go.id/52d8/pemilu/ppwp/52/03/18/20/02/5203182002002-20240215-112029--14440140-f1f3-4f59-abea-12dcea83a6a3.jpg', 'https://sirekap-obj-formc.kpu.go.id/52d8/pemilu/ppwp/52/03/18/20/02/5203182002002-20240215-065118--4759919a-29eb-47c7-834a-858ff3a6126d.jpg', 'https://sirekap-obj-formc.kpu.go.id/52d8/pemilu/ppwp/52/03/18/20/02/5203182002002-20240215-065225--42173189-b0d9-4800-8814-d6ff7b707032.jpg')\n",
      "writing: ('5203182002003', 44, 109, 30, 183, 4, 187, 183, 'https://sirekap-obj-formc.kpu.go.id/e0a1/pemilu/ppwp/52/03/18/20/02/5203182002003-20240215-121605--de1165f0-3d73-4246-90e5-37dc2aae4dda.jpg', 'https://sirekap-obj-formc.kpu.go.id/e0a1/pemilu/ppwp/52/03/18/20/02/5203182002003-20240216-205904--6293a1a0-8464-47b3-891f-5211d8339c82.jpg', 'https://sirekap-obj-formc.kpu.go.id/e0a1/pemilu/ppwp/52/03/18/20/02/5203182002003-20240216-204747--78ef30b0-280f-4964-b7cb-a65e3885222b.jpg')\n",
      "writing: ('5203182002005', 19, 157, 63, 239, 3, 242, 239, 'https://sirekap-obj-formc.kpu.go.id/e9e4/pemilu/ppwp/52/03/18/20/02/5203182002005-20240215-002303--e137bbde-aa08-4460-99db-a9f936a662a1.jpg', 'https://sirekap-obj-formc.kpu.go.id/e9e4/pemilu/ppwp/52/03/18/20/02/5203182002005-20240215-002501--a010fae9-cac3-49fa-a73b-2f3c28b5528d.jpg', 'https://sirekap-obj-formc.kpu.go.id/e9e4/pemilu/ppwp/52/03/18/20/02/5203182002005-20240215-002632--dc9f3e03-0d42-4931-8c22-4c46112ab89b.jpg')\n",
      "writing: ('5203182002006', 35, 159, 7, 201, 3, 204, 201, 'https://sirekap-obj-formc.kpu.go.id/4d2d/pemilu/ppwp/52/03/18/20/02/5203182002006-20240214-223326--4f8ae271-849b-4d7a-9cd4-3d29ccf9048d.jpg', 'https://sirekap-obj-formc.kpu.go.id/4d2d/pemilu/ppwp/52/03/18/20/02/5203182002006-20240214-223529--2c732478-9556-40a5-a57a-a1a053a72e3f.jpg', 'https://sirekap-obj-formc.kpu.go.id/4d2d/pemilu/ppwp/52/03/18/20/02/5203182002006-20240214-223641--cce0ab8e-38e1-4579-a4ff-417af77057d8.jpg')\n",
      "writing: ('5203182002004', 50, 137, 23, 210, 1, 211, 210, 'https://sirekap-obj-formc.kpu.go.id/b477/pemilu/ppwp/52/03/18/20/02/5203182002004-20240214-195537--a9f58c4e-a2f6-49fd-8702-15aef8abb427.jpg', 'https://sirekap-obj-formc.kpu.go.id/b477/pemilu/ppwp/52/03/18/20/02/5203182002004-20240214-204520--bf768af2-25b4-4a9b-9bde-66d02b4b4d12.jpg', 'https://sirekap-obj-formc.kpu.go.id/b477/pemilu/ppwp/52/03/18/20/02/5203182002004-20240214-201623--dca0cba8-6331-47bf-8ce6-c7f915e8bbbf.jpg')\n",
      "writing: ('5203182002008', 42, 122, 14, 178, 2, 180, 178, 'https://sirekap-obj-formc.kpu.go.id/437c/pemilu/ppwp/52/03/18/20/02/5203182002008-20240215-033518--aa262d56-dce8-4aac-bae1-7890345deb8d.jpg', 'https://sirekap-obj-formc.kpu.go.id/437c/pemilu/ppwp/52/03/18/20/02/5203182002008-20240215-033754--da13a8b1-0750-4ca5-aed9-f0d28133cf91.jpg', 'https://sirekap-obj-formc.kpu.go.id/437c/pemilu/ppwp/52/03/18/20/02/5203182002008-20240215-033920--6c9b4d5f-be34-40a3-877e-f416b049ba00.jpg')\n",
      "writing: ('5203182002007', 14, 159, 6, 0, 0, 0, 179, 'https://sirekap-obj-formc.kpu.go.id/b721/pemilu/ppwp/52/03/18/20/02/5203182002007-20240215-110924--8162ce68-ddfc-4aa1-9b87-f8e8891422e3.jpg', 'https://sirekap-obj-formc.kpu.go.id/b721/pemilu/ppwp/52/03/18/20/02/5203182002007-20240215-111049--30d304f4-2eaa-45ee-9cb1-d1efeb20446f.jpg', 'https://sirekap-obj-formc.kpu.go.id/b721/pemilu/ppwp/52/03/18/20/02/5203182002007-20240214-231233--cc0eb8d4-fdd9-4db2-86f4-1abb3f3a5059.jpg')\n",
      "writing: ('5203182002009', 32, 116, 18, 166, 2, 168, 166, 'https://sirekap-obj-formc.kpu.go.id/53e0/pemilu/ppwp/52/03/18/20/02/5203182002009-20240214-200703--5086e91d-03bf-488f-96fe-764cd445c377.jpg', 'https://sirekap-obj-formc.kpu.go.id/53e0/pemilu/ppwp/52/03/18/20/02/5203182002009-20240214-204108--43960f25-d167-4800-9a88-984c92b2289b.jpg', 'https://sirekap-obj-formc.kpu.go.id/53e0/pemilu/ppwp/52/03/18/20/02/5203182002009-20240214-201547--1cc5c237-9bb2-4e90-97f0-d21ef10e4f4b.jpg')\n",
      "writing: ('5203182002010', 43, 141, 26, 210, 1, 211, 210, 'https://sirekap-obj-formc.kpu.go.id/0331/pemilu/ppwp/52/03/18/20/02/5203182002010-20240214-201524--300d284f-4ef3-4ea4-9beb-83753c8069ee.jpg', 'https://sirekap-obj-formc.kpu.go.id/0331/pemilu/ppwp/52/03/18/20/02/5203182002010-20240214-210505--88adcdfe-cf97-4d5d-9e16-94b94d82fb76.jpg', 'https://sirekap-obj-formc.kpu.go.id/0331/pemilu/ppwp/52/03/18/20/02/5203182002010-20240214-201818--1735c48a-8d38-484c-86d3-5c3cec65faba.jpg')\n",
      "writing: ('5203182002011', 35, 99, 21, 155, 5, 160, 155, 'https://sirekap-obj-formc.kpu.go.id/0fcf/pemilu/ppwp/52/03/18/20/02/5203182002011-20240216-125858--78cafc57-943f-4ee7-8ea8-fad47a57bd72.jpg', 'https://sirekap-obj-formc.kpu.go.id/0fcf/pemilu/ppwp/52/03/18/20/02/5203182002011-20240216-125905--a6438179-eb57-41cf-916c-bcc3f9c16fed.jpg', 'https://sirekap-obj-formc.kpu.go.id/0fcf/pemilu/ppwp/52/03/18/20/02/5203182002011-20240216-125901--b466979a-f859-49cb-b524-863408344d08.jpg')\n",
      "writing: ('5203182002012', 38, 146, 22, 206, 0, 206, 206, 'https://sirekap-obj-formc.kpu.go.id/20f0/pemilu/ppwp/52/03/18/20/02/5203182002012-20240215-144204--9968a481-2c6b-41bc-be49-79d85940cc98.jpg', 'https://sirekap-obj-formc.kpu.go.id/20f0/pemilu/ppwp/52/03/18/20/02/5203182002012-20240215-144021--5405633e-1d06-4ef2-9ea1-f6573217a3e9.jpg', 'https://sirekap-obj-formc.kpu.go.id/20f0/pemilu/ppwp/52/03/18/20/02/5203182002012-20240215-144300--3891dc68-3379-4f4d-ac15-b27d515f7739.jpg')\n",
      "writing: ('5203182002013', 20, 119, 10, 0, 0, 0, 149, None, 'https://sirekap-obj-formc.kpu.go.id/e3a7/pemilu/ppwp/52/03/18/20/02/5203182002013-20240214-212441--ef63aea8-8e5c-4499-b51a-e2f2c7469cc7.jpg', None)\n",
      "writing: ('5205012013001', 0, 0, 0, 0, 0, 0, 0, 'https://sirekap-obj-formc.kpu.go.id/b492/pemilu/ppwp/52/05/01/20/13/5205012013001-20240214-191804--6079adb9-a854-4cfa-9d9f-d46b51f67e68.jpg', 'https://sirekap-obj-formc.kpu.go.id/b492/pemilu/ppwp/52/05/01/20/13/5205012013001-20240214-191806--cea110fd-ee9b-4295-a5dc-533f49c43e7c.jpg', None)\n",
      "writing: ('5203182002014', 13, 86, 22, 0, 0, 0, 121, 'https://sirekap-obj-formc.kpu.go.id/71be/pemilu/ppwp/52/03/18/20/02/5203182002014-20240214-230821--530bf303-707f-4bc1-9602-f2e2c3ef2dd9.jpg', 'https://sirekap-obj-formc.kpu.go.id/71be/pemilu/ppwp/52/03/18/20/02/5203182002014-20240214-231223--459269c7-a25c-431a-a6e7-916501948a0d.jpg', 'https://sirekap-obj-formc.kpu.go.id/71be/pemilu/ppwp/52/03/18/20/02/5203182002014-20240214-231615--cc4fe359-944a-4006-9131-b7822818a20e.jpg')\n",
      "writing: ('5205012013002', 42, 162, 5, 0, 0, 0, 209, 'https://sirekap-obj-formc.kpu.go.id/3e3b/pemilu/ppwp/52/05/01/20/13/5205012013002-20240214-204221--60eac556-b9e9-4491-afb0-2e62307745da.jpg', 'https://sirekap-obj-formc.kpu.go.id/3e3b/pemilu/ppwp/52/05/01/20/13/5205012013002-20240214-204410--592d180a-04ad-4182-819b-7846956edd9a.jpg', 'https://sirekap-obj-formc.kpu.go.id/3e3b/pemilu/ppwp/52/05/01/20/13/5205012013002-20240214-204607--d1e8e4fc-771a-44f5-a746-98c1748d6f9a.jpg')\n",
      "writing: ('5205012013005', 35, 189, 6, 0, 0, 0, 230, 'https://sirekap-obj-formc.kpu.go.id/c869/pemilu/ppwp/52/05/01/20/13/5205012013005-20240215-162339--0f367225-02bb-49f1-9fa2-e5a9522dca35.jpg', 'https://sirekap-obj-formc.kpu.go.id/c869/pemilu/ppwp/52/05/01/20/13/5205012013005-20240215-162421--8563b178-50d1-45b7-8231-9aae254bcc0f.jpg', None)\n",
      "writing: ('5205012007004', 106, 150, 1, 0, 0, 0, 257, 'https://sirekap-obj-formc.kpu.go.id/fc24/pemilu/ppwp/52/05/01/20/07/5205012007004-20240214-204712--064ee997-adb4-4bf7-918a-b8adc3c966ea.jpg', 'https://sirekap-obj-formc.kpu.go.id/fc24/pemilu/ppwp/52/05/01/20/07/5205012007004-20240214-205003--6fa8c811-ab44-4db3-a576-a77364269fb1.jpg', 'https://sirekap-obj-formc.kpu.go.id/fc24/pemilu/ppwp/52/05/01/20/07/5205012007004-20240214-215505--5564bcc6-d207-4972-9052-76ac2b3b6702.jpg')\n",
      "writing: ('5205012007015', 41, 65, 0, 106, 3, 109, 106, 'https://sirekap-obj-formc.kpu.go.id/4963/pemilu/ppwp/52/05/01/20/07/5205012007015-20240216-131440--c100e265-1a1c-4472-b7a6-bc3a55df3260.jpg', 'https://sirekap-obj-formc.kpu.go.id/4963/pemilu/ppwp/52/05/01/20/07/5205012007015-20240216-131003--910866dc-4aaf-4139-b82e-a5cdafd4578c.jpg', 'https://sirekap-obj-formc.kpu.go.id/4963/pemilu/ppwp/52/05/01/20/07/5205012007015-20240216-132832--e9fc26af-6fc9-496a-b494-3ff5534951a0.jpg')\n",
      "writing: ('5205012014001', 23, 176, 2, 201, 6, 207, 201, 'https://sirekap-obj-formc.kpu.go.id/df3d/pemilu/ppwp/52/05/01/20/14/5205012014001-20240214-192804--1470edb3-676a-4e2b-82b7-2b9326dd1d89.jpg', 'https://sirekap-obj-formc.kpu.go.id/df3d/pemilu/ppwp/52/05/01/20/14/5205012014001-20240214-193019--5865dc2e-0b78-493a-9806-825edaeebfd8.jpg', 'https://sirekap-obj-formc.kpu.go.id/df3d/pemilu/ppwp/52/05/01/20/14/5205012014001-20240214-193213--3bfb068b-de07-4b25-84de-ce1a10326654.jpg')\n",
      "writing: ('5205012014003', 0, 0, 0, 0, 0, 0, 0, None, None, None)\n",
      "writing: ('5205012014002', 33, 175, 4, 212, 3, 215, 212, 'https://sirekap-obj-formc.kpu.go.id/ff0f/pemilu/ppwp/52/05/01/20/14/5205012014002-20240214-195744--26930801-f5e5-4c3c-ac58-107814eeb999.jpg', 'https://sirekap-obj-formc.kpu.go.id/ff0f/pemilu/ppwp/52/05/01/20/14/5205012014002-20240214-195847--564bec62-4a39-49c5-be04-f6f7b5117f59.jpg', 'https://sirekap-obj-formc.kpu.go.id/ff0f/pemilu/ppwp/52/05/01/20/14/5205012014002-20240214-200035--78fa55e5-3c95-4591-a453-8a30e56536b1.jpg')\n",
      "writing: ('5205012014006', 0, 0, 0, 0, 0, 0, 0, None, None, None)writing: ('5203172011007', 0, 0, 0, 167, 6, 173, 0, 'https://sirekap-obj-formc.kpu.go.id/edd6/pemilu/ppwp/52/03/17/20/11/5203172011007-20240215-080227--5adb9552-eb69-4205-9578-1a083c475953.jpg', 'https://sirekap-obj-formc.kpu.go.id/edd6/pemilu/ppwp/52/03/17/20/11/5203172011007-20240215-071947--07b3e933-811a-43dd-8890-7293cd9f06b4.jpg', 'https://sirekap-obj-formc.kpu.go.id/edd6/pemilu/ppwp/52/03/17/20/11/5203172011007-20240215-080656--0536fb59-7ee4-42f9-abe0-c9f47c9f58b7.jpg')\n",
      "\n",
      "writing: ('5205012014004', 0, 0, 0, 0, 0, 0, 0, None, None, None)\n",
      "writing: ('5205012014005', 0, 0, 0, 0, 0, 0, 0, 'https://sirekap-obj-formc.kpu.go.id/55a4/pemilu/ppwp/52/05/01/20/14/5205012014005-20240215-131729--91a31848-1907-4d12-99b2-1bf3042d7780.jpg', None, None)\n",
      "writing: ('5205012014007', 0, 0, 0, 0, 0, 0, 0, None, None, None)\n",
      "writing: ('5205012014008', 35, 159, 17, 211, 9, 220, 211, 'https://sirekap-obj-formc.kpu.go.id/57d8/pemilu/ppwp/52/05/01/20/14/5205012014008-20240215-151607--cab63c79-c423-49a7-92cf-ec73763a9ce1.jpg', 'https://sirekap-obj-formc.kpu.go.id/57d8/pemilu/ppwp/52/05/01/20/14/5205012014008-20240215-144412--864addae-9c51-401b-a24c-489770e57283.jpg', 'https://sirekap-obj-formc.kpu.go.id/57d8/pemilu/ppwp/52/05/01/20/14/5205012014008-20240215-144531--7db61d4a-c9d0-4c2d-8e42-07aa725ceaa5.jpg')\n",
      "writing: ('5205012014009', 0, 0, 0, 0, 0, 0, 0, None, None, None)\n",
      "writing: ('5272041007001', 0, 0, 0, 0, 0, 0, 0, None, None, None)writing: ('5205012014010', 0, 0, 0, 0, 0, 0, 0, None, None, None)\n",
      "\n",
      "writing: ('5205012014011', 0, 0, 0, 0, 0, 0, 0, None, None, None)\n",
      "writing: ('5272041007002', 0, 0, 0, 0, 0, 0, 0, None, None, None)writing: ('5272041007003', 0, 0, 0, 0, 0, 0, 0, None, None, None)writing: ('5272041007004', 0, 0, 0, 0, 0, 0, 0, None, None, None)\n",
      "\n",
      "\n",
      "writing: ('5272041007005', 0, 0, 0, 0, 0, 0, 0, None, None, None)\n",
      "writing: ('5272041007007', 0, 0, 0, 0, 0, 0, 0, None, None, None)writing: ('5272041002001', 0, 0, 0, 0, 0, 0, 0, 'https://sirekap-obj-formc.kpu.go.id/cb88/pemilu/ppwp/52/72/04/10/02/5272041002001-20240216-122618--8665c5e0-1d2c-4acd-a13b-f735194f6669.jpg', 'https://sirekap-obj-formc.kpu.go.id/cb88/pemilu/ppwp/52/72/04/10/02/5272041002001-20240216-114709--a892e782-4cab-4d9c-b79d-f44830a0685f.jpg', 'https://sirekap-obj-formc.kpu.go.id/cb88/pemilu/ppwp/52/72/04/10/02/5272041002001-20240216-121231--81a61abc-2e52-4b72-8106-60474f5803f2.jpg')\n",
      "\n",
      "writing: ('5272041007009', 0, 0, 0, 0, 0, 0, 0, None, None, None)\n",
      "writing: ('5272041002007', 0, 0, 0, 271, 4, 275, 0, 'https://sirekap-obj-formc.kpu.go.id/e12e/pemilu/ppwp/52/72/04/10/02/5272041002007-20240216-134424--588ca8b8-30a0-4b1e-a4b6-9690bcca87fb.jpg', None, 'https://sirekap-obj-formc.kpu.go.id/e12e/pemilu/ppwp/52/72/04/10/02/5272041002007-20240216-134424--e3b26563-9359-46a3-b4d4-fb2b86163902.jpg')writing: ('5272041002004', 78, 200, 2, 280, 0, 280, 280, 'https://sirekap-obj-formc.kpu.go.id/f65a/pemilu/ppwp/52/72/04/10/02/5272041002004-20240215-011254--05afbd96-ce34-4b55-b7c0-131e63db2583.jpg', 'https://sirekap-obj-formc.kpu.go.id/f65a/pemilu/ppwp/52/72/04/10/02/5272041002004-20240215-011538--de1b958b-6b31-4561-bae4-f22b87153fd0.jpg', 'https://sirekap-obj-formc.kpu.go.id/f65a/pemilu/ppwp/52/72/04/10/02/5272041002004-20240215-011723--4a4aee64-d75b-4d1c-a70f-da8206e1c596.jpg')\n",
      "\n",
      "writing: ('5272041007901', 19, 156, 1, 176, 3, 179, 176, 'https://sirekap-obj-formc.kpu.go.id/7a57/pemilu/ppwp/52/72/04/10/07/5272041007901-20240216-144719--ad4e8b8b-a19f-47e5-98d2-2eca439da701.jpg', 'https://sirekap-obj-formc.kpu.go.id/7a57/pemilu/ppwp/52/72/04/10/07/5272041007901-20240214-215559--faf199c6-84af-4f82-923b-e0f7b7180965.jpg', 'https://sirekap-obj-formc.kpu.go.id/7a57/pemilu/ppwp/52/72/04/10/07/5272041007901-20240214-215733--fec6044d-e645-452b-a288-12a7a8341b94.jpg')\n",
      "writing: ('5272041007902', 0, 0, 0, 177, 5, 182, 0, 'https://sirekap-obj-formc.kpu.go.id/73b6/pemilu/ppwp/52/72/04/10/07/5272041007902-20240216-152048--06f63e5a-31ad-438f-a6e4-eaeac04a1c2c.jpg', None, 'https://sirekap-obj-formc.kpu.go.id/73b6/pemilu/ppwp/52/72/04/10/07/5272041007902-20240215-002629--fd106ec3-0717-4626-a319-b4e3d5c1ebbd.jpg')\n",
      "writing: ('5203092003012', 0, 0, 0, 0, 0, 0, 0, None, 'https://sirekap-obj-formc.kpu.go.id/a06e/pemilu/ppwp/52/03/09/20/03/5203092003012-20240215-164204--90ba2e49-bd92-4220-ac6a-173145d11678.jpg', 'https://sirekap-obj-formc.kpu.go.id/a06e/pemilu/ppwp/52/03/09/20/03/5203092003012-20240214-202708--5a84c987-1a0c-49e6-aede-a0ddb37ed22d.jpg')\n",
      "writing: ('5203062008007', 36, 128, 23, 187, 5, 192, 187, 'https://sirekap-obj-formc.kpu.go.id/fd81/pemilu/ppwp/52/03/06/20/08/5203062008007-20240216-155639--33c60791-34fd-4aa0-bd31-67afddf845f0.jpg', 'https://sirekap-obj-formc.kpu.go.id/fd81/pemilu/ppwp/52/03/06/20/08/5203062008007-20240216-155640--34db717d-9822-4916-b861-e778f5d4316b.jpg', 'https://sirekap-obj-formc.kpu.go.id/fd81/pemilu/ppwp/52/03/06/20/08/5203062008007-20240216-155639--989228ed-fc00-4166-be32-7f791c3fbfc4.jpg')\n",
      "writing: ('5272041009001', 0, 0, 0, 263, 5, 268, 0, 'https://sirekap-obj-formc.kpu.go.id/3c00/pemilu/ppwp/52/72/04/10/09/5272041009001-20240216-190508--62b66a92-156f-4315-8117-5c616163633a.jpg', 'https://sirekap-obj-formc.kpu.go.id/3c00/pemilu/ppwp/52/72/04/10/09/5272041009001-20240216-190106--991a02c4-03b1-4498-bde4-334a2fe006ca.jpg', 'https://sirekap-obj-formc.kpu.go.id/3c00/pemilu/ppwp/52/72/04/10/09/5272041009001-20240216-190509--d2a533ea-b439-430a-b4ba-1922123201c5.jpg')\n",
      "writing: ('5272041009003', 0, 0, 0, 261, 7, 268, 0, 'https://sirekap-obj-formc.kpu.go.id/106b/pemilu/ppwp/52/72/04/10/09/5272041009003-20240216-115900--ba12e93a-a168-4a27-80d5-f7197a88831f.jpg', None, 'https://sirekap-obj-formc.kpu.go.id/106b/pemilu/ppwp/52/72/04/10/09/5272041009003-20240216-115901--97ce29e4-d88b-4371-9090-45bf6b8c77cb.jpg')\n",
      "writing: ('5203062003003', 79, 142, 10, 231, 3, 234, 231, 'https://sirekap-obj-formc.kpu.go.id/c333/pemilu/ppwp/52/03/06/20/03/5203062003003-20240216-123852--de28f221-93e6-4077-92b2-a9f855a0eb71.jpg', 'https://sirekap-obj-formc.kpu.go.id/c333/pemilu/ppwp/52/03/06/20/03/5203062003003-20240216-123900--9f964895-42d5-4169-a976-508007716967.jpg', 'https://sirekap-obj-formc.kpu.go.id/c333/pemilu/ppwp/52/03/06/20/03/5203062003003-20240216-123856--06ea3928-e294-42b7-91dc-543c7580c1de.jpg')\n",
      "writing: ('5272041009004', 0, 0, 0, 249, 7, 256, 0, 'https://sirekap-obj-formc.kpu.go.id/6ac0/pemilu/ppwp/52/72/04/10/09/5272041009004-20240216-145742--e3c152ed-5abd-4079-8fa2-f56bed3a1cd1.jpg', None, 'https://sirekap-obj-formc.kpu.go.id/6ac0/pemilu/ppwp/52/72/04/10/09/5272041009004-20240216-145742--0bb3b9e9-2309-4c62-9b34-f415aa4458e2.jpg')\n",
      "writing: ('5272041009005', 0, 0, 0, 257, 2, 259, 0, 'https://sirekap-obj-formc.kpu.go.id/7fed/pemilu/ppwp/52/72/04/10/09/5272041009005-20240216-122908--305d1b69-ea79-42b4-87e7-3252ad33c057.jpg', None, 'https://sirekap-obj-formc.kpu.go.id/7fed/pemilu/ppwp/52/72/04/10/09/5272041009005-20240216-122910--463a26bc-0c1e-4e7d-abea-52c660257e16.jpg')\n",
      "writing: ('5272041009006', 0, 0, 0, 139, 4, 243, 0, 'https://sirekap-obj-formc.kpu.go.id/7afd/pemilu/ppwp/52/72/04/10/09/5272041009006-20240216-140452--177a2b81-c924-41f0-9ee5-ee5df371a6ef.jpg', None, 'https://sirekap-obj-formc.kpu.go.id/7afd/pemilu/ppwp/52/72/04/10/09/5272041009006-20240216-140453--2c81358b-a010-4d84-891e-f0d8d6b86467.jpg')\n",
      "writing: ('5271041003028', 0, 0, 0, 0, 0, 0, 0, 'https://sirekap-obj-formc.kpu.go.id/cfb3/pemilu/ppwp/52/71/04/10/03/5271041003028-20240214-155251--c56314a6-0f4c-4e8a-9e1f-76041e722ac6.jpg', 'https://sirekap-obj-formc.kpu.go.id/cfb3/pemilu/ppwp/52/71/04/10/03/5271041003028-20240214-155518--7b643cf0-9cc5-4ac3-ad2d-feaff43f4b05.jpg', None)\n",
      "writing: ('5205012015006', 69, 118, 3, 190, 11, 201, 190, 'https://sirekap-obj-formc.kpu.go.id/db68/pemilu/ppwp/52/05/01/20/15/5205012015006-20240215-104304--a5664c81-a0c4-4b4d-a8f3-5ccf72f1c14d.jpg', 'https://sirekap-obj-formc.kpu.go.id/db68/pemilu/ppwp/52/05/01/20/15/5205012015006-20240215-104644--cfdab8e2-4cce-4154-bc6f-c3748aeb4c3a.jpg', 'https://sirekap-obj-formc.kpu.go.id/db68/pemilu/ppwp/52/05/01/20/15/5205012015006-20240215-104806--fdf94187-c665-4731-b436-302984a25ba4.jpg')\n",
      "writing: ('5271011012001', 0, 0, 0, 183, 4, 187, 0, 'https://sirekap-obj-formc.kpu.go.id/225f/pemilu/ppwp/52/71/01/10/12/5271011012001-20240216-075017--2f3a9517-2d80-4d13-b815-8e0b9bf88ebc.jpg', None, 'https://sirekap-obj-formc.kpu.go.id/225f/pemilu/ppwp/52/71/01/10/12/5271011012001-20240216-075018--fd29b997-8006-48cc-8399-bfd0103abe40.jpg')\n",
      "writing: ('5271011012002', 0, 0, 0, 0, 0, 0, 0, None, None, None)\n",
      "writing: ('5271011012004', 0, 0, 0, 178, 5, 183, 0, 'https://sirekap-obj-formc.kpu.go.id/5921/pemilu/ppwp/52/71/01/10/12/5271011012004-20240216-112411--52ce2e53-4b44-4dd8-81a9-6f668b6d8532.jpg', None, 'https://sirekap-obj-formc.kpu.go.id/5921/pemilu/ppwp/52/71/01/10/12/5271011012004-20240216-112853--bdf6654f-548d-417d-ba5c-dc90fb6d4904.jpg')\n",
      "writing: ('5271011012005', 0, 0, 0, 0, 0, 0, 0, None, None, None)\n",
      "writing: ('5271011012008', 0, 0, 0, 0, 0, 0, 0, None, None, None)\n",
      "writing: ('5271011012006', 0, 0, 0, 0, 0, 0, 0, None, None, None)\n",
      "writing: ('5271011012007', 0, 0, 0, 0, 0, 0, 0, None, None, None)\n",
      "writing: ('5271011012009', 0, 0, 0, 0, 0, 0, 0, 'https://sirekap-obj-formc.kpu.go.id/7759/pemilu/ppwp/52/71/01/10/12/5271011012009-20240215-005650--16834123-c946-4d90-aeea-bd2f7b9d5b6e.jpg', 'https://sirekap-obj-formc.kpu.go.id/7759/pemilu/ppwp/52/71/01/10/12/5271011012009-20240215-005527--1d2b9c3b-6444-4d5b-bb4d-bc616ad47f91.jpg', 'https://sirekap-obj-formc.kpu.go.id/7759/pemilu/ppwp/52/71/01/10/12/5271011012009-20240215-005748--be0f6d9f-a5a4-46a1-9426-ae92195b59b3.jpg')\n",
      "writing: ('5271011012014', 0, 0, 0, 0, 0, 0, 0, None, None, None)\n",
      "writing: ('5271011012010', 0, 0, 0, 0, 0, 0, 0, None, None, None)\n",
      "writing: ('5271011012015', 0, 0, 0, 246, 4, 250, 0, 'https://sirekap-obj-formc.kpu.go.id/3f58/pemilu/ppwp/52/71/01/10/12/5271011012015-20240216-180131--a5d8d053-30eb-4223-a988-9cee1b931ccc.jpg', None, 'https://sirekap-obj-formc.kpu.go.id/3f58/pemilu/ppwp/52/71/01/10/12/5271011012015-20240216-180132--35cbcaa5-9360-4b6d-979e-4aab2f27844a.jpg')\n",
      "writing: ('5271011012017', 0, 0, 0, 0, 0, 0, 0, None, None, None)\n",
      "writing: ('5271011012013', 0, 0, 0, 0, 0, 0, 0, None, None, None)\n",
      "writing: ('5271011012011', 0, 0, 0, 0, 0, 0, 0, 'https://sirekap-obj-formc.kpu.go.id/468e/pemilu/ppwp/52/71/01/10/12/5271011012011-20240215-002935--8608f813-8fcd-46bf-a69c-dc4160777a09.jpg', 'https://sirekap-obj-formc.kpu.go.id/468e/pemilu/ppwp/52/71/01/10/12/5271011012011-20240215-003129--5241cf26-580d-42ab-a35a-8a50ab8efc21.jpg', 'https://sirekap-obj-formc.kpu.go.id/468e/pemilu/ppwp/52/71/01/10/12/5271011012011-20240215-003309--efb5a7a0-ab55-493c-ab37-b6f617181def.jpg')\n",
      "writing: ('5271011012020', 0, 0, 0, 0, 0, 0, 0, None, None, None)\n",
      "writing: ('5271011012021', 0, 0, 0, 0, 0, 0, 0, None, None, None)\n",
      "writing: ('5271011012022', 0, 0, 0, 221, 10, 231, 0, 'https://sirekap-obj-formc.kpu.go.id/731d/pemilu/ppwp/52/71/01/10/12/5271011012022-20240216-040715--22918bd5-743c-441a-83a3-dc901468ebcf.jpg', None, 'https://sirekap-obj-formc.kpu.go.id/731d/pemilu/ppwp/52/71/01/10/12/5271011012022-20240216-041510--df26b5d1-45fa-449c-ae7f-986a91bb3956.jpg')\n",
      "writing: ('5271011012023', 0, 0, 0, 208, 11, 219, 0, 'https://sirekap-obj-formc.kpu.go.id/2dc1/pemilu/ppwp/52/71/01/10/12/5271011012023-20240216-005118--c73b1839-8ded-4ca1-b889-a7c135f370ac.jpg', None, 'https://sirekap-obj-formc.kpu.go.id/2dc1/pemilu/ppwp/52/71/01/10/12/5271011012023-20240216-005119--ebdde8d5-a11b-46ac-b93a-dc14b63532bb.jpg')\n",
      "writing: ('5271011012018', 0, 0, 0, 218, 6, 224, 0, 'https://sirekap-obj-formc.kpu.go.id/edd6/pemilu/ppwp/52/71/01/10/12/5271011012018-20240216-054056--bb3c5f7e-805b-45ef-922a-0170042d6b48.jpg', None, 'https://sirekap-obj-formc.kpu.go.id/edd6/pemilu/ppwp/52/71/01/10/12/5271011012018-20240216-054057--2b15357b-d3ea-48c2-828e-01e1b07eba4c.jpg')\n",
      "writing: ('5271011012016', 72, 149, 27, 248, 3, 251, 248, 'https://sirekap-obj-formc.kpu.go.id/1f93/pemilu/ppwp/52/71/01/10/12/5271011012016-20240214-224338--9bc3b712-75bb-4e5d-ab77-893f0c8d6fba.jpg', 'https://sirekap-obj-formc.kpu.go.id/1f93/pemilu/ppwp/52/71/01/10/12/5271011012016-20240214-224412--bddc31f6-4bef-49f2-a628-e86e5cfc433a.jpg', 'https://sirekap-obj-formc.kpu.go.id/1f93/pemilu/ppwp/52/71/01/10/12/5271011012016-20240214-224459--54d214dd-b2d3-4399-aca1-e9840b234215.jpg')\n",
      "writing: ('5271011012024', 0, 0, 0, 0, 0, 0, 0, 'https://sirekap-obj-formc.kpu.go.id/2bbf/pemilu/ppwp/52/71/01/10/12/5271011012024-20240215-033827--6ae0f52f-0d3c-4388-81f8-808214d8d467.jpg', 'https://sirekap-obj-formc.kpu.go.id/2bbf/pemilu/ppwp/52/71/01/10/12/5271011012024-20240215-033930--8ecf95a2-1a87-4f63-974d-7066070fdbaa.jpg', None)\n",
      "writing: ('5271011012025', 0, 0, 0, 0, 0, 0, 0, 'https://sirekap-obj-formc.kpu.go.id/978f/pemilu/ppwp/52/71/01/10/12/5271011012025-20240215-013815--1f687419-d409-4366-8abc-c9b0054400e7.jpg', 'https://sirekap-obj-formc.kpu.go.id/978f/pemilu/ppwp/52/71/01/10/12/5271011012025-20240215-014638--7712c955-ea25-43ad-81cb-8c42e0a59034.jpg', 'https://sirekap-obj-formc.kpu.go.id/978f/pemilu/ppwp/52/71/01/10/12/5271011012025-20240215-013831--b3b06aba-799d-4546-8e87-69a075913109.jpg')\n",
      "writing: ('5271011012019', 0, 0, 0, 0, 0, 0, 0, 'https://sirekap-obj-formc.kpu.go.id/3c34/pemilu/ppwp/52/71/01/10/12/5271011012019-20240215-042103--ef89758c-b686-4a6d-aaa1-2887dc039a6e.jpg', 'https://sirekap-obj-formc.kpu.go.id/3c34/pemilu/ppwp/52/71/01/10/12/5271011012019-20240215-041851--be774226-f5a7-413b-b3d3-f49730c59a14.jpg', 'https://sirekap-obj-formc.kpu.go.id/3c34/pemilu/ppwp/52/71/01/10/12/5271011012019-20240215-042010--c5526d27-40ca-434c-afa5-66d3ce49782d.jpg')\n",
      "writing: ('5203082001011', 22, 59, 4, 85, 0, 85, 85, 'https://sirekap-obj-formc.kpu.go.id/259c/pemilu/ppwp/52/03/08/20/01/5203082001011-20240214-213813--6511df0f-a887-4e0d-9212-26b13e7176e7.jpg', 'https://sirekap-obj-formc.kpu.go.id/259c/pemilu/ppwp/52/03/08/20/01/5203082001011-20240214-205020--9ea2b532-dc9a-458d-8615-50bfb80795a8.jpg', 'https://sirekap-obj-formc.kpu.go.id/259c/pemilu/ppwp/52/03/08/20/01/5203082001011-20240214-205202--ab58ee4a-8347-4e0b-a0f3-7b5edbc4cd89.jpg')\n",
      "writing: ('5203082014013', 0, 0, 0, 0, 0, 0, 0, None, None, None)\n",
      "writing: ('5203082014004', 0, 0, 0, 0, 0, 0, 0, None, None, None)\n",
      "writing: ('5206132001001', 79, 105, 2, 186, 0, 186, 186, 'https://sirekap-obj-formc.kpu.go.id/29cd/pemilu/ppwp/52/06/13/20/01/5206132001001-20240215-111453--1889a16b-ddc0-4a15-9932-2568ccd21905.jpg', 'https://sirekap-obj-formc.kpu.go.id/29cd/pemilu/ppwp/52/06/13/20/01/5206132001001-20240215-111515--49f57d2e-d123-4695-a929-4bd77328155e.jpg', 'https://sirekap-obj-formc.kpu.go.id/29cd/pemilu/ppwp/52/06/13/20/01/5206132001001-20240215-111534--eb3ec860-9ed3-4379-b642-cbf5739b5f9e.jpg')\n",
      "writing: ('5206132001004', 0, 0, 0, 0, 0, 0, 0, None, None, None)\n",
      "writing: ('5271051001003', 2, 140, 86, 0, 0, 0, 228, 'https://sirekap-obj-formc.kpu.go.id/0117/pemilu/ppwp/52/71/05/10/01/5271051001003-20240214-222953--ff6efcd2-7c4d-43b4-afe9-1a0f0011bf8a.jpg', 'https://sirekap-obj-formc.kpu.go.id/0117/pemilu/ppwp/52/71/05/10/01/5271051001003-20240214-203636--68687739-ad49-4fbb-abed-9f9cbf7c1dbc.jpg', 'https://sirekap-obj-formc.kpu.go.id/0117/pemilu/ppwp/52/71/05/10/01/5271051001003-20240214-203653--2b688249-8acd-4de3-a48d-d160065e2b7c.jpg')\n",
      "writing: ('5206132001002', 71, 101, 1, 173, 0, 173, 173, 'https://sirekap-obj-formc.kpu.go.id/c152/pemilu/ppwp/52/06/13/20/01/5206132001002-20240215-093208--f5761050-9762-4c2e-9a1b-e08069e98408.jpg', 'https://sirekap-obj-formc.kpu.go.id/c152/pemilu/ppwp/52/06/13/20/01/5206132001002-20240215-093242--87c7fdf3-cdf4-4359-9d05-31dfbc6e3d75.jpg', 'https://sirekap-obj-formc.kpu.go.id/c152/pemilu/ppwp/52/06/13/20/01/5206132001002-20240215-093307--09f2f555-d20f-4a33-ad51-f32769678f1d.jpg')\n",
      "writing: ('5206132001007', 48, 155, 5, 208, 6, 214, 208, 'https://sirekap-obj-formc.kpu.go.id/d1ca/pemilu/ppwp/52/06/13/20/01/5206132001007-20240214-230733--e0bda303-732d-4acc-8b94-2f380f07ca28.jpg', 'https://sirekap-obj-formc.kpu.go.id/d1ca/pemilu/ppwp/52/06/13/20/01/5206132001007-20240214-203243--9e6ddbfd-1726-47f1-832a-74864e77e604.jpg', 'https://sirekap-obj-formc.kpu.go.id/d1ca/pemilu/ppwp/52/06/13/20/01/5206132001007-20240214-203502--4992a323-4f27-4ba9-95a9-e5f7a32dee6b.jpg')\n",
      "writing: ('5271051003039', 0, 0, 0, 0, 0, 0, 0, 'https://sirekap-obj-formc.kpu.go.id/dcd5/pemilu/ppwp/52/71/05/10/03/5271051003039-20240217-082413--40ff28f6-a9a1-4809-b71e-a631ba564e5d.jpg', None, None)\n",
      "writing: ('5206132001005', 41, 89, 3, 0, 0, 0, 133, 'https://sirekap-obj-formc.kpu.go.id/517c/pemilu/ppwp/52/06/13/20/01/5206132001005-20240215-000036--fe210599-fe7c-486c-9b86-72ea8a679d10.jpg', 'https://sirekap-obj-formc.kpu.go.id/517c/pemilu/ppwp/52/06/13/20/01/5206132001005-20240215-000242--7573ceb8-e432-44a8-b998-e77006f38e9f.jpg', 'https://sirekap-obj-formc.kpu.go.id/517c/pemilu/ppwp/52/06/13/20/01/5206132001005-20240215-000449--d76172e7-df23-4415-80e9-3064e542670a.jpg')\n",
      "writing: ('5206132001008', 0, 0, 0, 0, 0, 0, 0, 'https://sirekap-obj-formc.kpu.go.id/5e09/pemilu/ppwp/52/06/13/20/01/5206132001008-20240215-104209--9ee67902-94bc-4f7c-bcf4-09a737802172.jpg', 'https://sirekap-obj-formc.kpu.go.id/5e09/pemilu/ppwp/52/06/13/20/01/5206132001008-20240215-104520--2f3c9198-34f2-4596-bd7f-1edbb77038a7.jpg', 'https://sirekap-obj-formc.kpu.go.id/5e09/pemilu/ppwp/52/06/13/20/01/5206132001008-20240215-104939--a2c040dd-d5f3-49c5-a6d1-b336a14f2fd2.jpg')\n",
      "writing: ('5206132001009', 0, 0, 0, 0, 0, 0, 0, 'https://sirekap-obj-formc.kpu.go.id/93bf/pemilu/ppwp/52/06/13/20/01/5206132001009-20240215-074822--19e03be6-8547-4632-aa11-7345ffa10d5d.jpg', 'https://sirekap-obj-formc.kpu.go.id/93bf/pemilu/ppwp/52/06/13/20/01/5206132001009-20240215-074057--a07201d0-3c85-4dd7-98a4-0ae65bb280fb.jpg', 'https://sirekap-obj-formc.kpu.go.id/93bf/pemilu/ppwp/52/06/13/20/01/5206132001009-20240215-074223--a81efe39-afe9-45d1-acad-3959d5d69648.jpg')\n",
      "writing: ('5206132001011', 93, 96, 4, 0, 0, 0, 193, 'https://sirekap-obj-formc.kpu.go.id/2ee6/pemilu/ppwp/52/06/13/20/01/5206132001011-20240216-063240--93f00038-baab-40ba-8d53-bb3d17c20f20.jpg', 'https://sirekap-obj-formc.kpu.go.id/2ee6/pemilu/ppwp/52/06/13/20/01/5206132001011-20240216-063253--89fa3b9a-c3af-4fa1-85bf-498ddd26b38e.jpg', 'https://sirekap-obj-formc.kpu.go.id/2ee6/pemilu/ppwp/52/06/13/20/01/5206132001011-20240216-063310--d339f232-6d87-49da-a106-20529ed3c3ae.jpg')\n",
      "writing: ('5206132001013', 54, 70, 1, 0, 0, 0, 125, 'https://sirekap-obj-formc.kpu.go.id/f544/pemilu/ppwp/52/06/13/20/01/5206132001013-20240215-103755--3dc4c1ca-f1f2-40c3-bbb1-8c29ee00dd74.jpg', 'https://sirekap-obj-formc.kpu.go.id/f544/pemilu/ppwp/52/06/13/20/01/5206132001013-20240215-102844--e53c5170-c82b-4810-a227-14d0dfc2286e.jpg', 'https://sirekap-obj-formc.kpu.go.id/f544/pemilu/ppwp/52/06/13/20/01/5206132001013-20240215-102905--3dff42e4-e18a-4a20-b17c-893463b2c051.jpg')writing: ('5206132001010', 0, 0, 0, 0, 0, 0, 0, None, None, None)\n",
      "writing: ('5206132001014', 0, 0, 0, 0, 0, 0, 0, None, None, None)\n",
      "\n",
      "writing: ('5206132001012', 57, 88, 1, 146, 6, 152, 146, 'https://sirekap-obj-formc.kpu.go.id/de76/pemilu/ppwp/52/06/13/20/01/5206132001012-20240214-200521--6668a920-8537-40b5-96a4-2fff13ca8c7a.jpg', 'https://sirekap-obj-formc.kpu.go.id/de76/pemilu/ppwp/52/06/13/20/01/5206132001012-20240214-200527--1e6d3003-44c6-4644-82b3-0544d75db72d.jpg', 'https://sirekap-obj-formc.kpu.go.id/de76/pemilu/ppwp/52/06/13/20/01/5206132001012-20240214-200534--21619acf-1fcd-4159-b172-b921726b25e0.jpg')\n",
      "writing: ('5206132001015', 46, 105, 2, 153, 1, 154, 153, 'https://sirekap-obj-formc.kpu.go.id/1117/pemilu/ppwp/52/06/13/20/01/5206132001015-20240214-141207--ebdd8bf8-e256-4b9a-b64b-2f44b005cb46.jpg', 'https://sirekap-obj-formc.kpu.go.id/1117/pemilu/ppwp/52/06/13/20/01/5206132001015-20240215-092101--a196612a-c76a-4160-96e0-885b3adf452e.jpg', 'https://sirekap-obj-formc.kpu.go.id/1117/pemilu/ppwp/52/06/13/20/01/5206132001015-20240215-092204--d52e043c-14e6-4821-9fdf-637ddc53f5a7.jpg')\n",
      "writing: ('5206132001016', 0, 0, 0, 0, 0, 0, 0, None, None, None)\n",
      "writing: ('5203082005001', 110, 136, 8, 254, 0, 254, 254, 'https://sirekap-obj-formc.kpu.go.id/7929/pemilu/ppwp/52/03/08/20/05/5203082005001-20240214-234156--bce26584-b9eb-4675-bc21-4d4fa4e9c45f.jpg', 'https://sirekap-obj-formc.kpu.go.id/7929/pemilu/ppwp/52/03/08/20/05/5203082005001-20240214-234249--edb157f6-c147-4a83-9499-7152edcb2651.jpg', 'https://sirekap-obj-formc.kpu.go.id/7929/pemilu/ppwp/52/03/08/20/05/5203082005001-20240214-234332--e9b505aa-d1f2-46b8-beb0-2c5b642698cd.jpg')\n",
      "writing: ('5203082005005', 73, 133, 3, 209, 7, 216, 209, 'https://sirekap-obj-formc.kpu.go.id/9143/pemilu/ppwp/52/03/08/20/05/5203082005005-20240216-151729--cbbbef3e-5d2f-48fd-93c3-63981e5c50a5.jpg', 'https://sirekap-obj-formc.kpu.go.id/9143/pemilu/ppwp/52/03/08/20/05/5203082005005-20240216-151730--c4e97db2-1593-40fd-9021-46ddd700d1b1.jpg', 'https://sirekap-obj-formc.kpu.go.id/9143/pemilu/ppwp/52/03/08/20/05/5203082005005-20240216-151730--a17dcfce-bf5c-4d3f-a506-170a4b36e65f.jpg')writing: ('5203082005002', 93, 107, 13, 213, 4, 217, 213, 'https://sirekap-obj-formc.kpu.go.id/edc7/pemilu/ppwp/52/03/08/20/05/5203082005002-20240216-205413--01242446-9941-4957-a842-3f553ef019e6.jpg', 'https://sirekap-obj-formc.kpu.go.id/edc7/pemilu/ppwp/52/03/08/20/05/5203082005002-20240216-205415--fdfc0e9c-6f1b-4306-abf4-43d828713ab6.jpg', 'https://sirekap-obj-formc.kpu.go.id/edc7/pemilu/ppwp/52/03/08/20/05/5203082005002-20240216-205414--32f0206a-067e-447d-a7db-65bf32dee4bd.jpg')\n",
      "\n",
      "writing: ('5203082005007', 0, 0, 0, 0, 0, 0, 0, None, None, None)\n",
      "writing: ('5203082005006', 99, 84, 1, 184, 7, 191, 184, 'https://sirekap-obj-formc.kpu.go.id/0763/pemilu/ppwp/52/03/08/20/05/5203082005006-20240216-021223--8799bee5-6dee-4591-aa0f-3e9f294bf7b9.jpg', 'https://sirekap-obj-formc.kpu.go.id/0763/pemilu/ppwp/52/03/08/20/05/5203082005006-20240216-054006--b072f260-9c6f-4e94-b3ce-3e620d055124.jpg', 'https://sirekap-obj-formc.kpu.go.id/0763/pemilu/ppwp/52/03/08/20/05/5203082005006-20240216-021224--e88f9be9-447d-4e94-9066-d7aebd189fea.jpg')\n",
      "writing: ('5203082005008', 109, 115, 4, 0, 0, 0, 228, 'https://sirekap-obj-formc.kpu.go.id/5b87/pemilu/ppwp/52/03/08/20/05/5203082005008-20240214-214615--dbf17ade-6d48-477e-84ac-36c3f8aff747.jpg', 'https://sirekap-obj-formc.kpu.go.id/5b87/pemilu/ppwp/52/03/08/20/05/5203082005008-20240214-214941--075af059-c54d-4b58-9ce5-712670a6a047.jpg', 'https://sirekap-obj-formc.kpu.go.id/5b87/pemilu/ppwp/52/03/08/20/05/5203082005008-20240214-215424--aaff39da-f2f5-4674-83b0-31291dc29e5f.jpg')\n",
      "writing: ('5203082005010', 0, 0, 0, 0, 0, 0, 0, 'https://sirekap-obj-formc.kpu.go.id/f97b/pemilu/ppwp/52/03/08/20/05/5203082005010-20240215-193237--50f70e4a-07ff-4555-a937-0bc52c379ae6.jpg', None, None)\n",
      "writing: ('5203082005012', 37, 116, 9, 162, 1, 163, 162, 'https://sirekap-obj-formc.kpu.go.id/19b1/pemilu/ppwp/52/03/08/20/05/5203082005012-20240214-205834--bfceaf18-67d8-4e8c-84e3-e90d7acb26ac.jpg', 'https://sirekap-obj-formc.kpu.go.id/19b1/pemilu/ppwp/52/03/08/20/05/5203082005012-20240214-205843--bf9b621d-3027-4bf0-b0a4-00d87184a166.jpg', 'https://sirekap-obj-formc.kpu.go.id/19b1/pemilu/ppwp/52/03/08/20/05/5203082005012-20240214-205847--4d828986-e4c7-4621-956a-ddc59141a83b.jpg')writing: ('5203082005009', 98, 114, 8, 0, 0, 0, 220, 'https://sirekap-obj-formc.kpu.go.id/d939/pemilu/ppwp/52/03/08/20/05/5203082005009-20240215-023947--0c4e7889-aeee-4a49-b0f6-b7665293ae52.jpg', 'https://sirekap-obj-formc.kpu.go.id/d939/pemilu/ppwp/52/03/08/20/05/5203082005009-20240215-024340--55a25651-359e-404c-bf3d-b4aeac337054.jpg', 'https://sirekap-obj-formc.kpu.go.id/d939/pemilu/ppwp/52/03/08/20/05/5203082005009-20240215-024436--280a10da-dff2-4ba2-8e03-e2e2a804343b.jpg')\n",
      "\n",
      "writing: ('5203082005011', 0, 0, 0, 0, 0, 0, 0, None, None, None)\n",
      "writing: ('5203082005013', 0, 0, 0, 0, 0, 0, 0, None, None, None)\n",
      "writing: ('5203082005014', 0, 0, 0, 0, 0, 0, 0, None, None, None)\n",
      "writing: ('5203082005015', 0, 0, 0, 0, 0, 0, 0, None, None, None)\n",
      "writing: ('5203082005016', 42, 164, 8, 0, 0, 0, 214, 'https://sirekap-obj-formc.kpu.go.id/a677/pemilu/ppwp/52/03/08/20/05/5203082005016-20240214-234646--ae3f430d-18a0-4005-90f0-46dcb7f233d9.jpg', 'https://sirekap-obj-formc.kpu.go.id/a677/pemilu/ppwp/52/03/08/20/05/5203082005016-20240214-234747--d694c257-b24a-4090-8af8-3a9d538178cc.jpg', 'https://sirekap-obj-formc.kpu.go.id/a677/pemilu/ppwp/52/03/08/20/05/5203082005016-20240214-234903--c875ea11-2694-4f38-95c7-42b152c9062f.jpg')\n",
      "writing: ('5203082005017', 137, 122, 13, 272, 1, 273, 272, 'https://sirekap-obj-formc.kpu.go.id/db79/pemilu/ppwp/52/03/08/20/05/5203082005017-20240214-194430--ebdb9be0-6e3b-4655-924a-6963d18f6d9f.jpg', 'https://sirekap-obj-formc.kpu.go.id/db79/pemilu/ppwp/52/03/08/20/05/5203082005017-20240214-193636--dd81665d-e75d-43bf-9619-a8d78cede1df.jpg', 'https://sirekap-obj-formc.kpu.go.id/db79/pemilu/ppwp/52/03/08/20/05/5203082005017-20240214-215722--75cc5497-1104-4ca1-bf5d-e9c2ebcbc150.jpg')\n",
      "writing: ('5203082005018', 136, 89, 2, 0, 0, 0, 227, 'https://sirekap-obj-formc.kpu.go.id/64ef/pemilu/ppwp/52/03/08/20/05/5203082005018-20240215-090004--992b780b-8998-4a97-b08f-379184c4fcce.jpg', 'https://sirekap-obj-formc.kpu.go.id/64ef/pemilu/ppwp/52/03/08/20/05/5203082005018-20240215-090144--72726659-af08-491d-a744-328cadf82957.jpg', 'https://sirekap-obj-formc.kpu.go.id/64ef/pemilu/ppwp/52/03/08/20/05/5203082005018-20240215-090401--47669a9f-8b43-4d97-a45c-8ade0f58f661.jpg')writing: ('5203082005019', 19, 178, 16, 213, 9, 222, 213, 'https://sirekap-obj-formc.kpu.go.id/4499/pemilu/ppwp/52/03/08/20/05/5203082005019-20240216-140221--e89a2e49-b034-447c-9381-cb904d3e9a33.jpg', 'https://sirekap-obj-formc.kpu.go.id/4499/pemilu/ppwp/52/03/08/20/05/5203082005019-20240216-140222--1e1d59d2-b23b-425c-a946-faf0a82214d0.jpg', 'https://sirekap-obj-formc.kpu.go.id/4499/pemilu/ppwp/52/03/08/20/05/5203082005019-20240214-232052--89040f95-87a3-46c9-aa97-4eba10669245.jpg')\n",
      "\n",
      "writing: ('5203082005020', 0, 0, 0, 0, 0, 0, 0, None, None, None)\n",
      "writing: ('5203082005023', 39, 162, 17, 0, 0, 0, 218, 'https://sirekap-obj-formc.kpu.go.id/3f5e/pemilu/ppwp/52/03/08/20/05/5203082005023-20240214-205542--997980c8-ae30-4fbb-bf78-cad29317296c.jpg', 'https://sirekap-obj-formc.kpu.go.id/3f5e/pemilu/ppwp/52/03/08/20/05/5203082005023-20240214-205856--18294d8e-94c8-470b-952b-fd7dfbb881bd.jpg', 'https://sirekap-obj-formc.kpu.go.id/3f5e/pemilu/ppwp/52/03/08/20/05/5203082005023-20240214-205953--2a6aa972-9a86-4d0c-a19b-f8574d7d454f.jpg')\n",
      "writing: ('5203082005021', 26, 139, 0, 0, 0, 0, 165, 'https://sirekap-obj-formc.kpu.go.id/e6a2/pemilu/ppwp/52/03/08/20/05/5203082005021-20240215-095923--7b3fbfd6-ea27-49db-8424-c7b2a6b226ab.jpg', 'https://sirekap-obj-formc.kpu.go.id/e6a2/pemilu/ppwp/52/03/08/20/05/5203082005021-20240215-095932--25a38df2-d920-4c3f-97f6-b330cdfff871.jpg', 'https://sirekap-obj-formc.kpu.go.id/e6a2/pemilu/ppwp/52/03/08/20/05/5203082005021-20240215-095938--8d0c7919-ca29-4fa9-b625-23026e121271.jpg')writing: ('5203082005022', 56, 139, 26, 221, 6, 227, 221, 'https://sirekap-obj-formc.kpu.go.id/a9fa/pemilu/ppwp/52/03/08/20/05/5203082005022-20240214-141151--eee93f3c-71e4-40bf-8d77-a4dd54cae098.jpg', 'https://sirekap-obj-formc.kpu.go.id/a9fa/pemilu/ppwp/52/03/08/20/05/5203082005022-20240215-002353--f6cb149e-e299-49cf-b274-6cc9383c4992.jpg', 'https://sirekap-obj-formc.kpu.go.id/a9fa/pemilu/ppwp/52/03/08/20/05/5203082005022-20240214-141056--e97d34ae-b61e-4b0e-a20d-b7dae99b7947.jpg')\n",
      "\n",
      "writing: ('5203082005024', 0, 0, 0, 0, 0, 0, 0, None, None, None)\n",
      "writing: ('5203082005027', 52, 137, 14, 203, 4, 207, 203, 'https://sirekap-obj-formc.kpu.go.id/0683/pemilu/ppwp/52/03/08/20/05/5203082005027-20240214-210732--102ee4ef-f9b1-44a7-b505-e2c3474e7660.jpg', 'https://sirekap-obj-formc.kpu.go.id/0683/pemilu/ppwp/52/03/08/20/05/5203082005027-20240214-230202--c235b980-23e1-4fd2-915c-f6a7a5bc7948.jpg', 'https://sirekap-obj-formc.kpu.go.id/0683/pemilu/ppwp/52/03/08/20/05/5203082005027-20240214-230922--850568f1-5e56-4867-9460-faef504c0118.jpg')\n",
      "writing: ('5203082005026', 0, 0, 0, 0, 0, 0, 0, None, None, None)\n",
      "writing: ('5203082005028', 0, 0, 0, 0, 0, 0, 0, None, None, None)\n",
      "writing: ('5203082005029', 0, 0, 0, 0, 0, 0, 0, None, None, None)\n",
      "writing: ('5203082005025', 40, 127, 7, 174, 5, 179, 174, 'https://sirekap-obj-formc.kpu.go.id/2777/pemilu/ppwp/52/03/08/20/05/5203082005025-20240214-185228--e9edaeb8-814e-46b4-a8b7-66e68db6d50f.jpg', 'https://sirekap-obj-formc.kpu.go.id/2777/pemilu/ppwp/52/03/08/20/05/5203082005025-20240214-184854--15478a7e-056f-4695-a960-c84ce0f56556.jpg', 'https://sirekap-obj-formc.kpu.go.id/2777/pemilu/ppwp/52/03/08/20/05/5203082005025-20240214-184920--d98a369b-fa8d-457c-89df-0da483ecfc3f.jpg')\n",
      "writing: ('5208032005001', 40, 186, 12, 238, 4, 242, 238, 'https://sirekap-obj-formc.kpu.go.id/d160/pemilu/ppwp/52/08/03/20/05/5208032005001-20240214-215133--94f73557-2e4a-4ee6-aa51-f75864a09a51.jpg', 'https://sirekap-obj-formc.kpu.go.id/d160/pemilu/ppwp/52/08/03/20/05/5208032005001-20240214-215154--bb8abc34-4956-4318-9ffd-84e9df1f7f8b.jpg', 'https://sirekap-obj-formc.kpu.go.id/d160/pemilu/ppwp/52/08/03/20/05/5208032005001-20240214-215144--cbae1a74-1e85-4522-90fe-9623cd89d74f.jpg')\n",
      "writing: ('5203192001006', 41, 106, 41, 188, 8, 196, 188, 'https://sirekap-obj-formc.kpu.go.id/691f/pemilu/ppwp/52/03/19/20/01/5203192001006-20240216-140423--d743b89d-66ca-476b-b83e-2d182fec05c8.jpg', 'https://sirekap-obj-formc.kpu.go.id/691f/pemilu/ppwp/52/03/19/20/01/5203192001006-20240216-140425--6097a58d-b9a0-4d85-a9e1-75f6bcb7c22f.jpg', 'https://sirekap-obj-formc.kpu.go.id/691f/pemilu/ppwp/52/03/19/20/01/5203192001006-20240216-140424--e0573942-849f-454e-9b86-580294ffb84d.jpg')\n",
      "writing: ('5272051009009', 103, 126, 7, 236, 5, 241, 236, 'https://sirekap-obj-formc.kpu.go.id/ab23/pemilu/ppwp/52/72/05/10/09/5272051009009-20240215-045305--d0a9b113-f371-4837-999f-deaecab6f553.jpg', 'https://sirekap-obj-formc.kpu.go.id/ab23/pemilu/ppwp/52/72/05/10/09/5272051009009-20240215-045348--e3869fc2-4672-403b-9e0f-6c4dd14b6a1c.jpg', 'https://sirekap-obj-formc.kpu.go.id/ab23/pemilu/ppwp/52/72/05/10/09/5272051009009-20240215-045415--27e5780f-0a51-4c16-a0f5-0f667baaa7ba.jpg')\n",
      "writing: ('5205062012006', 31, 188, 12, 231, 5, 236, 231, 'https://sirekap-obj-formc.kpu.go.id/c93d/pemilu/ppwp/52/05/06/20/12/5205062012006-20240216-052625--a52418a5-777f-4765-8a40-d53e26c1918b.jpg', 'https://sirekap-obj-formc.kpu.go.id/c93d/pemilu/ppwp/52/05/06/20/12/5205062012006-20240216-052638--da1f2059-3372-4071-ab1c-9ddfd8e143e6.jpg', 'https://sirekap-obj-formc.kpu.go.id/c93d/pemilu/ppwp/52/05/06/20/12/5205062012006-20240216-052631--ffe039b5-ab8a-48b7-901f-c023aba0a3d0.jpg')writing: ('5205062003011', 0, 0, 0, 0, 0, 0, 0, None, None, None)\n",
      "\n",
      "writing: ('5272051002004', 113, 134, 19, 0, 0, 0, 266, 'https://sirekap-obj-formc.kpu.go.id/1d2d/pemilu/ppwp/52/72/05/10/02/5272051002004-20240215-081111--35003120-da8b-4983-87fd-f34b1de63046.jpg', 'https://sirekap-obj-formc.kpu.go.id/1d2d/pemilu/ppwp/52/72/05/10/02/5272051002004-20240215-081232--02af68c1-1dba-4fd2-b737-52d75042e3c6.jpg', 'https://sirekap-obj-formc.kpu.go.id/1d2d/pemilu/ppwp/52/72/05/10/02/5272051002004-20240215-081415--75deee74-5f4a-4762-80c6-b7c0a5a7092f.jpg')\n",
      "writing: ('5205062008002', 0, 0, 0, 0, 0, 0, 0, None, None, None)\n",
      "writing: ('5205062008001', 0, 0, 0, 0, 0, 0, 0, None, None, None)\n",
      "writing: ('5205062008003', 0, 0, 0, 183, 0, 183, 0, 'https://sirekap-obj-formc.kpu.go.id/fe3e/pemilu/ppwp/52/05/06/20/08/5205062008003-20240216-132033--69b3fb3b-80f2-42c5-b46b-e9ccb169e1f0.jpg', None, 'https://sirekap-obj-formc.kpu.go.id/fe3e/pemilu/ppwp/52/05/06/20/08/5205062008003-20240216-132033--ae7e024a-bee6-48a2-9cdf-b7b8a3102a7a.jpg')\n",
      "writing: ('5205062008004', 0, 0, 0, 221, 2, 223, 0, 'https://sirekap-obj-formc.kpu.go.id/b675/pemilu/ppwp/52/05/06/20/08/5205062008004-20240216-134558--099680d2-0d23-414a-ac2e-c95f74c144e6.jpg', None, 'https://sirekap-obj-formc.kpu.go.id/b675/pemilu/ppwp/52/05/06/20/08/5205062008004-20240216-134559--aff59909-d4ea-4bb5-a348-ab6b6ba3a080.jpg')\n",
      "writing: ('5205062011001', 16, 180, 6, 202, 8, 210, 202, 'https://sirekap-obj-formc.kpu.go.id/c9c4/pemilu/ppwp/52/05/06/20/11/5205062011001-20240215-133102--f6186091-97eb-47be-8bb8-e723783d5afc.jpg', 'https://sirekap-obj-formc.kpu.go.id/c9c4/pemilu/ppwp/52/05/06/20/11/5205062011001-20240215-133227--f93246b9-353e-4e3f-9576-61f735b362e3.jpg', 'https://sirekap-obj-formc.kpu.go.id/c9c4/pemilu/ppwp/52/05/06/20/11/5205062011001-20240215-133337--67a0bd06-2ebc-4be6-8da4-fb6fe3cb9a7c.jpg')\n",
      "writing: ('5205062011002', 0, 0, 0, 0, 0, 0, 0, None, None, None)\n",
      "writing: ('5205062011004', 0, 0, 0, 248, 1, 249, 0, 'https://sirekap-obj-formc.kpu.go.id/85ca/pemilu/ppwp/52/05/06/20/11/5205062011004-20240216-190443--60886e85-5bf3-41cf-94c8-e5e5e803c7e9.jpg', None, 'https://sirekap-obj-formc.kpu.go.id/85ca/pemilu/ppwp/52/05/06/20/11/5205062011004-20240216-190444--37d37811-30b2-46ab-b207-8bfaf9b5cf00.jpg')\n",
      "writing: ('5272051003003', 126, 107, 11, 244, 0, 244, 244, 'https://sirekap-obj-formc.kpu.go.id/8f7a/pemilu/ppwp/52/72/05/10/03/5272051003003-20240214-194652--b95c4163-c18c-421d-be14-c8c0b3b4d28b.jpg', 'https://sirekap-obj-formc.kpu.go.id/8f7a/pemilu/ppwp/52/72/05/10/03/5272051003003-20240214-194827--1d76e398-9d9e-47b5-9956-46a0f4632e45.jpg', 'https://sirekap-obj-formc.kpu.go.id/8f7a/pemilu/ppwp/52/72/05/10/03/5272051003003-20240214-193006--f0a7974a-0512-44dc-9a41-0cc48465252b.jpg')\n",
      "writing: ('5205062011005', 0, 0, 0, 0, 0, 0, 0, None, None, None)\n",
      "writing: ('5205062011006', 0, 0, 0, 119, 4, 123, 0, 'https://sirekap-obj-formc.kpu.go.id/3901/pemilu/ppwp/52/05/06/20/11/5205062011006-20240216-144449--4a143dec-923f-43ef-911c-12c01fe46d1f.jpg', None, 'https://sirekap-obj-formc.kpu.go.id/3901/pemilu/ppwp/52/05/06/20/11/5205062011006-20240216-144450--f70d18f4-a71e-4994-afa1-6cc197de50d0.jpg')\n",
      "writing: ('5205062011008', 62, 103, 11, 176, 7, 183, 176, 'https://sirekap-obj-formc.kpu.go.id/9b8e/pemilu/ppwp/52/05/06/20/11/5205062011008-20240216-045342--30d0cd41-9779-435a-b3a8-182912a5d6fa.jpg', 'https://sirekap-obj-formc.kpu.go.id/9b8e/pemilu/ppwp/52/05/06/20/11/5205062011008-20240216-045348--93baa9a1-32b5-4e41-9e78-58d2b5558378.jpg', 'https://sirekap-obj-formc.kpu.go.id/9b8e/pemilu/ppwp/52/05/06/20/11/5205062011008-20240216-045346--8f41ec21-670d-4145-89ae-4ddcf9148644.jpg')\n",
      "writing: ('5205062011007', 0, 0, 0, 61, 5, 66, 0, 'https://sirekap-obj-formc.kpu.go.id/dd33/pemilu/ppwp/52/05/06/20/11/5205062011007-20240216-144944--a3ff8470-6752-4866-b77f-a5b8128ef3fa.jpg', None, 'https://sirekap-obj-formc.kpu.go.id/dd33/pemilu/ppwp/52/05/06/20/11/5205062011007-20240216-144944--0b1a546a-a470-449e-9e9c-4c1fa5b30839.jpg')\n",
      "writing: ('5205062011010', 0, 0, 0, 62, 1, 63, 0, 'https://sirekap-obj-formc.kpu.go.id/3ca0/pemilu/ppwp/52/05/06/20/11/5205062011010-20240216-151339--fb62608f-f31e-47f1-a5a0-301dbced4fc5.jpg', None, 'https://sirekap-obj-formc.kpu.go.id/3ca0/pemilu/ppwp/52/05/06/20/11/5205062011010-20240216-151339--34a95050-4308-4442-bd51-081a2dbddecd.jpg')\n",
      "writing: ('5205062011009', 0, 0, 0, 0, 0, 0, 0, None, None, None)\n",
      "writing: ('5203022003001', 91, 108, 38, 237, 2, 239, 237, 'https://sirekap-obj-formc.kpu.go.id/2ab5/pemilu/ppwp/52/03/02/20/03/5203022003001-20240216-131906--0e8ec96b-c688-487c-9948-c791143d5b2d.jpg', 'https://sirekap-obj-formc.kpu.go.id/2ab5/pemilu/ppwp/52/03/02/20/03/5203022003001-20240216-131907--85808fc0-995e-4cab-bd26-4b6e9a6e0bd4.jpg', 'https://sirekap-obj-formc.kpu.go.id/2ab5/pemilu/ppwp/52/03/02/20/03/5203022003001-20240216-131907--d1c4093a-221b-4a65-a47d-00c946625656.jpg')\n",
      "writing: ('5203022003002', 0, 0, 0, 0, 0, 0, 0, None, None, None)\n",
      "writing: ('5203022003003', 42, 115, 34, 191, 2, 193, 191, 'https://sirekap-obj-formc.kpu.go.id/b69e/pemilu/ppwp/52/03/02/20/03/5203022003003-20240216-143522--1d147357-3730-4046-a93f-b76e32e0c3d1.jpg', 'https://sirekap-obj-formc.kpu.go.id/b69e/pemilu/ppwp/52/03/02/20/03/5203022003003-20240216-143523--c8a1939e-8445-4b5b-b785-efca4ca72168.jpg', 'https://sirekap-obj-formc.kpu.go.id/b69e/pemilu/ppwp/52/03/02/20/03/5203022003003-20240216-143523--39cb5f26-0868-4f93-861a-03c31e4e6512.jpg')\n",
      "writing: ('5203022003004', 55, 81, 45, 181, 1, 182, 181, 'https://sirekap-obj-formc.kpu.go.id/66c3/pemilu/ppwp/52/03/02/20/03/5203022003004-20240216-134954--71d03c42-1046-4a3c-b8be-c4e748a14f23.jpg', 'https://sirekap-obj-formc.kpu.go.id/66c3/pemilu/ppwp/52/03/02/20/03/5203022003004-20240216-134955--5bdf4aab-ad13-44e3-bd5c-c48665cb2ad8.jpg', 'https://sirekap-obj-formc.kpu.go.id/66c3/pemilu/ppwp/52/03/02/20/03/5203022003004-20240216-134954--bde3b94d-3003-4e80-ab22-eb8851a7856f.jpg')\n",
      "writing: ('5203022003006', 78, 136, 23, 237, 3, 240, 237, 'https://sirekap-obj-formc.kpu.go.id/93a1/pemilu/ppwp/52/03/02/20/03/5203022003006-20240216-122244--65a51f67-076b-4713-b721-421fa7b47c5f.jpg', 'https://sirekap-obj-formc.kpu.go.id/93a1/pemilu/ppwp/52/03/02/20/03/5203022003006-20240216-122246--f2c50b2b-9217-44a5-9e67-d7a5405f0e33.jpg', 'https://sirekap-obj-formc.kpu.go.id/93a1/pemilu/ppwp/52/03/02/20/03/5203022003006-20240216-122245--6a8b7ffe-010c-43a5-93ea-23a743b7cc04.jpg')\n",
      "writing: ('5203022003005', 77, 61, 19, 0, 0, 0, 157, 'https://sirekap-obj-formc.kpu.go.id/ff1d/pemilu/ppwp/52/03/02/20/03/5203022003005-20240214-220053--98014ca1-a0e8-4167-ba4d-c8b62efafa9c.jpg', 'https://sirekap-obj-formc.kpu.go.id/ff1d/pemilu/ppwp/52/03/02/20/03/5203022003005-20240214-213539--67da211c-6696-4328-9cf9-204e09e49554.jpg', 'https://sirekap-obj-formc.kpu.go.id/ff1d/pemilu/ppwp/52/03/02/20/03/5203022003005-20240214-220621--52ea846a-58da-4780-afa9-5cbebc906fe9.jpg')\n",
      "writing: ('5203022003007', 0, 0, 0, 0, 0, 0, 0, 'https://sirekap-obj-formc.kpu.go.id/eeea/pemilu/ppwp/52/03/02/20/03/5203022003007-20240214-203448--0461c1b8-eb2f-4263-9745-ab55bc99067a.jpg', 'https://sirekap-obj-formc.kpu.go.id/eeea/pemilu/ppwp/52/03/02/20/03/5203022003007-20240215-035658--fc26c8cb-fa8d-44cc-94bb-deb31197f570.jpg', None)writing: ('5203022003008', 49, 96, 13, 0, 0, 0, 158, 'https://sirekap-obj-formc.kpu.go.id/e2ad/pemilu/ppwp/52/03/02/20/03/5203022003008-20240214-201340--b1f1b824-c80f-4e73-bbd4-f376509ab885.jpg', 'https://sirekap-obj-formc.kpu.go.id/e2ad/pemilu/ppwp/52/03/02/20/03/5203022003008-20240214-201659--12d613b6-bfd6-44d2-b4ba-9ab8102159e4.jpg', 'https://sirekap-obj-formc.kpu.go.id/e2ad/pemilu/ppwp/52/03/02/20/03/5203022003008-20240214-201815--f8e2a8ac-938d-4aba-90c3-df7143258bb4.jpg')writing: ('5203022003009', 0, 0, 0, 0, 0, 0, 0, None, None, None)\n",
      "\n",
      "\n",
      "writing: ('5203022003010', 0, 0, 0, 196, 2, 198, 0, 'https://sirekap-obj-formc.kpu.go.id/32df/pemilu/ppwp/52/03/02/20/03/5203022003010-20240216-134943--834b0863-1cf4-48c3-87c1-ab3db07c7538.jpg', None, 'https://sirekap-obj-formc.kpu.go.id/32df/pemilu/ppwp/52/03/02/20/03/5203022003010-20240216-134944--d807a315-237c-46c2-8c49-40d5297c6f38.jpg')\n",
      "writing: ('5203022003011', 0, 0, 0, 0, 0, 0, 0, None, None, None)\n",
      "writing: ('5204022008001', 0, 0, 0, 0, 0, 0, 0, None, None, None)\n",
      "writing: ('5203022003013', 0, 0, 0, 0, 0, 0, 0, 'https://sirekap-obj-formc.kpu.go.id/0f7d/pemilu/ppwp/52/03/02/20/03/5203022003013-20240216-135009--a556867f-f16c-438d-bf1c-4efed92e134b.jpg', None, 'https://sirekap-obj-formc.kpu.go.id/0f7d/pemilu/ppwp/52/03/02/20/03/5203022003013-20240216-135009--7a591440-df06-46dc-86bc-d57c5a87cfdd.jpg')\n",
      "writing: ('5204022008002', 1, 125, 93, 219, 3, 222, 219, 'https://sirekap-obj-formc.kpu.go.id/dd37/pemilu/ppwp/52/04/02/20/08/5204022008002-20240214-141611--0bb0cbef-c728-4715-921a-d9e941d0f627.jpg', 'https://sirekap-obj-formc.kpu.go.id/dd37/pemilu/ppwp/52/04/02/20/08/5204022008002-20240214-141703--f4773700-f72c-47e9-8d1e-ef9d1b451536.jpg', 'https://sirekap-obj-formc.kpu.go.id/dd37/pemilu/ppwp/52/04/02/20/08/5204022008002-20240216-151104--f526c55e-b7b0-48b6-bac8-075f8fcaefe7.jpg')\n",
      "writing: ('5204022008005', 0, 0, 0, 191, 4, 195, 0, 'https://sirekap-obj-formc.kpu.go.id/4254/pemilu/ppwp/52/04/02/20/08/5204022008005-20240216-022957--67a06190-839c-4e33-8150-fba8877780c9.jpg', None, 'https://sirekap-obj-formc.kpu.go.id/4254/pemilu/ppwp/52/04/02/20/08/5204022008005-20240216-022957--b6dd0482-2f6a-4beb-9c17-619a8480bb43.jpg')\n",
      "writing: ('5204022008004', 0, 0, 0, 236, 2, 238, 0, 'https://sirekap-obj-formc.kpu.go.id/9b8e/pemilu/ppwp/52/04/02/20/08/5204022008004-20240216-135549--b93d48fb-140a-4d8e-a70c-98866bc0303b.jpg', None, 'https://sirekap-obj-formc.kpu.go.id/9b8e/pemilu/ppwp/52/04/02/20/08/5204022008004-20240216-135550--4d7146c4-cab0-4671-802f-ebcc4efb9c99.jpg')\n",
      "writing: ('5203022003012', 0, 0, 0, 214, 1, 215, 0, 'https://sirekap-obj-formc.kpu.go.id/8927/pemilu/ppwp/52/03/02/20/03/5203022003012-20240216-140142--b98aa583-2d54-42c8-ab2d-b4461fef67ce.jpg', None, 'https://sirekap-obj-formc.kpu.go.id/8927/pemilu/ppwp/52/03/02/20/03/5203022003012-20240216-140143--76bd097b-c27e-4e07-aeec-7eaac2641698.jpg')\n",
      "writing: ('5204022008006', 4, 129, 54, 187, 2, 189, 187, 'https://sirekap-obj-formc.kpu.go.id/1de6/pemilu/ppwp/52/04/02/20/08/5204022008006-20240214-141016--c554ba12-0a0a-4779-9f1d-90210494fbbb.jpg', 'https://sirekap-obj-formc.kpu.go.id/1de6/pemilu/ppwp/52/04/02/20/08/5204022008006-20240214-141826--f0fa0d92-f638-4bd8-85d4-46cd1917f9c0.jpg', 'https://sirekap-obj-formc.kpu.go.id/1de6/pemilu/ppwp/52/04/02/20/08/5204022008006-20240214-192749--a651b820-f083-4679-805a-a642c781042d.jpg')\n",
      "writing: ('5203022002025', 0, 0, 0, 0, 0, 0, 0, None, None, None)writing: ('5204022008007', 3, 141, 76, 220, 1, 221, 220, 'https://sirekap-obj-formc.kpu.go.id/a31f/pemilu/ppwp/52/04/02/20/08/5204022008007-20240215-060551--7d8062bd-d0ea-48cc-9f63-e087fcc5df73.jpg', 'https://sirekap-obj-formc.kpu.go.id/a31f/pemilu/ppwp/52/04/02/20/08/5204022008007-20240215-060614--6fee6f28-8518-43a3-a100-a8a5aeb38e33.jpg', 'https://sirekap-obj-formc.kpu.go.id/a31f/pemilu/ppwp/52/04/02/20/08/5204022008007-20240215-060602--ef745bc9-9f1a-4939-b8c0-2e61bf339af9.jpg')\n",
      "\n",
      "writing: ('5204022008009', 2, 94, 74, 170, 1, 171, 170, 'https://sirekap-obj-formc.kpu.go.id/ee27/pemilu/ppwp/52/04/02/20/08/5204022008009-20240215-114303--2f9e260f-53a6-401d-a085-1154223eb862.jpg', 'https://sirekap-obj-formc.kpu.go.id/ee27/pemilu/ppwp/52/04/02/20/08/5204022008009-20240215-075813--266e25e3-518f-45dc-85d3-90521cc74397.jpg', 'https://sirekap-obj-formc.kpu.go.id/ee27/pemilu/ppwp/52/04/02/20/08/5204022008009-20240215-080535--057de9b2-3a93-4c67-93bb-a704f228dc1a.jpg')\n",
      "writing: ('5204022008010', 2, 92, 39, 133, 1, 134, 133, 'https://sirekap-obj-formc.kpu.go.id/19b7/pemilu/ppwp/52/04/02/20/08/5204022008010-20240214-223808--5f131cf1-4d0a-402c-b3d2-233bf3f05869.jpg', 'https://sirekap-obj-formc.kpu.go.id/19b7/pemilu/ppwp/52/04/02/20/08/5204022008010-20240214-184805--4aecfe74-fbd4-4870-9d7f-42cf3a930f0a.jpg', 'https://sirekap-obj-formc.kpu.go.id/19b7/pemilu/ppwp/52/04/02/20/08/5204022008010-20240214-184823--861971b4-0dcb-4fee-ac53-954e9db5380e.jpg')\n",
      "writing: ('5203022005002', 0, 0, 0, 204, 3, 207, 0, 'https://sirekap-obj-formc.kpu.go.id/fe4c/pemilu/ppwp/52/03/02/20/05/5203022005002-20240216-144628--861c0a1f-2c56-4fd4-8afc-a9b289c56c03.jpg', None, 'https://sirekap-obj-formc.kpu.go.id/fe4c/pemilu/ppwp/52/03/02/20/05/5203022005002-20240216-144628--65ac44fb-000c-41a4-9fb5-30153bf882d3.jpg')\n",
      "writing: ('5203022005001', 0, 0, 0, 218, 8, 226, 0, 'https://sirekap-obj-formc.kpu.go.id/af15/pemilu/ppwp/52/03/02/20/05/5203022005001-20240216-140635--b4d37c4f-a304-4297-850b-54e3304a9614.jpg', None, 'https://sirekap-obj-formc.kpu.go.id/af15/pemilu/ppwp/52/03/02/20/05/5203022005001-20240216-140635--37130f22-5e5a-4ac1-801a-44593f762785.jpg')\n",
      "writing: ('5203022005003', 0, 0, 0, 206, 7, 213, 0, 'https://sirekap-obj-formc.kpu.go.id/a7cb/pemilu/ppwp/52/03/02/20/05/5203022005003-20240216-135043--5577d5c9-6eb7-4a80-bf25-edbb5a29aa37.jpg', None, 'https://sirekap-obj-formc.kpu.go.id/a7cb/pemilu/ppwp/52/03/02/20/05/5203022005003-20240216-135044--5eb61f04-a3fb-4892-868a-75ebbeb24519.jpg')\n",
      "writing: ('5203022005004', 0, 0, 0, 200, 2, 202, 0, 'https://sirekap-obj-formc.kpu.go.id/7d1d/pemilu/ppwp/52/03/02/20/05/5203022005004-20240216-132550--86f06336-38d9-4c9e-bb4b-22679cf2df61.jpg', None, 'https://sirekap-obj-formc.kpu.go.id/7d1d/pemilu/ppwp/52/03/02/20/05/5203022005004-20240216-132551--fe606d75-4d0a-4b1c-931b-0c6c3dde5175.jpg')\n",
      "writing: ('5203022005005', 0, 0, 0, 212, 6, 218, 0, 'https://sirekap-obj-formc.kpu.go.id/cc20/pemilu/ppwp/52/03/02/20/05/5203022005005-20240216-152319--5e1fab82-a4dc-491c-94a7-d1f89cd0b7ae.jpg', None, 'https://sirekap-obj-formc.kpu.go.id/cc20/pemilu/ppwp/52/03/02/20/05/5203022005005-20240216-152319--569452fc-0220-4a69-b6d6-ddad57c8226d.jpg')\n",
      "writing: ('5203022012001', 0, 0, 0, 203, 3, 206, 0, 'https://sirekap-obj-formc.kpu.go.id/3ba0/pemilu/ppwp/52/03/02/20/12/5203022012001-20240216-190407--0d48b5d7-7167-441a-86d4-237ad3ff3d34.jpg', None, 'https://sirekap-obj-formc.kpu.go.id/3ba0/pemilu/ppwp/52/03/02/20/12/5203022012001-20240216-190408--8baf6790-8a54-4eda-a3dd-e1503a604c33.jpg')\n",
      "writing: ('5203022005006', 0, 0, 0, 0, 0, 0, 0, None, None, None)\n",
      "writing: ('5203022005007', 0, 0, 0, 189, 5, 194, 0, 'https://sirekap-obj-formc.kpu.go.id/f025/pemilu/ppwp/52/03/02/20/05/5203022005007-20240216-135708--8f456120-1787-4408-bfc0-2e25511f3ef4.jpg', None, 'https://sirekap-obj-formc.kpu.go.id/f025/pemilu/ppwp/52/03/02/20/05/5203022005007-20240216-135709--45596d9d-e453-43f8-9eb2-49d991841ee8.jpg')\n",
      "writing: ('5203022012002', 0, 0, 0, 210, 1, 211, 0, 'https://sirekap-obj-formc.kpu.go.id/d294/pemilu/ppwp/52/03/02/20/12/5203022012002-20240216-190519--6c48858d-d0d5-45cd-9101-0fc99f2763c8.jpg', None, 'https://sirekap-obj-formc.kpu.go.id/d294/pemilu/ppwp/52/03/02/20/12/5203022012002-20240216-190519--e6a61e89-895e-41bf-bb4c-bd5131df4653.jpg')\n",
      "writing: ('5203022009001', 58, 130, 19, 0, 0, 0, 207, 'https://sirekap-obj-formc.kpu.go.id/d878/pemilu/ppwp/52/03/02/20/09/5203022009001-20240214-141154--36d96024-86f3-497e-aa7f-1e6170310880.jpg', 'https://sirekap-obj-formc.kpu.go.id/d878/pemilu/ppwp/52/03/02/20/09/5203022009001-20240214-141218--6184afa1-c69b-4011-b521-162382685dc8.jpg', 'https://sirekap-obj-formc.kpu.go.id/d878/pemilu/ppwp/52/03/02/20/09/5203022009001-20240214-141242--cdfba142-bffb-4d47-91d5-c34fc9738a6b.jpg')\n",
      "writing: ('5203022012004', 0, 0, 0, 191, 2, 193, 0, 'https://sirekap-obj-formc.kpu.go.id/d9a8/pemilu/ppwp/52/03/02/20/12/5203022012004-20240216-142327--160dea2e-b06c-45fa-adaa-4575d7e1f376.jpg', None, 'https://sirekap-obj-formc.kpu.go.id/d9a8/pemilu/ppwp/52/03/02/20/12/5203022012004-20240216-142327--c7090f02-dba3-4cb7-be4d-41dab285b54f.jpg')\n",
      "writing: ('5203022012003', 0, 0, 0, 208, 3, 211, 0, 'https://sirekap-obj-formc.kpu.go.id/d3af/pemilu/ppwp/52/03/02/20/12/5203022012003-20240216-133817--ccaa8246-a554-4d0d-a798-3320633d475b.jpg', None, 'https://sirekap-obj-formc.kpu.go.id/d3af/pemilu/ppwp/52/03/02/20/12/5203022012003-20240216-133818--02f34400-aad6-4728-8b7d-b38668019c46.jpg')writing: ('5203022003014', 51, 124, 54, 229, 0, 229, 229, 'https://sirekap-obj-formc.kpu.go.id/25bd/pemilu/ppwp/52/03/02/20/03/5203022003014-20240215-214645--2d0d9d81-ee60-41e4-a632-954c7f010b0d.jpg', 'https://sirekap-obj-formc.kpu.go.id/25bd/pemilu/ppwp/52/03/02/20/03/5203022003014-20240215-214647--5367420b-2b93-4e5a-a2dc-b1849d2ebde2.jpg', 'https://sirekap-obj-formc.kpu.go.id/25bd/pemilu/ppwp/52/03/02/20/03/5203022003014-20240215-214646--9e6b3fc2-5f90-4acd-907e-49d4a399ddb2.jpg')\n",
      "\n",
      "writing: ('5203022009002', 0, 0, 0, 239, 1, 240, 0, 'https://sirekap-obj-formc.kpu.go.id/de7e/pemilu/ppwp/52/03/02/20/09/5203022009002-20240216-144246--bc41057c-5a5e-4a23-8337-1f77f96ff5d9.jpg', None, 'https://sirekap-obj-formc.kpu.go.id/de7e/pemilu/ppwp/52/03/02/20/09/5203022009002-20240216-144247--4a022055-6598-40b8-a0f4-ccdbc8a660cb.jpg')\n",
      "writing: ('5203022009003', 47, 161, 10, 218, 2, 220, 218, 'https://sirekap-obj-formc.kpu.go.id/c7a7/pemilu/ppwp/52/03/02/20/09/5203022009003-20240214-185439--5a0475b6-7597-4536-adf0-f64e0eb7a29c.jpg', 'https://sirekap-obj-formc.kpu.go.id/c7a7/pemilu/ppwp/52/03/02/20/09/5203022009003-20240214-190042--990f8daa-20cb-4753-bee3-4d64a2766e43.jpg', 'https://sirekap-obj-formc.kpu.go.id/c7a7/pemilu/ppwp/52/03/02/20/09/5203022009003-20240214-190600--d56279d1-879f-46e4-bd6b-669a747db36c.jpg')writing: ('5203022012005', 0, 0, 0, 190, 0, 190, 0, 'https://sirekap-obj-formc.kpu.go.id/fd60/pemilu/ppwp/52/03/02/20/12/5203022012005-20240216-144034--a37ca764-e50f-40bd-888c-c5b3502d8b5e.jpg', None, 'https://sirekap-obj-formc.kpu.go.id/fd60/pemilu/ppwp/52/03/02/20/12/5203022012005-20240216-144034--7cafd068-1bd1-44e1-bf96-bce3eaa6f4ae.jpg')\n",
      "\n",
      "writing: ('5203022012006', 0, 0, 0, 195, 2, 197, 0, 'https://sirekap-obj-formc.kpu.go.id/d2ed/pemilu/ppwp/52/03/02/20/12/5203022012006-20240216-135240--745bfa4e-404c-431f-9222-7be94ee2b5ad.jpg', None, 'https://sirekap-obj-formc.kpu.go.id/d2ed/pemilu/ppwp/52/03/02/20/12/5203022012006-20240216-135241--455b7659-70a0-403a-b77d-8503893b7dd2.jpg')\n",
      "writing: ('5203022009005', 0, 0, 0, 0, 0, 0, 0, None, None, None)\n",
      "writing: ('5203022011001', 0, 0, 0, 0, 0, 0, 0, None, None, None)writing: ('5203022009006', 0, 0, 0, 221, 3, 224, 0, 'https://sirekap-obj-formc.kpu.go.id/2038/pemilu/ppwp/52/03/02/20/09/5203022009006-20240216-150353--73b39fc2-d18b-441c-b645-e254a3eb57cd.jpg', None, 'https://sirekap-obj-formc.kpu.go.id/2038/pemilu/ppwp/52/03/02/20/09/5203022009006-20240216-150354--c3b209fe-7bc6-4db7-b05c-89c366a7248c.jpg')\n",
      "\n",
      "writing: ('5203022011003', 0, 0, 0, 0, 0, 0, 0, None, 'https://sirekap-obj-formc.kpu.go.id/3933/pemilu/ppwp/52/03/02/20/11/5203022011003-20240215-195601--3bf6673a-f6fd-45b9-a08f-c8a3bdd12987.jpg', None)\n",
      "writing: ('5203022011002', 0, 0, 0, 185, 1, 186, 0, 'https://sirekap-obj-formc.kpu.go.id/c7a6/pemilu/ppwp/52/03/02/20/11/5203022011002-20240216-134744--20290dd8-7123-43be-927b-43027266ea7d.jpg', None, 'https://sirekap-obj-formc.kpu.go.id/c7a6/pemilu/ppwp/52/03/02/20/11/5203022011002-20240216-134745--69a7a848-72bd-4124-8223-99bba94303fa.jpg')\n",
      "writing: ('5203022004001', 0, 0, 0, 214, 1, 215, 0, 'https://sirekap-obj-formc.kpu.go.id/8a0b/pemilu/ppwp/52/03/02/20/04/5203022004001-20240216-150917--761bd800-cad3-4b51-8df4-634f7989dadd.jpg', None, 'https://sirekap-obj-formc.kpu.go.id/8a0b/pemilu/ppwp/52/03/02/20/04/5203022004001-20240216-150918--1655e856-b4e0-4ee2-b06f-7b9fcb39639c.jpg')\n",
      "writing: ('5203022004002', 0, 0, 0, 0, 0, 0, 0, 'https://sirekap-obj-formc.kpu.go.id/18af/pemilu/ppwp/52/03/02/20/04/5203022004002-20240214-193442--08f60c8b-49a5-426c-a2e0-953d6171e3a8.jpg', None, None)\n",
      "writing: ('5203022011005', 0, 0, 0, 0, 0, 0, 0, None, None, None)\n",
      "writing: ('5203022004003', 0, 0, 0, 229, 3, 232, 0, 'https://sirekap-obj-formc.kpu.go.id/5d67/pemilu/ppwp/52/03/02/20/04/5203022004003-20240216-140212--0ba1dd6f-3cbd-4daf-b653-27b1324ab155.jpg', None, 'https://sirekap-obj-formc.kpu.go.id/5d67/pemilu/ppwp/52/03/02/20/04/5203022004003-20240216-140213--350451f7-256a-4719-a893-628c5ffa20e8.jpg')\n",
      "writing: ('5203022001003', 0, 0, 0, 0, 0, 0, 0, 'https://sirekap-obj-formc.kpu.go.id/d8eb/pemilu/ppwp/52/03/02/20/01/5203022001003-20240214-221107--be914d55-9dd6-440b-9ba6-ac23ea0fbfc8.jpg', 'https://sirekap-obj-formc.kpu.go.id/d8eb/pemilu/ppwp/52/03/02/20/01/5203022001003-20240214-221258--fc27bbb0-fe59-4d60-886d-e6bb4250d5bf.jpg', 'https://sirekap-obj-formc.kpu.go.id/d8eb/pemilu/ppwp/52/03/02/20/01/5203022001003-20240214-214308--46d52db7-2cd3-46a9-8fa7-75944d5f5d2e.jpg')\n",
      "writing: ('5203022004004', 0, 0, 0, 0, 0, 0, 0, 'https://sirekap-obj-formc.kpu.go.id/72e3/pemilu/ppwp/52/03/02/20/04/5203022004004-20240215-142434--b5be2ac4-1f22-454c-99f3-f3fc734ebed7.jpg', 'https://sirekap-obj-formc.kpu.go.id/72e3/pemilu/ppwp/52/03/02/20/04/5203022004004-20240215-142326--9ba2c03b-2052-43ed-9217-7cce6f0b175f.jpg', 'https://sirekap-obj-formc.kpu.go.id/72e3/pemilu/ppwp/52/03/02/20/04/5203022004004-20240215-142423--3f425d5a-4587-4e74-a6e9-cb7a9b8aaede.jpg')\n",
      "writing: ('5203022004005', 0, 0, 0, 222, 2, 224, 0, 'https://sirekap-obj-formc.kpu.go.id/bc81/pemilu/ppwp/52/03/02/20/04/5203022004005-20240216-145338--881f7be5-962d-4c0c-9daf-91a2585169e5.jpg', None, 'https://sirekap-obj-formc.kpu.go.id/bc81/pemilu/ppwp/52/03/02/20/04/5203022004005-20240216-145339--bda6e046-6be9-460f-b478-5fbb39bccbc2.jpg')\n",
      "writing: ('5203022011006', 0, 0, 0, 0, 0, 0, 0, None, None, None)\n",
      "writing: ('5203022004006', 0, 0, 0, 227, 3, 230, 0, 'https://sirekap-obj-formc.kpu.go.id/c28e/pemilu/ppwp/52/03/02/20/04/5203022004006-20240216-140058--41aaa5b7-3fac-4b1b-b835-c617836ec2b7.jpg', None, 'https://sirekap-obj-formc.kpu.go.id/c28e/pemilu/ppwp/52/03/02/20/04/5203022004006-20240216-140059--c6552bb7-b660-47a2-b90a-5670d6090e68.jpg')\n",
      "writing: ('5203022011007', 0, 0, 0, 207, 5, 212, 0, 'https://sirekap-obj-formc.kpu.go.id/bcba/pemilu/ppwp/52/03/02/20/11/5203022011007-20240216-143029--3fb642a3-55a4-4a1e-89b4-6dd9e1c08797.jpg', None, 'https://sirekap-obj-formc.kpu.go.id/bcba/pemilu/ppwp/52/03/02/20/11/5203022011007-20240216-143030--edce602f-ef6f-471d-a9c4-fe5733a52249.jpg')\n"
     ]
    }
   ],
   "source": [
    "get_province()"
   ]
  },
  {
   "cell_type": "code",
   "execution_count": null,
   "metadata": {},
   "outputs": [],
   "source": []
  }
 ],
 "metadata": {
  "kernelspec": {
   "display_name": "Python 3",
   "language": "python",
   "name": "python3"
  },
  "language_info": {
   "codemirror_mode": {
    "name": "ipython",
    "version": 3
   },
   "file_extension": ".py",
   "mimetype": "text/x-python",
   "name": "python",
   "nbconvert_exporter": "python",
   "pygments_lexer": "ipython3",
   "version": "3.7.1"
  }
 },
 "nbformat": 4,
 "nbformat_minor": 2
}
