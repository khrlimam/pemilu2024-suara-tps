{
 "cells": [
  {
   "cell_type": "code",
   "execution_count": 15,
   "metadata": {},
   "outputs": [],
   "source": [
    "import os\n",
    "import requests\n",
    "import multitasking"
   ]
  },
  {
   "cell_type": "code",
   "execution_count": null,
   "metadata": {},
   "outputs": [],
   "source": []
  },
  {
   "cell_type": "code",
   "execution_count": 16,
   "metadata": {},
   "outputs": [],
   "source": [
    "OUTPUT_LOCATION = \"dataset\"\n",
    "FILE_NAME = \"suara-tps.csv\"\n",
    "dataset_path = os.path.join(OUTPUT_LOCATION, FILE_NAME)\n",
    "BASE_URL = \"https://sirekap-obj-data.kpu.go.id\"\n",
    "PPWP = f'{BASE_URL}/pemilu/ppwp.json'\n",
    "\n",
    "HEADERS = {\n",
    "    'User-Agent': 'Mozilla/5.0 (Macintosh; Intel Mac OS X 10.15; rv:122.0) Gecko/20100101 Firefox/122.0',\n",
    "    'Accept': 'application/json, text/plain, */*',\n",
    "    'Accept-Language': 'en,en-US;q=0.5',\n",
    "    # 'Accept-Encoding': 'gzip, deflate, br',\n",
    "    'Origin': 'https://pemilu2024.kpu.go.id',\n",
    "    'Connection': 'keep-alive',\n",
    "    'Referer': 'https://pemilu2024.kpu.go.id/',\n",
    "    'Sec-Fetch-Dest': 'empty',\n",
    "    'Sec-Fetch-Mode': 'cors',\n",
    "    'Sec-Fetch-Site': 'same-site',\n",
    "    'Sec-GPC': '1',\n",
    "}\n",
    "\n",
    "def base_request(url, *kode):\n",
    "    tree = '/'.join(map(str, kode))\n",
    "    return f\"{url}/{tree}.json\"\n",
    "\n",
    "def wilayah(*kode):\n",
    "    return base_request(f\"{BASE_URL}/wilayah/pemilu/ppwp\", *kode)\n",
    "\n",
    "def hhcw(*kode):\n",
    "    return base_request(f\"{BASE_URL}/pemilu/hhcw/ppwp\", *kode)\n",
    "\n",
    "@multitasking.task\n",
    "def req_parallel(url, fn):\n",
    "    res = requests.get(url, headers=HEADERS).json()\n",
    "    fn(res)\n",
    "    \n",
    "def req(url):\n",
    "    return requests.get(url, headers=HEADERS).json()"
   ]
  },
  {
   "cell_type": "code",
   "execution_count": 22,
   "metadata": {},
   "outputs": [],
   "source": [
    "def create_file():\n",
    "    try:\n",
    "        os.makedirs(OUTPUT_LOCATION)\n",
    "        with open(dataset_path, 'a') as f:\n",
    "            f.write(\"tps,paslon01,paslon02,paslon03,suara_sah,suara_tidak_sah,total_suara,total_suara_paslon,img1,img2,img3\\n\")\n",
    "    except:\n",
    "        print(\"file %s exists\" % dataset_path)\n",
    "\n",
    "def write(*data):\n",
    "    print(f\"writing: {data[:-3]}\")\n",
    "    with open(dataset_path, 'a') as f:\n",
    "        f.write(f\"{','.join(map(str, data))}\\n\")"
   ]
  },
  {
   "cell_type": "code",
   "execution_count": 29,
   "metadata": {},
   "outputs": [],
   "source": [
    "def safe_get(obj, key, default=\"-\"):\n",
    "    try:\n",
    "        return obj.get(key, default)\n",
    "    except:\n",
    "        return default;"
   ]
  },
  {
   "cell_type": "code",
   "execution_count": 30,
   "metadata": {},
   "outputs": [],
   "source": [
    "@multitasking.task\n",
    "def get_province(kode=0):\n",
    "    req_parallel(wilayah(kode), lambda item: loop_province(item))\n",
    "    \n",
    "def loop_province(data):\n",
    "    for prov in data:\n",
    "        get_kabupaten(prov.get(\"kode\"))\n",
    "\n",
    "@multitasking.task\n",
    "def get_kabupaten(prov):\n",
    "    req_parallel(wilayah(prov), lambda item: loop_kabupaten(prov, item))\n",
    "    \n",
    "def loop_kabupaten(prov, data):\n",
    "    for kab in data:\n",
    "        get_kecamatan(prov, kab.get(\"kode\"))\n",
    "\n",
    "@multitasking.task\n",
    "def get_kecamatan(prov, kab):\n",
    "    req_parallel(wilayah(prov, kab), lambda item: loop_kecamatan(prov, kab, item))\n",
    "    \n",
    "def loop_kecamatan(prov, kab, data):\n",
    "    for kec in data:\n",
    "        get_lurah(prov, kab, kec.get(\"kode\"))\n",
    "\n",
    "@multitasking.task\n",
    "def get_lurah(prov, kab, kec):\n",
    "    req_parallel(wilayah(prov, kab, kec), lambda item: loop_lurah(prov, kab, kec, item))\n",
    "\n",
    "def loop_lurah(prov, kab, kec, data):\n",
    "    for lurah in data:\n",
    "        get_tps(prov, kab, kec, lurah.get(\"kode\"))\n",
    "    \n",
    "\n",
    "@multitasking.task\n",
    "def get_tps(prov, kab, kec, lurah):\n",
    "    req_parallel(wilayah(prov, kab, kec, lurah), lambda item: loop_tps(prov, kab, kec, lurah, item))\n",
    "    \n",
    "def loop_tps(prov, kab, kec, lurah, data):\n",
    "    for tps in data:\n",
    "        suara_tps(prov, kab, kec, lurah, tps)\n",
    "\n",
    "@multitasking.task\n",
    "def suara_tps(prov, kab, kec, lurah, tps):\n",
    "    suara = req(hhcw(prov, kab, kec, lurah, tps.get(\"kode\")))\n",
    "    process_suara(tps, suara)\n",
    "    \n",
    "def process_suara(tps, suara):\n",
    "    kode_tps = tps.get(\"kode\")\n",
    "    nama_tps = tps.get(\"nama\")\n",
    "    administrasi = safe_get(suara, 'administrasi', {})\n",
    "    img1, img2, img3 = tuple(safe_get(suara, 'images', ('-','-','-')))\n",
    "    chart = safe_get(suara, 'chart', {})\n",
    "    suara1 = safe_get(chart, '100025', 0)\n",
    "    suara2 = safe_get(chart, \"100026\", 0)\n",
    "    suara3 = safe_get(chart, \"100027\", 0)\n",
    "    suara_sah = safe_get(administrasi, \"suara_sah\", 0)\n",
    "    suara_tidak_sah = safe_get(administrasi, \"suara_tidak_sah\", 0)\n",
    "    total_suara = safe_get(administrasi, 'suara_total', 0)\n",
    "    total_suara_paslon = int(suara1) + int(suara2) + int(suara3)\n",
    "    write(kode_tps,suara1,suara2,suara3,suara_sah,suara_tidak_sah,total_suara,total_suara_paslon,img1,img2,img3)"
   ]
  },
  {
   "cell_type": "code",
   "execution_count": 35,
   "metadata": {},
   "outputs": [
    {
     "data": {
      "text/plain": [
       "<Thread(Thread-2379, started 123153029853184)>"
      ]
     },
     "execution_count": 35,
     "metadata": {},
     "output_type": "execute_result"
    }
   ],
   "source": [
    "create_file()\n",
    "get_province()"
   ]
  },
  {
   "cell_type": "code",
   "execution_count": null,
   "metadata": {},
   "outputs": [],
   "source": []
  }
 ],
 "metadata": {
  "kernelspec": {
   "display_name": "Python 3",
   "language": "python",
   "name": "python3"
  },
  "language_info": {
   "codemirror_mode": {
    "name": "ipython",
    "version": 3
   },
   "file_extension": ".py",
   "mimetype": "text/x-python",
   "name": "python",
   "nbconvert_exporter": "python",
   "pygments_lexer": "ipython3",
   "version": "3.7.1"
  }
 },
 "nbformat": 4,
 "nbformat_minor": 2
}
